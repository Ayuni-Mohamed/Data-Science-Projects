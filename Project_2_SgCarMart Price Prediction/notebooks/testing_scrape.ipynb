{
 "cells": [
  {
   "cell_type": "code",
   "execution_count": 1,
   "metadata": {},
   "outputs": [],
   "source": [
    "# Importing the necessary packages\n",
    "from bs4 import BeautifulSoup\n",
    "import requests\n",
    "import pandas as pd\n",
    "import numpy as np\n",
    "import time"
   ]
  },
  {
   "cell_type": "code",
   "execution_count": 2,
   "metadata": {},
   "outputs": [],
   "source": [
    "def listing_html_grabber(url):\n",
    "    \"\"\"Returns a list of 100 individual listings per main url\n",
    "    ---\n",
    "    input: Requires a url to scrape from: eg: url = 'https://www.sgcarmart.com/used_cars/listing.php?BRSR=0&RPG=100&AVL=2&VEH=2'\n",
    "    output: a list of 100 individual listings per main url\n",
    "    \"\"\"\n",
    "    \n",
    "    # Base url, or you can think of this as the individual car listing prefix\n",
    "    base_url = 'https://www.sgcarmart.com/used_cars/'\n",
    "    \n",
    "    # Make a request to the website and get the object\n",
    "    content = requests.get(url)\n",
    "\n",
    "    # Parse the HTML text\n",
    "    soup = BeautifulSoup(content.text,'html.parser')\n",
    "\n",
    "    # Find every single URL in the webpage , refer to this post: \n",
    "    # https://stackoverflow.com/questions/46490626/getting-all-links-from-a-page-beautiful-soup\n",
    "    # This returns a list of every tag that contains a link in the webpage\n",
    "    links = soup.find_all('a')\n",
    "\n",
    "    # Create holder for each individual car listing url in a main url\n",
    "    listing_urls = []\n",
    "\n",
    "    for link in links:\n",
    "        # Get the link\n",
    "        suffix = link.get('href')\n",
    "\n",
    "        # Check if 'ID=' and 'DL=' exist in the string\n",
    "        if ('ID=' in suffix) and ('DL=' in suffix):\n",
    "\n",
    "            # Concatenate the two strings if they do\n",
    "            listing_url = base_url + suffix\n",
    "            # Append result to the list\n",
    "            listing_urls.append(listing_url)\n",
    "            \n",
    "    return listing_urls\n",
    "    "
   ]
  },
  {
   "cell_type": "code",
   "execution_count": 3,
   "metadata": {},
   "outputs": [
    {
     "data": {
      "text/plain": [
       "['https://www.sgcarmart.com/used_cars/listing.php?BRSR=0&RPG=100&AVL=2&VEH=2',\n",
       " 'https://www.sgcarmart.com/used_cars/listing.php?BRSR=100&RPG=100&AVL=2&VEH=2']"
      ]
     },
     "execution_count": 3,
     "metadata": {},
     "output_type": "execute_result"
    }
   ],
   "source": [
    "main_page_listing_list = []\n",
    "for idx, link in enumerate(range(2)):\n",
    "    url = \"https://www.sgcarmart.com/used_cars/listing.php?BRSR=\" + str(idx * 100) + \"&RPG=100&AVL=2&VEH=2\"\n",
    "    main_page_listing_list.append(url)\n",
    "    \n",
    "main_page_listing_list\n"
   ]
  },
  {
   "cell_type": "code",
   "execution_count": 4,
   "metadata": {},
   "outputs": [],
   "source": [
    "# Applying Listing URL HTML grabber to each main listing page\n",
    "for main_link in main_page_listing_list:\n",
    "    listing_urls = listing_html_grabber(main_link)\n",
    "    time.sleep(5)"
   ]
  },
  {
   "cell_type": "code",
   "execution_count": 5,
   "metadata": {},
   "outputs": [],
   "source": [
    "def attribute_scraper(listing_url_list):\n",
    "    \"\"\"Accepts a list of individual car listing urls and returns variables of importance for linear regression analysis.\n",
    "    ---\n",
    "    Input: List of urls\n",
    "    Output: Variables\n",
    "    \"\"\"\n",
    "    assert listing_url_list == list, \"Entry has to be a list\"\n",
    "    \n",
    "    time.sleep(5)"
   ]
  },
  {
   "cell_type": "code",
   "execution_count": null,
   "metadata": {},
   "outputs": [],
   "source": []
  }
 ],
 "metadata": {
  "kernelspec": {
   "display_name": "Python [conda env:.conda-metis] *",
   "language": "python",
   "name": "conda-env-.conda-metis-py"
  },
  "language_info": {
   "codemirror_mode": {
    "name": "ipython",
    "version": 3
   },
   "file_extension": ".py",
   "mimetype": "text/x-python",
   "name": "python",
   "nbconvert_exporter": "python",
   "pygments_lexer": "ipython3",
   "version": "3.7.3"
  }
 },
 "nbformat": 4,
 "nbformat_minor": 2
}
