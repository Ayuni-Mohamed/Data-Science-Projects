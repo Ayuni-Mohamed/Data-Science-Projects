{
 "cells": [
  {
   "cell_type": "markdown",
   "metadata": {},
   "source": [
    "http://apps.who.int/gho/data/view.main.MHSUICIDEv?lang=en    (Table to get suicide rates by country. WHO website)  \n",
    "  \n",
    "https://en.wikipedia.org/wiki/List_of_countries_by_suicide_rate  (Wiki page to obtain top 10 highest suicide rates asia countries)"
   ]
  },
  {
   "cell_type": "code",
   "execution_count": null,
   "metadata": {},
   "outputs": [],
   "source": [
    "loop through the table:\n",
    "# run for loop to take out an iterable country from a list of countries you are considering\n",
    "\n",
    "\n",
    "\n",
    "\n",
    "# Data from WHO\n",
    "male_suicide_rate = []\n",
    "female_suicide_rate = []\n",
    "both_suicide_rate = []\n",
    "country_row = []\n",
    "country_list = ['top asia countries with the highest suicide rate as of 2016']\n",
    "\n",
    "number_of_countries = 10\n",
    "df_columns = ['country', 'year', 'suicide rate', 'GDP', 'celebrity_suicides',\n",
    "              'hrs_studying','test_scores','alc_consump','unemployment_rate',\n",
    "              'days_spring','days_summer','days_autumn','days_winter']\n",
    "\n",
    "years_in_database = ['2016', '2015', '2010', '2005', '2000']\n",
    "# Create a loop to loop through the table. \n",
    "# Combine highest suicide rate countries. (Already done that through google)\n",
    "# \n",
    "\n",
    "\n",
    "\n",
    "for country in country_list:\n",
    "    if country_data_cell == 'country':\n",
    "        male_suicide_rate_2016 = tr.find_all\n",
    "        female_sucide_rate_2016 = tr.find_all\n",
    "        both_suicide_rate_2016 = tr.findall\n",
    "        \n",
    "        male_suicide_rate_2015 = tr.find_all\n",
    "        female_sucide_rate_2015 = tr.find_all\n",
    "        both_suicide_rate_2015 = tr.findall\n",
    "        \n",
    "        male_suicide_rate_2010 = tr.find_all\n",
    "        female_sucide_rate_2010 = tr.find_all\n",
    "        both_suicide_rate_2010 = tr.findall\n",
    "        \n",
    "        male_suicide_rate_2005 = tr.find_all\n",
    "        female_sucide_rate_2005 = tr.find_all\n",
    "        both_suicide_rate_2005 = tr.findall\n",
    "        \n",
    "        male_suicide_rate_2000 = tr.find_all\n",
    "        female_sucide_rate_2000 = tr.find_all\n",
    "        both_suicide_rate_2000 = tr.findall\n",
    "        \n",
    "        country_row.append(country)\n"
   ]
  },
  {
   "cell_type": "code",
   "execution_count": null,
   "metadata": {},
   "outputs": [],
   "source": []
  }
 ],
 "metadata": {
  "kernelspec": {
   "display_name": "Python [conda env:.conda-metis] *",
   "language": "python",
   "name": "conda-env-.conda-metis-py"
  },
  "language_info": {
   "codemirror_mode": {
    "name": "ipython",
    "version": 3
   },
   "file_extension": ".py",
   "mimetype": "text/x-python",
   "name": "python",
   "nbconvert_exporter": "python",
   "pygments_lexer": "ipython3",
   "version": "3.7.3"
  }
 },
 "nbformat": 4,
 "nbformat_minor": 2
}
