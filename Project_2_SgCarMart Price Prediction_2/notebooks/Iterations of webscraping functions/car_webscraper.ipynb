{
 "cells": [
  {
   "cell_type": "markdown",
   "metadata": {},
   "source": [
    "# Section 1: Acquiring each listing"
   ]
  },
  {
   "cell_type": "code",
   "execution_count": 1,
   "metadata": {},
   "outputs": [],
   "source": [
    "from bs4 import BeautifulSoup\n",
    "import requests\n",
    "import pandas as pd\n",
    "import time"
   ]
  },
  {
   "cell_type": "markdown",
   "metadata": {},
   "source": [
    "## Section 1.1: Parsing the first search page (per 100 listing)"
   ]
  },
  {
   "cell_type": "code",
   "execution_count": 2,
   "metadata": {},
   "outputs": [],
   "source": [
    "url = 'https://www.sgcarmart.com/used_cars/listing.php?BRSR=0&RPG=100&AVL=2&VEH=2'\n",
    "# To page through each main page, ONLY considering passenger cars.\n",
    "#'https://www.sgcarmart.com/used_cars/listing.php?BRSR=' + str(idx * 100) '&RPG=20&AVL=2&VEH=0'\n",
    "\n",
    "response = requests.get(url)"
   ]
  },
  {
   "cell_type": "code",
   "execution_count": 3,
   "metadata": {},
   "outputs": [],
   "source": [
    "page = response.text\n",
    "main_page = BeautifulSoup(page, 'lxml')"
   ]
  },
  {
   "cell_type": "code",
   "execution_count": 560,
   "metadata": {},
   "outputs": [
    {
     "data": {
      "text/plain": [
       "[<a href=\"listing.php?MOD=&amp;RPG=100&amp;VEH=0&amp;AVL=2\" style=\"background-color:#0066AA; color:#FFFFFF;\">All Makes</a>,\n",
       " <a href=\"listing.php?MOD=Alfa+Romeo&amp;RPG=100&amp;VEH=0&amp;AVL=2\">Alfa Romeo</a>,\n",
       " <a href=\"listing.php?MOD=Aston+Martin&amp;RPG=100&amp;VEH=0&amp;AVL=2\">Aston Martin</a>,\n",
       " <a href=\"listing.php?MOD=Audi&amp;RPG=100&amp;VEH=0&amp;AVL=2\">Audi</a>,\n",
       " <a href=\"listing.php?MOD=Austin&amp;RPG=100&amp;VEH=0&amp;AVL=2\">Austin</a>,\n",
       " <a href=\"listing.php?MOD=Bentley&amp;RPG=100&amp;VEH=0&amp;AVL=2\">Bentley</a>,\n",
       " <a href=\"listing.php?MOD=BMW&amp;RPG=100&amp;VEH=0&amp;AVL=2\">BMW</a>,\n",
       " <a href=\"listing.php?MOD=Chery&amp;RPG=100&amp;VEH=0&amp;AVL=2\">Chery</a>,\n",
       " <a href=\"listing.php?MOD=Chevrolet&amp;RPG=100&amp;VEH=0&amp;AVL=2\">Chevrolet</a>,\n",
       " <a href=\"listing.php?MOD=Chrysler&amp;RPG=100&amp;VEH=0&amp;AVL=2\">Chrysler</a>,\n",
       " <a href=\"listing.php?MOD=Citroen&amp;RPG=100&amp;VEH=0&amp;AVL=2\">Citroen</a>,\n",
       " <a href=\"listing.php?MOD=Daihatsu&amp;RPG=100&amp;VEH=0&amp;AVL=2\">Daihatsu</a>,\n",
       " <a href=\"listing.php?MOD=Daimler&amp;RPG=100&amp;VEH=0&amp;AVL=2\">Daimler</a>,\n",
       " <a href=\"listing.php?MOD=Datsun&amp;RPG=100&amp;VEH=0&amp;AVL=2\">Datsun</a>,\n",
       " <a href=\"listing.php?MOD=Ferrari&amp;RPG=100&amp;VEH=0&amp;AVL=2\">Ferrari</a>,\n",
       " <a href=\"listing.php?MOD=Fiat&amp;RPG=100&amp;VEH=0&amp;AVL=2\">Fiat</a>,\n",
       " <a href=\"listing.php?MOD=Ford&amp;RPG=100&amp;VEH=0&amp;AVL=2\">Ford</a>,\n",
       " <a href=\"listing.php?MOD=Foton&amp;RPG=100&amp;VEH=0&amp;AVL=2\">Foton</a>,\n",
       " <a href=\"listing.php?MOD=Golden+Dragon&amp;RPG=100&amp;VEH=0&amp;AVL=2\">Golden Dragon</a>,\n",
       " <a href=\"listing.php?MOD=Higer&amp;RPG=100&amp;VEH=0&amp;AVL=2\">Higer</a>,\n",
       " <a href=\"listing.php?MOD=Hino&amp;RPG=100&amp;VEH=0&amp;AVL=2\">Hino</a>,\n",
       " <a href=\"listing.php?MOD=Honda&amp;RPG=100&amp;VEH=0&amp;AVL=2\">Honda</a>,\n",
       " <a href=\"listing.php?MOD=Hummer&amp;RPG=100&amp;VEH=0&amp;AVL=2\">Hummer</a>,\n",
       " <a href=\"listing.php?MOD=Hyundai&amp;RPG=100&amp;VEH=0&amp;AVL=2\">Hyundai</a>,\n",
       " <a href=\"listing.php?MOD=Infiniti&amp;RPG=100&amp;VEH=0&amp;AVL=2\">Infiniti</a>,\n",
       " <a href=\"listing.php?MOD=Isuzu&amp;RPG=100&amp;VEH=0&amp;AVL=2\">Isuzu</a>,\n",
       " <a href=\"listing.php?MOD=Iveco&amp;RPG=100&amp;VEH=0&amp;AVL=2\">Iveco</a>,\n",
       " <a href=\"listing.php?MOD=Jaguar&amp;RPG=100&amp;VEH=0&amp;AVL=2\">Jaguar</a>,\n",
       " <a href=\"listing.php?MOD=Jeep&amp;RPG=100&amp;VEH=0&amp;AVL=2\">Jeep</a>,\n",
       " <a href=\"listing.php?MOD=Joylong&amp;RPG=100&amp;VEH=0&amp;AVL=2\">Joylong</a>,\n",
       " <a href=\"listing.php?MOD=Kia&amp;RPG=100&amp;VEH=0&amp;AVL=2\">Kia</a>,\n",
       " <a href=\"listing.php?MOD=King+Long&amp;RPG=100&amp;VEH=0&amp;AVL=2\">King Long</a>,\n",
       " <a href=\"listing.php?MOD=Lamborghini&amp;RPG=100&amp;VEH=0&amp;AVL=2\">Lamborghini</a>,\n",
       " <a href=\"listing.php?MOD=Land+Rover&amp;RPG=100&amp;VEH=0&amp;AVL=2\">Land Rover</a>,\n",
       " <a href=\"listing.php?MOD=Lexus&amp;RPG=100&amp;VEH=0&amp;AVL=2\">Lexus</a>,\n",
       " <a href=\"listing.php?MOD=Lotus&amp;RPG=100&amp;VEH=0&amp;AVL=2\">Lotus</a>,\n",
       " <a href=\"listing.php?MOD=MAN&amp;RPG=100&amp;VEH=0&amp;AVL=2\">MAN</a>,\n",
       " <a href=\"listing.php?MOD=Maserati&amp;RPG=100&amp;VEH=0&amp;AVL=2\">Maserati</a>,\n",
       " <a href=\"listing.php?MOD=Maxus&amp;RPG=100&amp;VEH=0&amp;AVL=2\">Maxus</a>,\n",
       " <a href=\"listing.php?MOD=Maybach&amp;RPG=100&amp;VEH=0&amp;AVL=2\">Maybach</a>,\n",
       " <a href=\"listing.php?MOD=Mazda&amp;RPG=100&amp;VEH=0&amp;AVL=2\">Mazda</a>,\n",
       " <a href=\"listing.php?MOD=McLaren&amp;RPG=100&amp;VEH=0&amp;AVL=2\">McLaren</a>,\n",
       " <a href=\"listing.php?MOD=Mercedes&amp;RPG=100&amp;VEH=0&amp;AVL=2\">Mercedes</a>,\n",
       " <a href=\"listing.php?MOD=Mercedes-Benz&amp;RPG=100&amp;VEH=0&amp;AVL=2\">Mercedes-Benz</a>,\n",
       " <a href=\"listing.php?MOD=MG&amp;RPG=100&amp;VEH=0&amp;AVL=2\">MG</a>,\n",
       " <a href=\"listing.php?MOD=MINI&amp;RPG=100&amp;VEH=0&amp;AVL=2\">MINI</a>,\n",
       " <a href=\"listing.php?MOD=Mitsubishi&amp;RPG=100&amp;VEH=0&amp;AVL=2\">Mitsubishi</a>,\n",
       " <a href=\"listing.php?MOD=Mitsuoka&amp;RPG=100&amp;VEH=0&amp;AVL=2\">Mitsuoka</a>,\n",
       " <a href=\"listing.php?MOD=Morris&amp;RPG=100&amp;VEH=0&amp;AVL=2\">Morris</a>,\n",
       " <a href=\"listing.php?MOD=Nissan&amp;RPG=100&amp;VEH=0&amp;AVL=2\">Nissan</a>,\n",
       " <a href=\"listing.php?MOD=Opel&amp;RPG=100&amp;VEH=0&amp;AVL=2\">Opel</a>,\n",
       " <a href=\"listing.php?MOD=Perodua&amp;RPG=100&amp;VEH=0&amp;AVL=2\">Perodua</a>,\n",
       " <a href=\"listing.php?MOD=Peugeot&amp;RPG=100&amp;VEH=0&amp;AVL=2\">Peugeot</a>,\n",
       " <a href=\"listing.php?MOD=Porsche&amp;RPG=100&amp;VEH=0&amp;AVL=2\">Porsche</a>,\n",
       " <a href=\"listing.php?MOD=Proton&amp;RPG=100&amp;VEH=0&amp;AVL=2\">Proton</a>,\n",
       " <a href=\"listing.php?MOD=Renault&amp;RPG=100&amp;VEH=0&amp;AVL=2\">Renault</a>,\n",
       " <a href=\"listing.php?MOD=Riley&amp;RPG=100&amp;VEH=0&amp;AVL=2\">Riley</a>,\n",
       " <a href=\"listing.php?MOD=Rolls-Royce&amp;RPG=100&amp;VEH=0&amp;AVL=2\">Rolls-Royce</a>,\n",
       " <a href=\"listing.php?MOD=Rover&amp;RPG=100&amp;VEH=0&amp;AVL=2\">Rover</a>,\n",
       " <a href=\"listing.php?MOD=RUF&amp;RPG=100&amp;VEH=0&amp;AVL=2\">RUF</a>,\n",
       " <a href=\"listing.php?MOD=Saab&amp;RPG=100&amp;VEH=0&amp;AVL=2\">Saab</a>,\n",
       " <a href=\"listing.php?MOD=Scania&amp;RPG=100&amp;VEH=0&amp;AVL=2\">Scania</a>,\n",
       " <a href=\"listing.php?MOD=SEAT&amp;RPG=100&amp;VEH=0&amp;AVL=2\">SEAT</a>,\n",
       " <a href=\"listing.php?MOD=Shacman&amp;RPG=100&amp;VEH=0&amp;AVL=2\">Shacman</a>,\n",
       " <a href=\"listing.php?MOD=Skoda&amp;RPG=100&amp;VEH=0&amp;AVL=2\">Skoda</a>,\n",
       " <a href=\"listing.php?MOD=Smart&amp;RPG=100&amp;VEH=0&amp;AVL=2\">Smart</a>,\n",
       " <a href=\"listing.php?MOD=Ssangyong&amp;RPG=100&amp;VEH=0&amp;AVL=2\">Ssangyong</a>,\n",
       " <a href=\"listing.php?MOD=Subaru&amp;RPG=100&amp;VEH=0&amp;AVL=2\">Subaru</a>,\n",
       " <a href=\"listing.php?MOD=Suzuki&amp;RPG=100&amp;VEH=0&amp;AVL=2\">Suzuki</a>,\n",
       " <a href=\"listing.php?MOD=TD&amp;RPG=100&amp;VEH=0&amp;AVL=2\">TD</a>,\n",
       " <a href=\"listing.php?MOD=Tesla&amp;RPG=100&amp;VEH=0&amp;AVL=2\">Tesla</a>,\n",
       " <a href=\"listing.php?MOD=Toyota&amp;RPG=100&amp;VEH=0&amp;AVL=2\">Toyota</a>,\n",
       " <a href=\"listing.php?MOD=Triumph&amp;RPG=100&amp;VEH=0&amp;AVL=2\">Triumph</a>,\n",
       " <a href=\"listing.php?MOD=UD&amp;RPG=100&amp;VEH=0&amp;AVL=2\">UD</a>,\n",
       " <a href=\"listing.php?MOD=Volkswagen&amp;RPG=100&amp;VEH=0&amp;AVL=2\">Volkswagen</a>,\n",
       " <a href=\"listing.php?MOD=Volvo&amp;RPG=100&amp;VEH=0&amp;AVL=2\">Volvo</a>,\n",
       " <a href=\"listing.php?MOD=Yutong&amp;RPG=100&amp;VEH=0&amp;AVL=2\">Yutong</a>,\n",
       " <a href=\"listing.php?&amp;RPG=100&amp;VEH=0&amp;AVL=2\" style=\"background-color:#0066AA; color:#FFFFFF;\">Select a car make first</a>,\n",
       " <a href=\"listing.php?PRC=0&amp;RPG=100&amp;VEH=0&amp;AVL=2\" style=\"background-color:#0066AA; color:#FFFFFF;\">Any</a>,\n",
       " <a href=\"listing.php?PRC=18&amp;RPG=100&amp;VEH=0&amp;AVL=2\">Below $10,000</a>,\n",
       " <a href=\"listing.php?PRC=17&amp;RPG=100&amp;VEH=0&amp;AVL=2\">$10,001 to $15,000</a>,\n",
       " <a href=\"listing.php?PRC=16&amp;RPG=100&amp;VEH=0&amp;AVL=2\">$15,001 to $20,000</a>,\n",
       " <a href=\"listing.php?PRC=15&amp;RPG=100&amp;VEH=0&amp;AVL=2\">$20,001 to $25,000</a>,\n",
       " <a href=\"listing.php?PRC=14&amp;RPG=100&amp;VEH=0&amp;AVL=2\">$25,001 to $30,000</a>,\n",
       " <a href=\"listing.php?PRC=13&amp;RPG=100&amp;VEH=0&amp;AVL=2\">$30,001 to $35,000</a>,\n",
       " <a href=\"listing.php?PRC=12&amp;RPG=100&amp;VEH=0&amp;AVL=2\">$35,001 to $40,000</a>,\n",
       " <a href=\"listing.php?PRC=11&amp;RPG=100&amp;VEH=0&amp;AVL=2\">$40,001 to $45,000</a>,\n",
       " <a href=\"listing.php?PRC=10&amp;RPG=100&amp;VEH=0&amp;AVL=2\">$45,001 to $50,000</a>,\n",
       " <a href=\"listing.php?PRC=9&amp;RPG=100&amp;VEH=0&amp;AVL=2\">$50,001 to $60,000</a>,\n",
       " <a href=\"listing.php?PRC=8&amp;RPG=100&amp;VEH=0&amp;AVL=2\">$60,001 to $70,000</a>,\n",
       " <a href=\"listing.php?PRC=7&amp;RPG=100&amp;VEH=0&amp;AVL=2\">$70,001 to $80,000</a>,\n",
       " <a href=\"listing.php?PRC=6&amp;RPG=100&amp;VEH=0&amp;AVL=2\">$80,001 to $100,000</a>,\n",
       " <a href=\"listing.php?PRC=5&amp;RPG=100&amp;VEH=0&amp;AVL=2\">$100,001 to $120,000</a>,\n",
       " <a href=\"listing.php?PRC=4&amp;RPG=100&amp;VEH=0&amp;AVL=2\">$120,001 to $140,000</a>,\n",
       " <a href=\"listing.php?PRC=3&amp;RPG=100&amp;VEH=0&amp;AVL=2\">$140,001 to $160,000</a>,\n",
       " <a href=\"listing.php?PRC=2&amp;RPG=100&amp;VEH=0&amp;AVL=2\">$160,001 to $180,000</a>,\n",
       " <a href=\"listing.php?PRC=19&amp;RPG=100&amp;VEH=0&amp;AVL=2\">$180,001 to $200,000</a>,\n",
       " <a href=\"listing.php?PRC=1&amp;RPG=100&amp;VEH=0&amp;AVL=2\">Above $200,000</a>,\n",
       " <a href=\"listing.php?RGD=2019&amp;RPG=100&amp;VEH=0&amp;AVL=2\">2019</a>,\n",
       " <a href=\"listing.php?RGD=2018&amp;RPG=100&amp;VEH=0&amp;AVL=2\">2018</a>,\n",
       " <a href=\"listing.php?RGD=2017&amp;RPG=100&amp;VEH=0&amp;AVL=2\">2017</a>,\n",
       " <a href=\"listing.php?RGD=2016&amp;RPG=100&amp;VEH=0&amp;AVL=2\">2016</a>,\n",
       " <a href=\"listing.php?RGD=2015&amp;RPG=100&amp;VEH=0&amp;AVL=2\">2015</a>,\n",
       " <a href=\"listing.php?RGD=2014&amp;RPG=100&amp;VEH=0&amp;AVL=2\">2014</a>,\n",
       " <a href=\"listing.php?RGD=2013&amp;RPG=100&amp;VEH=0&amp;AVL=2\">2013</a>,\n",
       " <a href=\"listing.php?RGD=2012&amp;RPG=100&amp;VEH=0&amp;AVL=2\">2012</a>,\n",
       " <a href=\"listing.php?RGD=2011&amp;RPG=100&amp;VEH=0&amp;AVL=2\">2011</a>,\n",
       " <a href=\"listing.php?RGD=2010&amp;RPG=100&amp;VEH=0&amp;AVL=2\">2010</a>,\n",
       " <a href=\"listing.php?RGD=2009&amp;RPG=100&amp;VEH=0&amp;AVL=2\">2009</a>,\n",
       " <a href=\"listing.php?RGD=1&amp;RPG=100&amp;VEH=0&amp;AVL=2\">&lt; 1 year(s) old</a>,\n",
       " <a href=\"listing.php?RGD=2&amp;RPG=100&amp;VEH=0&amp;AVL=2\">&lt; 2 year(s) old</a>,\n",
       " <a href=\"listing.php?RGD=3&amp;RPG=100&amp;VEH=0&amp;AVL=2\">&lt; 3 year(s) old</a>,\n",
       " <a href=\"listing.php?RGD=4&amp;RPG=100&amp;VEH=0&amp;AVL=2\">&lt; 4 year(s) old</a>,\n",
       " <a href=\"listing.php?RGD=5&amp;RPG=100&amp;VEH=0&amp;AVL=2\">&lt; 5 year(s) old</a>,\n",
       " <a href=\"listing.php?RGD=6&amp;RPG=100&amp;VEH=0&amp;AVL=2\">&gt; 6 year(s) old</a>,\n",
       " <a href=\"listing.php?RGD=7&amp;RPG=100&amp;VEH=0&amp;AVL=2\">&gt; 7 year(s) old</a>,\n",
       " <a href=\"listing.php?RGD=8&amp;RPG=100&amp;VEH=0&amp;AVL=2\">&gt; 8 year(s) old</a>,\n",
       " <a href=\"listing.php?RGD=9&amp;RPG=100&amp;VEH=0&amp;AVL=2\">&gt; 9 year(s) old</a>,\n",
       " <a href=\"listing.php?RGD=10&amp;RPG=100&amp;VEH=0&amp;AVL=2\">&gt; 10 year(s) old</a>,\n",
       " <a href=\"listing.php?RGD=0&amp;RPG=100&amp;VEH=0&amp;AVL=2\">Any</a>,\n",
       " <a href=\"listing.php?DEP=0&amp;RPG=100&amp;VEH=0&amp;AVL=2\" style=\"background-color:#0066AA; color:#FFFFFF;\">Any</a>,\n",
       " <a href=\"listing.php?DEP=13&amp;RPG=100&amp;VEH=0&amp;AVL=2\">Below $7k /yr</a>,\n",
       " <a href=\"listing.php?DEP=12&amp;RPG=100&amp;VEH=0&amp;AVL=2\">Below $8k /yr</a>,\n",
       " <a href=\"listing.php?DEP=11&amp;RPG=100&amp;VEH=0&amp;AVL=2\">Below $9k /yr</a>,\n",
       " <a href=\"listing.php?DEP=10&amp;RPG=100&amp;VEH=0&amp;AVL=2\">Below $10k /yr</a>,\n",
       " <a href=\"listing.php?DEP=9&amp;RPG=100&amp;VEH=0&amp;AVL=2\">$10k to $11k /yr</a>,\n",
       " <a href=\"listing.php?DEP=8&amp;RPG=100&amp;VEH=0&amp;AVL=2\">$11k to $12k /yr</a>,\n",
       " <a href=\"listing.php?DEP=7&amp;RPG=100&amp;VEH=0&amp;AVL=2\">$12k to $13k /yr</a>,\n",
       " <a href=\"listing.php?DEP=6&amp;RPG=100&amp;VEH=0&amp;AVL=2\">$13k to $14k /yr</a>,\n",
       " <a href=\"listing.php?DEP=5&amp;RPG=100&amp;VEH=0&amp;AVL=2\">$14k to $16k /yr</a>,\n",
       " <a href=\"listing.php?DEP=4&amp;RPG=100&amp;VEH=0&amp;AVL=2\">$16k to $18k /yr</a>,\n",
       " <a href=\"listing.php?DEP=3&amp;RPG=100&amp;VEH=0&amp;AVL=2\">$18k to $20k /yr</a>,\n",
       " <a href=\"listing.php?DEP=2&amp;RPG=100&amp;VEH=0&amp;AVL=2\">$20k to $25k /yr</a>,\n",
       " <a href=\"listing.php?DEP=1&amp;RPG=100&amp;VEH=0&amp;AVL=2\">Above $25k /yr</a>,\n",
       " <a href=\"listing.php?TRN=0&amp;RPG=100&amp;VEH=0&amp;AVL=2\" style=\"background-color:#0066AA; color:#FFFFFF;\">Any</a>,\n",
       " <a href=\"listing.php?TRN=2&amp;RPG=100&amp;VEH=0&amp;AVL=2\">Auto</a>,\n",
       " <a href=\"listing.php?TRN=1&amp;RPG=100&amp;VEH=0&amp;AVL=2\">Manual</a>,\n",
       " <a href=\"listing.php?ENG=0&amp;RPG=100&amp;VEH=0&amp;AVL=2\" style=\"background-color:#0066AA; color:#FFFFFF;\">Any</a>,\n",
       " <a href=\"listing.php?ENG=5&amp;RPG=100&amp;VEH=0&amp;AVL=2\">Below 661cc</a>,\n",
       " <a href=\"listing.php?ENG=4&amp;RPG=100&amp;VEH=0&amp;AVL=2\">661cc to 1,600cc</a>,\n",
       " <a href=\"listing.php?ENG=3&amp;RPG=100&amp;VEH=0&amp;AVL=2\">1,601cc to 2,000cc</a>,\n",
       " <a href=\"listing.php?ENG=2&amp;RPG=100&amp;VEH=0&amp;AVL=2\">2,001cc to 3,000cc</a>,\n",
       " <a href=\"listing.php?ENG=1&amp;RPG=100&amp;VEH=0&amp;AVL=2\">Above 3,000cc</a>,\n",
       " <a href=\"listing.php?MIL=0&amp;RPG=100&amp;VEH=0&amp;AVL=2\" style=\"background-color:#0066AA; color:#FFFFFF;\">Any</a>,\n",
       " <a href=\"listing.php?MIL=13&amp;RPG=100&amp;VEH=0&amp;AVL=2\">Below 10,000 km</a>,\n",
       " <a href=\"listing.php?MIL=12&amp;RPG=100&amp;VEH=0&amp;AVL=2\">10,001 - 20,000 km</a>,\n",
       " <a href=\"listing.php?MIL=11&amp;RPG=100&amp;VEH=0&amp;AVL=2\">20,001 - 30,000 km</a>,\n",
       " <a href=\"listing.php?MIL=10&amp;RPG=100&amp;VEH=0&amp;AVL=2\">30,001 - 40,000 km</a>,\n",
       " <a href=\"listing.php?MIL=9&amp;RPG=100&amp;VEH=0&amp;AVL=2\">40,001 - 50,000 km</a>,\n",
       " <a href=\"listing.php?MIL=8&amp;RPG=100&amp;VEH=0&amp;AVL=2\">50,001 - 70,000 km</a>,\n",
       " <a href=\"listing.php?MIL=7&amp;RPG=100&amp;VEH=0&amp;AVL=2\">70,001 - 90,000 km</a>,\n",
       " <a href=\"listing.php?MIL=6&amp;RPG=100&amp;VEH=0&amp;AVL=2\">90,001 - 110,000 km</a>,\n",
       " <a href=\"listing.php?MIL=5&amp;RPG=100&amp;VEH=0&amp;AVL=2\">110,001 - 130,000 km</a>,\n",
       " <a href=\"listing.php?MIL=4&amp;RPG=100&amp;VEH=0&amp;AVL=2\">130,001 - 150,000 km</a>,\n",
       " <a href=\"listing.php?MIL=3&amp;RPG=100&amp;VEH=0&amp;AVL=2\">150,001 - 200,000 km</a>,\n",
       " <a href=\"listing.php?MIL=2&amp;RPG=100&amp;VEH=0&amp;AVL=2\">200,001 - 300,000 km</a>,\n",
       " <a href=\"listing.php?MIL=1&amp;RPG=100&amp;VEH=0&amp;AVL=2\">Above 300,000 km</a>,\n",
       " <a href=\"listing.php?VEH=0&amp;RPG=100&amp;AVL=2\" style=\"background-color:#0066AA; color:#FFFFFF;\">Any</a>,\n",
       " <a href=\"listing.php?VEH=13&amp;RPG=100&amp;AVL=2\">Mid-Sized Sedan</a>,\n",
       " <a href=\"listing.php?VEH=12&amp;RPG=100&amp;AVL=2\">Luxury Sedan</a>,\n",
       " <a href=\"listing.php?VEH=11&amp;RPG=100&amp;AVL=2\">Hatchback</a>,\n",
       " <a href=\"listing.php?VEH=10&amp;RPG=100&amp;AVL=2\">MPV</a>,\n",
       " <a href=\"listing.php?VEH=9&amp;RPG=100&amp;AVL=2\">SUV</a>,\n",
       " <a href=\"listing.php?VEH=8&amp;RPG=100&amp;AVL=2\">Sports Car</a>,\n",
       " <a href=\"listing.php?VEH=7&amp;RPG=100&amp;AVL=2\">Stationwagon</a>,\n",
       " <a href=\"listing.php?VEH=5&amp;RPG=100&amp;AVL=2\">Truck</a>,\n",
       " <a href=\"listing.php?VEH=4&amp;RPG=100&amp;AVL=2\">Van</a>,\n",
       " <a href=\"listing.php?VEH=14&amp;RPG=100&amp;AVL=2\">Bus/Mini Bus</a>,\n",
       " <a href=\"listing.php?VEH=3&amp;RPG=100&amp;AVL=2\">Others</a>,\n",
       " <a href=\"listing.php?VEH=2&amp;RPG=100&amp;AVL=2\">All Passenger Cars</a>,\n",
       " <a href=\"listing.php?VEH=1&amp;RPG=100&amp;AVL=2\">All Commercial Vehicles</a>,\n",
       " <a href=\"listing.php?AVL=2&amp;RPG=100&amp;VEH=0\" style=\"background-color:#0066AA; color:#FFFFFF;\">Available</a>,\n",
       " <a href=\"listing.php?AVL=1&amp;RPG=100&amp;VEH=0\">Sold</a>,\n",
       " <a href=\"listing.php?AVL=0&amp;RPG=100&amp;VEH=0\">All</a>,\n",
       " <a href=\"/main/index.php\"><img alt=\"sgcarmart logo\" height=\"14\" src=\"https://i.i-sgcm.com/all/topheader/sgcm_logo.svg\" width=\"252\"/></a>,\n",
       " <a href=\"javascript:;\" id=\"search_btn\" onclick=\"CommmonTabSearch();return false;\"><div id=\"searchtopiconbtn\"></div></a>,\n",
       " <a href=\"https://www.sgcarmart.com/member/signin.php\" style=\"color:#484848; font-family:Tahoma; font-size:13px;\">Login</a>,\n",
       " <a href=\"/member/transition.php?PAG=1\" style=\"color:#484848; font-family:Tahoma; font-size:13px;\" target=\"_blank\">Sign up</a>,\n",
       " <a href=\"/member/member_facebook.php?referer=https%3A%2F%2Fwww.sgcarmart.com%2Fused_cars%2Flisting.php%3FBRSR%3D0%26RPG%3D100%26AVL%3D2%26VEH%3D0\" onclick=\"javascript:;\"><div id=\"faceb_connect\"></div></a>,\n",
       " <a href=\"/main/index.php\" style=\"width:38px;\"><img height=\"26\" src=\"https://i.i-sgcm.com/all/topheader/home_icon.png\" style=\"margin-top:3px;\" width=\"29\"/></a>,\n",
       " <a href=\"/new_cars/index.php\" style=\"width:100px;\"><span>New Cars</span></a>,\n",
       " <a class=\"selected\" href=\"/used_cars/index.php\" style=\"width:100px;\"><span>Used Cars</span></a>,\n",
       " <a href=\"/main/sell.php\" style=\"width:108px;\"><span>Sell My Car</span></a>,\n",
       " <a href=\"/directory/index.php\" style=\"width:100px;\"><span>Directory</span></a>,\n",
       " <a href=\"/products/index.php\" style=\"width:100px;\"><span>Products</span></a>,\n",
       " <a href=\"/directory/insurance.php\" style=\"width:100px;\"><span>Insurance</span></a>,\n",
       " <a href=\"/news/index.php\" style=\"width:100px;\"><span>Articles</span></a>,\n",
       " <a href=\"/news/review_landing.php\">Car Reviews</a>,\n",
       " <a href=\"/news/advice_landing.php\">Car Advice</a>,\n",
       " <a href=\"/news/news_landing.php\">Car News</a>,\n",
       " <a href=\"/news/events_features_landing.php\">Car Features</a>,\n",
       " <a href=\"/forum/index.php\" style=\"width:100px;\"><span>Forum</span></a>,\n",
       " <a href=\"/tools_tips/index.php\" style=\"width:115px;\"><span>Resources</span></a>,\n",
       " <a href=\"#header\" id=\"BacktoTop\" style=\"display: none;\"></a>,\n",
       " <a class=\"font_bold font_14\" href=\"/owner/index.php\">Post an Advertisement</a>,\n",
       " <a href=\"/owner/index.php\">Post an Ad</a>,\n",
       " <a href=\"/owner/login.php\">Advertiser Login</a>,\n",
       " <a href=\"/main/sell.php\">Ways of Selling</a>,\n",
       " <a class=\"link_white_plain font_11 font_bold\" href=\"info.php?ID=781368\"><strong>Classic Promo!Best Deal!Fast Selling!Hurry Down Now!</strong></a>,\n",
       " <a href=\"info.php?ID=781368\"><img border=\"0\" height=\"75\" src=\"https://i.i-sgcm.com/used_cars/starad_frame_100x75.gif\" width=\"100\"/></a>,\n",
       " <a class=\"link_white\" href=\"listing.php?DL=1034\" style=\"color:#CC0000\">Classic Credit</a>,\n",
       " <a href=\"starad_viewall.php\" style=\"color:#F4B903\">StarAd</a>,\n",
       " <a href=\"listing.php?DL=1001\"><img alt=\"Lakeview Credit\" border=\"0\" height=\"106\" src=\"https://i.i-sgcm.com/used_cars/featured_logo/1001_carousel.jpg\" width=\"273\"/></a>,\n",
       " <a href=\"listing.php?DL=1015\"><img alt=\"Yong Lee Seng Motor\" border=\"0\" height=\"106\" src=\"https://i.i-sgcm.com/used_cars/featured_logo/1015_carousel.jpg\" width=\"273\"/></a>,\n",
       " <a href=\"listing.php?DL=1026\"><img alt=\"Ka-Hup Vehicles Trading\" border=\"0\" height=\"106\" src=\"https://i.i-sgcm.com/used_cars/featured_logo/1026_carousel.jpg\" width=\"273\"/></a>,\n",
       " <a href=\"listing.php?DL=1043\"><img alt=\"Hin Lung Credit\" border=\"0\" height=\"106\" src=\"https://i.i-sgcm.com/used_cars/featured_logo/1043_carousel.jpg\" width=\"273\"/></a>,\n",
       " <a href=\"listing.php?DL=1060\"><img alt=\"Think One Automobile &amp; Trading Pte Ltd\" border=\"0\" height=\"106\" src=\"https://i.i-sgcm.com/used_cars/featured_logo/1060_carousel.jpg\" width=\"273\"/></a>,\n",
       " <a href=\"listing.php?DL=1215\"><img alt=\"Abwin\" border=\"0\" height=\"106\" src=\"https://i.i-sgcm.com/used_cars/featured_logo/1215_carousel.jpg\" width=\"273\"/></a>,\n",
       " <a href=\"listing.php?DL=1172\"><img alt=\"Auto Inn\" border=\"0\" height=\"106\" src=\"https://i.i-sgcm.com/used_cars/featured_logo/1172_carousel.jpg\" width=\"273\"/></a>,\n",
       " <a href=\"listing.php?DL=1127\"><img alt=\"Prime Motor &amp; Leasing\" border=\"0\" height=\"106\" src=\"https://i.i-sgcm.com/used_cars/featured_logo/1127_carousel.jpg\" width=\"273\"/></a>,\n",
       " <a href=\"listing.php?DL=1213\"><img alt=\"Republic Auto\" border=\"0\" height=\"106\" src=\"https://i.i-sgcm.com/used_cars/featured_logo/1213_carousel.jpg\" width=\"273\"/></a>,\n",
       " <a href=\"javascript:showStoryOne()\" onclick=\"stoprot()\"><img alt=\"Story 1\" border=\"0\" height=\"10\" src=\"https://i.i-sgcm.com/used_cars/carousel_10x10.gif\" width=\"10\"/></a>,\n",
       " <a href=\"javascript:showStoryTwo()\" onclick=\"stoprot()\"><img alt=\"Story 2\" border=\"0\" height=\"10\" src=\"https://i.i-sgcm.com/used_cars/carousel_10x10.gif\" width=\"10\"/></a>,\n",
       " <a href=\"javascript:showStoryThree()\" onclick=\"stoprot()\"><img alt=\"Story 3\" border=\"0\" height=\"10\" src=\"https://i.i-sgcm.com/used_cars/carousel_10x10.gif\" width=\"10\"/></a>,\n",
       " <a href=\"javascript:showStoryFour()\" onclick=\"stoprot()\"><img alt=\"Story 4\" border=\"0\" height=\"10\" src=\"https://i.i-sgcm.com/used_cars/carousel_10x10.gif\" width=\"10\"/></a>,\n",
       " <a href=\"javascript:showStoryFive()\" onclick=\"stoprot()\"><img alt=\"Story 5\" border=\"0\" height=\"10\" src=\"https://i.i-sgcm.com/used_cars/carousel_10x10.gif\" width=\"10\"/></a>,\n",
       " <a href=\"javascript:showStorySix()\" onclick=\"stoprot()\"><img alt=\"Story 6\" border=\"0\" height=\"10\" src=\"https://i.i-sgcm.com/used_cars/carousel_10x10.gif\" width=\"10\"/></a>,\n",
       " <a href=\"javascript:showStorySeven()\" onclick=\"stoprot()\"><img alt=\"Story 7\" border=\"0\" height=\"10\" src=\"https://i.i-sgcm.com/used_cars/carousel_10x10.gif\" width=\"10\"/></a>,\n",
       " <a href=\"javascript:showStoryEight()\" onclick=\"stoprot()\"><img alt=\"Story 8\" border=\"0\" height=\"10\" src=\"https://i.i-sgcm.com/used_cars/carousel_10x10.gif\" width=\"10\"/></a>,\n",
       " <a href=\"javascript:showStoryNine()\" onclick=\"stoprot()\"><img alt=\"Story 9\" border=\"0\" height=\"10\" src=\"https://i.i-sgcm.com/used_cars/carousel_10x10.gif\" width=\"10\"/></a>,\n",
       " <a class=\"saveinfo save_search\" href=\"javascript:showLoginPopup();\" rel=\"savetop_desc\"></a>,\n",
       " <a class=\"printversion\" href=\"search_result_pricelist_print.php?SA=781368&amp;RPG=100&amp;VEH=0&amp;AVL=2\" target=\"_blank\" title=\"Printable Version\"></a>,\n",
       " <a class=\"font_bold font_12\" href=\"/used_cars/listing.php?BRSR=100&amp;RPG=100&amp;AVL=2&amp;VEH=0\">2</a>,\n",
       " <a class=\"font_bold font_12\" href=\"/used_cars/listing.php?BRSR=200&amp;RPG=100&amp;AVL=2&amp;VEH=0\">3</a>,\n",
       " <a class=\"font_bold font_12\" href=\"/used_cars/listing.php?BRSR=300&amp;RPG=100&amp;AVL=2&amp;VEH=0\">4</a>,\n",
       " <a class=\"font_bold font_12\" href=\"/used_cars/listing.php?BRSR=400&amp;RPG=100&amp;AVL=2&amp;VEH=0\">5</a>,\n",
       " <a class=\"font_bold font_12\" href=\"/used_cars/listing.php?BRSR=12600&amp;RPG=100&amp;AVL=2&amp;VEH=0\">127</a>,\n",
       " <a class=\"pagebar\" href=\"/used_cars/listing.php?BRSR=100&amp;RPG=100&amp;AVL=2&amp;VEH=0\">Next <span>»</span></a>,\n",
       " <a href=\"listing.php?ASL=1&amp;AVL=2\">Advanced Search</a>,\n",
       " <a href=\"listing.php?ASL=0\" title=\"Reset search fields\"><img alt=\"reset\" height=\"11\" src=\"https://i.i-sgcm.com/used_cars/search_seset_11x11.gif\" width=\"11\"/></a>,\n",
       " <a class=\"viewall_button\" href=\"listing.php\" style=\"width:64px;\"> </a>,\n",
       " <a href=\"listing.php?ORD=MAK_ASC&amp;RPG=100&amp;VEH=0&amp;AVL=2\" style=\"display:block;\"><img align=\"absbottom\" alt=\"Sort Make/Model in Ascending Order\" border=\"0\" height=\"7\" src=\"https://i.i-sgcm.com/used_cars/tri_up.gif\" title=\"Sort Make/Model in Ascending Order\" width=\"7\"/></a>,\n",
       " <a href=\"listing.php?ORD=MAK_DESC&amp;RPG=100&amp;VEH=0&amp;AVL=2\" style=\"display:block;\"><img align=\"top\" alt=\"Sort Make/Model in Descending Order\" border=\"0\" height=\"7\" src=\"https://i.i-sgcm.com/used_cars/tri_down.gif\" title=\"Sort Make/Model in Descending Order\" width=\"7\"/></a>,\n",
       " <a href=\"listing.php?ORD=PRC_ASC&amp;RPG=100&amp;VEH=0&amp;AVL=2\" style=\"display:block;\"><img align=\"absbottom\" alt=\"Sort Price in Ascending Order\" border=\"0\" height=\"7\" src=\"https://i.i-sgcm.com/used_cars/tri_up.gif\" title=\"Sort Price in Ascending Order\" width=\"7\"/></a>,\n",
       " <a href=\"listing.php?ORD=PRC_DESC&amp;RPG=100&amp;VEH=0&amp;AVL=2\" style=\"display:block;\"><img align=\"top\" alt=\"Sort Price in Descending Order\" border=\"0\" height=\"7\" src=\"https://i.i-sgcm.com/used_cars/tri_down.gif\" title=\"Sort Price in Descending Order\" width=\"7\"/></a>,\n",
       " <a href=\"listing.php?ORD=DEP_ASC&amp;RPG=100&amp;VEH=0&amp;AVL=2\" style=\"display:block;\"><img align=\"absbottom\" alt=\"Sort Gear in Ascending Order\" border=\"0\" height=\"7\" src=\"https://i.i-sgcm.com/used_cars/tri_up.gif\" title=\"Sort Gear in Ascending Order\" width=\"7\"/></a>,\n",
       " <a href=\"listing.php?ORD=DEP_DESC&amp;RPG=100&amp;VEH=0&amp;AVL=2\" style=\"display:block;\"><img align=\"top\" alt=\"Sort Gear in Descending Order\" border=\"0\" height=\"7\" src=\"https://i.i-sgcm.com/used_cars/tri_down.gif\" title=\"Sort Gear in Descending Order\" width=\"7\"/></a>,\n",
       " <a href=\"listing.php?ORD=RGD_ASC&amp;RPG=100&amp;VEH=0&amp;AVL=2\" style=\"display:block;\"><img align=\"absbottom\" alt=\"Sort Registration Date in Ascending Order\" border=\"0\" height=\"7\" src=\"https://i.i-sgcm.com/used_cars/tri_up.gif\" title=\"Sort Registration Date in Ascending Order\" width=\"7\"/></a>,\n",
       " <a href=\"listing.php?ORD=RGD_DESC&amp;RPG=100&amp;VEH=0&amp;AVL=2\" style=\"display:block;\"><img align=\"top\" alt=\"Sort Registration Date in Descending Order\" border=\"0\" height=\"7\" src=\"https://i.i-sgcm.com/used_cars/tri_down.gif\" title=\"Sort Registration Date in Descending Order\" width=\"7\"/></a>,\n",
       " <a href=\"listing.php?ORD=ENG_ASC&amp;RPG=100&amp;VEH=0&amp;AVL=2\" style=\"display:block;\"><img align=\"absbottom\" alt=\"Sort Engine Capacity in Ascending Order\" border=\"0\" height=\"7\" src=\"https://i.i-sgcm.com/used_cars/tri_up.gif\" title=\"Sort Engine Capacity in Ascending Order\" width=\"7\"/></a>,\n",
       " <a href=\"listing.php?ORD=ENG_DESC&amp;RPG=100&amp;VEH=0&amp;AVL=2\" style=\"display:block;\"><img align=\"top\" alt=\"Sort Engine Capacity in Descending Order\" border=\"0\" height=\"7\" src=\"https://i.i-sgcm.com/used_cars/tri_down.gif\" title=\"Sort Engine Capacity in Descending Order\" width=\"7\"/></a>,\n",
       " <a href=\"listing.php?ORD=MIL_ASC&amp;RPG=100&amp;VEH=0&amp;AVL=2\" style=\"display:block;\"><img align=\"absbottom\" alt=\"Sort Vehicle Type in Ascending Order\" border=\"0\" height=\"7\" src=\"https://i.i-sgcm.com/used_cars/tri_up.gif\" title=\"Sort Mileage in Ascending Order\" width=\"7\"/></a>,\n",
       " <a href=\"listing.php?ORD=MIL_DESC&amp;RPG=100&amp;VEH=0&amp;AVL=2\" style=\"display:block;\"><img align=\"absbottom\" alt=\"Sort Vehicle Type in Ascending Order\" border=\"0\" height=\"7\" src=\"https://i.i-sgcm.com/used_cars/tri_down.gif\" title=\"Sort Mileage in Descending Order\" width=\"7\"/></a>,\n",
       " <a href=\"listing.php?ORD=VEH_ASC&amp;RPG=100&amp;VEH=0&amp;AVL=2\" style=\"display:block;\"><img align=\"absbottom\" alt=\"Sort Vehicle Type in Ascending Order\" border=\"0\" height=\"7\" src=\"https://i.i-sgcm.com/used_cars/tri_up.gif\" title=\"Sort Vehicle Type in Ascending Order\" width=\"7\"/></a>,\n",
       " <a href=\"listing.php?ORD=VEH_DESC&amp;RPG=100&amp;VEH=0&amp;AVL=2\" style=\"display:block;\"><img align=\"top\" alt=\"Sort Vehicle Type in Descending Order\" border=\"0\" height=\"7\" src=\"https://i.i-sgcm.com/used_cars/tri_down.gif\" title=\"Sort Vehicle Type in Descending Order\" width=\"7\"/></a>,\n",
       " <a href=\"listing.php?ORD=AVL_ASC&amp;RPG=100&amp;VEH=0&amp;AVL=2\" style=\"display:block;\"><img align=\"absbottom\" alt=\"Sort Availability in Ascending Order\" border=\"0\" height=\"7\" src=\"https://i.i-sgcm.com/used_cars/tri_up.gif\" title=\"Sort Availability in Ascending Order\" width=\"7\"/></a>,\n",
       " <a href=\"listing.php?ORD=AVL_DESC&amp;RPG=100&amp;VEH=0&amp;AVL=2\" style=\"display:block;\"><img align=\"top\" alt=\"Sort Availability in Descending Order\" border=\"0\" height=\"7\" src=\"https://i.i-sgcm.com/used_cars/tri_down.gif\" title=\"Sort Availability in Descending Order\" width=\"7\"/></a>,\n",
       " <a href=\"listing.php?ORD=MAK_ASC&amp;RPG=100&amp;VEH=0&amp;AVL=2\">Any</a>,\n",
       " <a href=\"listing.php?ORD=PRC_ASC&amp;RPG=100&amp;VEH=0&amp;AVL=2\">\n",
       " \t\t\t\t\tAny</a>,\n",
       " <a href=\"listing.php?ORD=DEP_ASC&amp;RPG=100&amp;VEH=0&amp;AVL=2\">\n",
       "                         Any</a>,\n",
       " <a href=\"listing.php?ORD=RGD_ASC&amp;RPG=100&amp;VEH=0&amp;AVL=2\">\n",
       "                         Any</a>,\n",
       " <a href=\"listing.php?ORD=ENG_ASC&amp;RPG=100&amp;VEH=0&amp;AVL=2\">\n",
       "                         Any</a>,\n",
       " <a href=\"listing.php?ORD=MIL_ASC&amp;RPG=100&amp;VEH=0&amp;AVL=2\">\n",
       "                         Any</a>,\n",
       " <a href=\"listing.php?ORD=VEH_ASC&amp;RPG=100&amp;VEH=0&amp;AVL=2\">\n",
       "                         Any</a>,\n",
       " <a href=\"listing.php?ORD=AVL_ASC&amp;RPG=100&amp;VEH=0&amp;AVL=2\">\n",
       " <strong>Available</strong></a>,\n",
       " <a href=\"info.php?ID=858208&amp;DL=1000\"><img border=\"0\" src=\"https://i.i-sgcm.com/cars_used/frame_s.gif\"/></a>,\n",
       " <a href=\"info.php?ID=858208&amp;DL=1000\">Mitsubishi Lancer 1.6A GLX (COE till 07/2028)</a>,\n",
       " <a class=\"link_black nounderline\" href=\"listing.php?VEH=13\">Sedan</a>,\n",
       " <a class=\"cusStarTitle_popups add_watchlist\" href=\"javascript:showLoginPopup();\" id=\"usedCarsShortlist858208\" rel=\"cusStarTitle_858208\" style=\"display:block; width:21px; height:20px; background:url(https://i.i-sgcm.com/all/actionsnshare/alert_star21x45.png) -1px 0px no-repeat;\"></a>,\n",
       " <a class=\"link_gray_listing\" href=\"listing.php?RGD=2008&amp;MOD=Mitsubishi+Lancer\">2008 Mitsubishi Lancer</a>,\n",
       " <a class=\"link_gray_listing\" href=\"listing.php?RGD=2008&amp;MOD=mitsubishi+lancer\">2008 mitsubishi lancer</a>,\n",
       " <a class=\"link_gray_listing\" href=\"listing.php?MOD=Mitsubishi+Lancer\">Mitsubishi Lancer</a>,\n",
       " <a class=\"link_gray_listing\" href=\"listing.php?MOD=mitsubishi+lancer\">mitsubishi lancer</a>,\n",
       " <a class=\"link_gray_listing\" href=\"/main/searchlanding.php?MOD=Mitsubishi\">Mitsubishi</a>,\n",
       " <a class=\"link_gray_listing\" href=\"listing.php?MOD=Lancer\">Lancer</a>,\n",
       " <a class=\"link_gray_listing\" href=\"listing.php?MOD=lancer\">lancer</a>,\n",
       " <a class=\"link_gray_listing\" href=\"used_car_make.php?MAK=Mitsubishi\">Used Mitsubishi</a>,\n",
       " <a href=\"listing.php?CAT=3\"><img alt=\"Direct Owner Sale\" border=\"0\" height=\"13\" src=\"https://i.i-sgcm.com/used_cars/directowner_65x13.gif\" width=\"65\"/></a>,\n",
       " <a href=\"info.php?ID=862846&amp;DL=1000\"><img border=\"0\" src=\"https://i.i-sgcm.com/cars_used/frame_s.gif\"/></a>,\n",
       " <a href=\"info.php?ID=862846&amp;DL=1000\">Mercedes-Benz GLA-Class GLA200 Urban Edition</a>,\n",
       " <a class=\"link_black nounderline\" href=\"listing.php?VEH=9\">SUV</a>,\n",
       " <a class=\"cusStarTitle_popups add_watchlist\" href=\"javascript:showLoginPopup();\" id=\"usedCarsShortlist862846\" rel=\"cusStarTitle_862846\" style=\"display:block; width:21px; height:20px; background:url(https://i.i-sgcm.com/all/actionsnshare/alert_star21x45.png) -1px 0px no-repeat;\"></a>,\n",
       " <a class=\"link_gray_listing\" href=\"listing.php?RGD=2015&amp;MOD=Mercedes-Benz+GLA200\">2015 Mercedes-Benz GLA200</a>,\n",
       " <a class=\"link_gray_listing\" href=\"listing.php?RGD=2015&amp;MOD=mercedes-benz+gla200\">2015 mercedes-benz gla200</a>,\n",
       " <a class=\"link_gray_listing\" href=\"listing.php?MOD=Mercedes-Benz+GLA200\">Mercedes-Benz GLA200</a>,\n",
       " <a class=\"link_gray_listing\" href=\"listing.php?MOD=mercedes-benz+gla200\">mercedes-benz gla200</a>,\n",
       " <a class=\"link_gray_listing\" href=\"/main/searchlanding.php?MOD=Mercedes-Benz\">Mercedes-Benz</a>,\n",
       " <a class=\"link_gray_listing\" href=\"listing.php?MOD=GLA200\">GLA200</a>,\n",
       " <a class=\"link_gray_listing\" href=\"listing.php?MOD=gla200\">gla200</a>,\n",
       " <a class=\"link_gray_listing\" href=\"used_car_make.php?MAK=Mercedes-Benz\">Used Mercedes-Benz</a>,\n",
       " <a href=\"listing.php?CAT=3\"><img alt=\"Direct Owner Sale\" border=\"0\" height=\"13\" src=\"https://i.i-sgcm.com/used_cars/directowner_65x13.gif\" width=\"65\"/></a>,\n",
       " <a href=\"info.php?ID=862843&amp;DL=1103\"><img border=\"0\" src=\"https://i.i-sgcm.com/cars_used/frame_s.gif\"/></a>,\n",
       " <a href=\"info.php?ID=862843&amp;DL=1103\">Honda Stream 1.8A Style Edition (COE till 06/2023)</a>,\n",
       " <a class=\"link_black nounderline\" href=\"listing.php?VEH=10\">MPV</a>,\n",
       " <a class=\"cusStarTitle_popups add_watchlist\" href=\"javascript:showLoginPopup();\" id=\"usedCarsShortlist862843\" rel=\"cusStarTitle_862843\" style=\"display:block; width:21px; height:20px; background:url(https://i.i-sgcm.com/all/actionsnshare/alert_star21x45.png) -1px 0px no-repeat;\"></a>,\n",
       " <a class=\"link_gray_listing\" href=\"listing.php?RGD=2008&amp;MOD=Honda+Stream\">2008 Honda Stream</a>,\n",
       " <a class=\"link_gray_listing\" href=\"listing.php?RGD=2008&amp;MOD=honda+stream\">2008 honda stream</a>,\n",
       " <a class=\"link_gray_listing\" href=\"listing.php?MOD=Honda+Stream\">Honda Stream</a>,\n",
       " <a class=\"link_gray_listing\" href=\"listing.php?MOD=honda+stream\">honda stream</a>,\n",
       " <a class=\"link_gray_listing\" href=\"/main/searchlanding.php?MOD=Honda\">Honda</a>,\n",
       " <a class=\"link_gray_listing\" href=\"listing.php?MOD=Stream\">Stream</a>,\n",
       " <a class=\"link_gray_listing\" href=\"listing.php?MOD=stream\">stream</a>,\n",
       " <a class=\"link_gray_listing\" href=\"used_car_make.php?MAK=Honda\">Used Honda</a>,\n",
       " <a href=\"info.php?ID=862201&amp;DL=3345\"><img border=\"0\" src=\"https://i.i-sgcm.com/cars_used/frame_s.gif\"/></a>,\n",
       " <a href=\"info.php?ID=862201&amp;DL=3345\">Toyota Corolla Altis 1.6A</a>,\n",
       " <a class=\"link_black nounderline\" href=\"listing.php?VEH=13\">Sedan</a>,\n",
       " <a href=\"listing.php?DL=3345\" style=\"color:#950000;\">Inchcape Pre-Owned</a>,\n",
       " <a class=\"cusStarTitle_popups add_watchlist\" href=\"javascript:showLoginPopup();\" id=\"usedCarsShortlist862201\" rel=\"cusStarTitle_862201\" style=\"display:block; width:21px; height:20px; background:url(https://i.i-sgcm.com/all/actionsnshare/alert_star21x45.png) -1px 0px no-repeat;\"></a>,\n",
       " <a class=\"link_gray_listing\" href=\"listing.php?RGD=2011&amp;MOD=Toyota+Corolla\">2011 Toyota Corolla</a>,\n",
       " <a class=\"link_gray_listing\" href=\"listing.php?RGD=2011&amp;MOD=toyota+corolla\">2011 toyota corolla</a>,\n",
       " <a class=\"link_gray_listing\" href=\"listing.php?MOD=Toyota+Corolla\">Toyota Corolla</a>,\n",
       " <a class=\"link_gray_listing\" href=\"listing.php?MOD=toyota+corolla\">toyota corolla</a>,\n",
       " <a class=\"link_gray_listing\" href=\"/main/searchlanding.php?MOD=Toyota\">Toyota</a>,\n",
       " <a class=\"link_gray_listing\" href=\"listing.php?MOD=Corolla\">Corolla</a>,\n",
       " <a class=\"link_gray_listing\" href=\"listing.php?MOD=corolla\">corolla</a>,\n",
       " <a class=\"link_gray_listing\" href=\"used_car_make.php?MAK=Toyota\">Used Toyota</a>,\n",
       " <a href=\"listing.php?CAT=1\"><img alt=\"Premium Ad\" border=\"0\" height=\"13\" src=\"https://i.i-sgcm.com/used_cars/premium_ad_65x13.gif\" width=\"65\"/></a>,\n",
       " <a class=\"car_buying\" href=\"javascript:;\" rel=\"Car_Buying\">Car Buying<span></span></a>,\n",
       " <a class=\"car_selling\" href=\"javascript:;\" rel=\"Car_Selling\">Car Selling<span></span></a>,\n",
       " <a class=\"car_ownership\" href=\"javascript:;\" rel=\"Car_Ownership\">Car Ownership<span></span></a>,\n",
       " <a class=\"car_aftermarket\" href=\"javascript:;\" rel=\"Car_Aftermarket\">Car Aftermarket<span></span></a>,\n",
       " <a class=\"on_the_move\" href=\"javascript:;\" rel=\"On_The_Move\">On The Move<span></span></a>,\n",
       " <a class=\"mens_interest\" href=\"javascript:;\" rel=\"Lifestyle\">Lifestyle<span></span></a>,\n",
       " <a href=\"javascript:;\">Installment Calculator<span></span></a>,\n",
       " <a href=\"/services/loan_calculator.php\">New Car Installment Calculator</a>,\n",
       " <a href=\"/services/uloan_calculator.php\">Used Car Installment Calculator</a>,\n",
       " <a href=\"/tools_tips/loan_eligibility_calculator.php\">Loan Eligibility Calculator</a>,\n",
       " <a href=\"/services/roadtax_calculator.php\">Road Tax Calculator</a>,\n",
       " <a href=\"/news/writeup.php?AID=70\">COE Results</a>,\n",
       " <a href=\"/new_cars/newcars_pricelist_listing.php\">New Car Pricelist</a>,\n",
       " <a href=\"/tools_tips/car_roadshows_events.php\">Car Sale Roadshows &amp; Events</a>,\n",
       " <a href=\"/directory/vehicle_inspection_2.php\">Car Evaluation</a>,\n",
       " <a href=\"/direction/index.php\">Getting to Car Marts</a>,\n",
       " <a href=\"/new_cars/newcars_area_dealer.php\">New Car Parallel Importers</a>,\n",
       " <a href=\"#\" id=\"depreciation_finder\">Depreciation Used Car Finder</a>,\n",
       " <a href=\"/news/listing.php?CT=Advice&amp;CID=1\">Car Buying Advice</a>,\n",
       " <a href=\"/owner/index.php\">Post an Ad</a>,\n",
       " <a href=\"/owner/login.php\">Advertiser's Login</a>,\n",
       " <a href=\"/quotz/free_valuation.php?type=fv\">Free Car Valuation</a>,\n",
       " <a href=\"javascript:;\">Useful Forms for Sellers<span></span></a>,\n",
       " <a href=\"https://i.i-sgcm.com/news/article_advice/2009/92_indemnityform.pdf\" target=\"_blank\">Indemnity Form</a>,\n",
       " <a href=\"https://i.i-sgcm.com/news/article_advice/2009/92_salesagreement.pdf\" target=\"_blank\">Sales Agreement</a>,\n",
       " <a href=\"https://i.i-sgcm.com/news/article_advice/2009/92_handing_takingover.pdf\" target=\"_blank\">Hand-over Form</a>,\n",
       " <a href=\"https://i.i-sgcm.com/news/article_advice/2009/92_invoice.pdf\" target=\"_blank\">Payment Invoice</a>,\n",
       " <a href=\"https://www.onemotoring.com.sg/content/onemotoring/home/selling-deregistering/transfer-ownership.html\" rel=\"nofollow\" style=\"line-height:12px;\" target=\"_blank\">Ownership Transfer<br/>(One Motoring)</a>,\n",
       " <a href=\"/news/writeup.php?AID=92\" style=\"line-height:12px;padding-top:6px;\">Instructions to Complete<br/>Owner-to-buyer Deal</a>,\n",
       " <a href=\"https://connect.sgcarmart.com/\" style=\"line-height:12px;padding-top:6px;\">Free Transaction Service for Owner-to-buyer Deal</a>,\n",
       " <a href=\"/tools_tips/consignment.php\">Sell by Consignment</a>,\n",
       " <a href=\"/quotz/valuation.php?type=sbb\">Sell by Bidding</a>,\n",
       " <a href=\"/news/listing.php?CT=Advice&amp;CID=2\">Car Selling Advice</a>,\n",
       " <a href=\"/directory/insurance.php\">Car Insurance Saver</a>,\n",
       " <a href=\"/directory/carplate_index.php\" style=\"line-height:12px;padding-top:6px;\">Bidded Car Plate Number For Sale</a>,\n",
       " <a href=\"https://connect.sgcarmart.com/coe_renewal.php\" target=\"_blank\">COE Renewal Loan</a>,\n",
       " <a href=\"/news/listing.php?CT=Advice&amp;CID=3\">Car Ownership Advice</a>,\n",
       " <a href=\"/tools_tips/parwani_law.php\">Legal Services</a>,\n",
       " <a href=\"https://www.mycarforum.com/index.php?app=marketplace&amp;module=main&amp;controller=post\" target=\"_blank\">Post Items for Sale</a>,\n",
       " <a href=\"/tools_tips/accessories_planner.php\">Accessories Planner</a>,\n",
       " <a href=\"/news/listing.php?CT=Advice&amp;CID=5\">Car Maintenance Advice</a>,\n",
       " <a href=\"/news/listing.php?CT=Advice&amp;CID=4\">Car Technical Advice</a>,\n",
       " <a href=\"/news/carpark_index.php?TYP=carpark&amp;LOC=all\">Carpark Rates</a>,\n",
       " <a href=\"/news/carpark_index.php?TYP=erp&amp;LOC=all\">ERP Guide</a>,\n",
       " <a href=\"/news/carpark_index.php?TYP=petrol&amp;LOC=all\">Petrol Stations</a>,\n",
       " <a href=\"/tools_tips/cc_index.php\">Petrol Discount Credit Cards</a>,\n",
       " <a href=\"/tools_tips/mens_interest.php?CAT=2\">Food &amp; Beverage<span></span></a>,\n",
       " <a href=\"/tools_tips/mens_interest.php?CAT=2&amp;SUB=2\">Café &amp; Bistro</a>,\n",
       " <a href=\"/tools_tips/mens_interest.php?CAT=2&amp;SUB=1\">Restaurants &amp; Catering</a>,\n",
       " <a href=\"/tools_tips/mens_interest.php?CAT=1\">Health Care &amp; Wellness<span></span></a>,\n",
       " <a href=\"/tools_tips/mens_interest.php?CAT=1&amp;SUB=5\">Body Wellness</a>,\n",
       " <a href=\"/tools_tips/mens_interest.php?CAT=1&amp;SUB=1\">Dental Surgeons</a>,\n",
       " <a href=\"/tools_tips/mens_interest.php?CAT=1&amp;SUB=2\">Doctors</a>,\n",
       " <a href=\"/tools_tips/mens_interest.php?CAT=1&amp;SUB=6\">Fitness &amp; Sports Equipment</a>,\n",
       " <a href=\"/tools_tips/mens_interest.php?CAT=1&amp;SUB=4\">Hair Care</a>,\n",
       " <a href=\"/tools_tips/mens_interest.php?CAT=1&amp;SUB=3\">Health Products</a>,\n",
       " <a href=\"/tools_tips/mens_interest.php?CAT=3\">Home Needs<span></span></a>,\n",
       " <a href=\"/tools_tips/mens_interest.php?CAT=3&amp;SUB=4\">Geomancy</a>,\n",
       " <a href=\"/tools_tips/mens_interest.php?CAT=3&amp;SUB=3\">Hardware</a>,\n",
       " <a href=\"/tools_tips/mens_interest.php?CAT=3&amp;SUB=1\">Interior Design &amp; Décor</a>,\n",
       " <a href=\"/tools_tips/mens_interest.php?CAT=3&amp;SUB=2\">Movers &amp; Storage Services</a>,\n",
       " <a href=\"/tools_tips/mens_interest.php?CAT=6\">IT Products &amp; Services<span></span></a>,\n",
       " <a href=\"/tools_tips/mens_interest.php?CAT=6&amp;SUB=2\">Computer Software &amp; Repair</a>,\n",
       " <a href=\"/tools_tips/mens_interest.php?CAT=6&amp;SUB=5\">Digital Advertising</a>,\n",
       " <a href=\"/tools_tips/mens_interest.php?CAT=6&amp;SUB=3\">Mobile Phone Gadgets</a>,\n",
       " <a href=\"/tools_tips/mens_interest.php?CAT=6&amp;SUB=1\">Photography &amp; Videography</a>,\n",
       " <a href=\"/tools_tips/mens_interest.php?CAT=6&amp;SUB=4\">Productivity Solutions</a>,\n",
       " <a href=\"/tools_tips/mens_interest.php?CAT=8\">Men's Fashion<span></span></a>,\n",
       " <a href=\"/tools_tips/mens_interest.php?CAT=8&amp;SUB=2\">Opticians</a>,\n",
       " <a href=\"/tools_tips/mens_interest.php?CAT=8&amp;SUB=1\">Tailors</a>,\n",
       " <a href=\"/tools_tips/mens_interest.php?CAT=8&amp;SUB=3\">Watch Shops</a>,\n",
       " <a href=\"/tools_tips/mens_interest.php?CAT=4\">Men's Hobby<span></span></a>,\n",
       " <a href=\"/tools_tips/mens_interest.php?CAT=4&amp;SUB=2\">Remote Control Toys</a>,\n",
       " <a href=\"/tools_tips/mens_interest.php?CAT=4&amp;SUB=1\">Sporting Goods</a>,\n",
       " <a href=\"/tools_tips/mens_interest.php?CAT=5\">Personal Needs<span></span></a>,\n",
       " <a href=\"/tools_tips/mens_interest.php?CAT=5&amp;SUB=5\">Education</a>,\n",
       " <a href=\"/tools_tips/mens_interest.php?CAT=5&amp;SUB=1\">Florists</a>,\n",
       " <a href=\"/tools_tips/mens_interest.php?CAT=5&amp;SUB=2\">Insurance</a>,\n",
       " <a href=\"/tools_tips/mens_interest.php?CAT=5&amp;SUB=4\">Licensed Money Lender</a>,\n",
       " <a href=\"/tools_tips/mens_interest.php?CAT=5&amp;SUB=3\">Pet Shops</a>,\n",
       " <a href=\"/tools_tips/mens_interest.php?CAT=5&amp;SUB=6\">Property</a>,\n",
       " <a href=\"/tools_tips/mens_interest.php?CAT=7\">Transport Services<span></span></a>,\n",
       " <a href=\"/tools_tips/mens_interest.php?CAT=7&amp;SUB=2\">Buses - Charter &amp; Rental</a>,\n",
       " <a href=\"/tools_tips/mens_interest.php?CAT=7&amp;SUB=1\">Night Valet Service</a>,\n",
       " <a href=\"/tools_tips/mens_interest.php?CAT=7&amp;SUB=4\">Valet Services </a>,\n",
       " <a href=\"/tools_tips/mens_interest.php?CAT=7&amp;SUB=3\">Wedding Limousine Services </a>,\n",
       " <a href=\"/directory/vehicle_inspection_2.php\">STA Car Evaluation</a>,\n",
       " <a href=\"https://www.tyrepac.com\" style=\"font-size:9px;\" target=\"_blank\" title=\"Buy Car Tyres Online!\">Buy Tyres Online!</a>,\n",
       " <a href=\"https://www.tyrepac.com/Form/B2C/Home.aspx?type=so\" style=\"font-size:9px;\" target=\"_blank\" title=\"Get Fantastic Offers from Tyrepac!\">Latest Special Offers from Tyrepac!</a>,\n",
       " <a href=\"/directory/carplate_index.php\" target=\"_blank\"><img alt=\"Bidded Carplate For Sale\" border=\"0\" height=\"60\" src=\"https://i.i-sgcm.com/used_cars/bidcarplate_234x60.jpg\" width=\"234\"/></a>,\n",
       " <a href=\"info.php?ID=861970&amp;DL=3345\"><img border=\"0\" src=\"https://i.i-sgcm.com/cars_used/frame_s.gif\"/></a>,\n",
       " <a href=\"info.php?ID=861970&amp;DL=3345\">Toyota Vios 1.5A E</a>,\n",
       " <a class=\"link_black nounderline\" href=\"listing.php?VEH=13\">Sedan</a>,\n",
       " <a href=\"listing.php?DL=3345\" style=\"color:#950000;\">Inchcape Pre-Owned</a>,\n",
       " <a class=\"cusStarTitle_popups add_watchlist\" href=\"javascript:showLoginPopup();\" id=\"usedCarsShortlist861970\" rel=\"cusStarTitle_861970\" style=\"display:block; width:21px; height:20px; background:url(https://i.i-sgcm.com/all/actionsnshare/alert_star21x45.png) -1px 0px no-repeat;\"></a>,\n",
       " <a class=\"link_gray_listing\" href=\"listing.php?RGD=2011&amp;MOD=Toyota+Vios\">2011 Toyota Vios</a>,\n",
       " <a class=\"link_gray_listing\" href=\"listing.php?RGD=2011&amp;MOD=toyota+vios\">2011 toyota vios</a>,\n",
       " <a class=\"link_gray_listing\" href=\"listing.php?MOD=Toyota+Vios\">Toyota Vios</a>,\n",
       " <a class=\"link_gray_listing\" href=\"listing.php?MOD=toyota+vios\">toyota vios</a>,\n",
       " <a class=\"link_gray_listing\" href=\"/main/searchlanding.php?MOD=Toyota\">Toyota</a>,\n",
       " <a class=\"link_gray_listing\" href=\"listing.php?MOD=Vios\">Vios</a>,\n",
       " <a class=\"link_gray_listing\" href=\"listing.php?MOD=vios\">vios</a>,\n",
       " <a class=\"link_gray_listing\" href=\"used_car_make.php?MAK=Toyota\">Used Toyota</a>,\n",
       " <a href=\"listing.php?CAT=1\"><img alt=\"Premium Ad\" border=\"0\" height=\"13\" src=\"https://i.i-sgcm.com/used_cars/premium_ad_65x13.gif\" width=\"65\"/></a>,\n",
       " <a href=\"info.php?ID=860493&amp;DL=2976\"><img border=\"0\" src=\"https://i.i-sgcm.com/cars_used/frame_s.gif\"/></a>,\n",
       " <a href=\"info.php?ID=860493&amp;DL=2976\">Mitsubishi Fuso Canter FEB21</a>,\n",
       " <a class=\"link_black nounderline\" href=\"listing.php?VEH=5\">Truck</a>,\n",
       " <a href=\"listing.php?DL=2976\" style=\"color:#950000;\">Car (S) Pte Ltd</a>,\n",
       " <a class=\"cusStarTitle_popups add_watchlist\" href=\"javascript:showLoginPopup();\" id=\"usedCarsShortlist860493\" rel=\"cusStarTitle_860493\" style=\"display:block; width:21px; height:20px; background:url(https://i.i-sgcm.com/all/actionsnshare/alert_star21x45.png) -1px 0px no-repeat;\"></a>,\n",
       " <a class=\"link_gray_listing\" href=\"listing.php?RGD=2014&amp;MOD=Mitsubishi+Fuso\">2014 Mitsubishi Fuso</a>,\n",
       " <a class=\"link_gray_listing\" href=\"listing.php?RGD=2014&amp;MOD=mitsubishi+fuso\">2014 mitsubishi fuso</a>,\n",
       " <a class=\"link_gray_listing\" href=\"listing.php?MOD=Mitsubishi+Fuso\">Mitsubishi Fuso</a>,\n",
       " <a class=\"link_gray_listing\" href=\"listing.php?MOD=mitsubishi+fuso\">mitsubishi fuso</a>,\n",
       " <a class=\"link_gray_listing\" href=\"/main/searchlanding.php?MOD=Mitsubishi\">Mitsubishi</a>,\n",
       " <a class=\"link_gray_listing\" href=\"listing.php?MOD=Fuso\">Fuso</a>,\n",
       " <a class=\"link_gray_listing\" href=\"listing.php?MOD=fuso\">fuso</a>,\n",
       " <a class=\"link_gray_listing\" href=\"used_car_make.php?MAK=Mitsubishi\">Used Mitsubishi</a>,\n",
       " <a href=\"listing.php?CAT=1\"><img alt=\"Premium Ad\" border=\"0\" height=\"13\" src=\"https://i.i-sgcm.com/used_cars/premium_ad_65x13.gif\" width=\"65\"/></a>,\n",
       " <a href=\"info.php?ID=781368&amp;DL=1034\"><img border=\"0\" src=\"https://i.i-sgcm.com/cars_used/starad_frame.gif\"/></a>,\n",
       " <a href=\"/used_cars/starad_viewall.php\"><img border=\"0\" height=\"30\" src=\"https://i.i-sgcm.com/used_cars/starad_tag_100x30.gif\" width=\"100\"/></a>,\n",
       " <a href=\"info.php?ID=781368&amp;DL=1034\">BMW 3 Series 335i Convertible (COE till 04/2028)</a>,\n",
       " <a class=\"link_black nounderline\" href=\"listing.php?VEH=11\">Sports</a>,\n",
       " <a href=\"listing.php?DL=1034\" style=\"color:#950000;\">Classic Credit Pte Ltd</a>,\n",
       " <a class=\"cusStarTitle_popups add_watchlist\" href=\"javascript:showLoginPopup();\" id=\"usedCarsShortlist781368\" rel=\"cusStarTitle_781368\" style=\"display:block; width:21px; height:20px; background:url(https://i.i-sgcm.com/all/actionsnshare/alert_star21x45.png) -1px 0px no-repeat;\"></a>,\n",
       " <a class=\"link_gray_listing\" href=\"listing.php?RGD=2008&amp;MOD=BMW+335i\">2008 BMW 335i</a>,\n",
       " <a class=\"link_gray_listing\" href=\"listing.php?RGD=2008&amp;MOD=bmw+335i\">2008 bmw 335i</a>,\n",
       " <a class=\"link_gray_listing\" href=\"listing.php?MOD=BMW+335i\">BMW 335i</a>,\n",
       " <a class=\"link_gray_listing\" href=\"listing.php?MOD=bmw+335i\">bmw 335i</a>,\n",
       " <a class=\"link_gray_listing\" href=\"/main/searchlanding.php?MOD=BMW\">BMW</a>,\n",
       " <a class=\"link_gray_listing\" href=\"listing.php?MOD=335i\">335i</a>,\n",
       " <a class=\"link_gray_listing\" href=\"used_car_make.php?MAK=BMW\">Used BMW</a>,\n",
       " <a href=\"listing.php?CAT=1\"><img alt=\"Premium Ad\" border=\"0\" height=\"13\" src=\"https://i.i-sgcm.com/used_cars/premium_ad_65x13.gif\" width=\"65\"/></a>,\n",
       " <a href=\"info.php?ID=860253&amp;DL=3345\"><img border=\"0\" src=\"https://i.i-sgcm.com/cars_used/frame_s.gif\"/></a>,\n",
       " <a href=\"info.php?ID=860253&amp;DL=3345\">Volvo S60 Diesel D2</a>,\n",
       " <a class=\"link_black nounderline\" href=\"listing.php?VEH=12\">Luxury</a>,\n",
       " <a href=\"listing.php?DL=3345\" style=\"color:#950000;\">Inchcape Pre-Owned</a>,\n",
       " <a class=\"cusStarTitle_popups add_watchlist\" href=\"javascript:showLoginPopup();\" id=\"usedCarsShortlist860253\" rel=\"cusStarTitle_860253\" style=\"display:block; width:21px; height:20px; background:url(https://i.i-sgcm.com/all/actionsnshare/alert_star21x45.png) -1px 0px no-repeat;\"></a>,\n",
       " <a class=\"link_gray_listing\" href=\"listing.php?RGD=2015&amp;MOD=Volvo+S60\">2015 Volvo S60</a>,\n",
       " <a class=\"link_gray_listing\" href=\"listing.php?RGD=2015&amp;MOD=volvo+s60\">2015 volvo s60</a>,\n",
       " <a class=\"link_gray_listing\" href=\"listing.php?MOD=Volvo+S60\">Volvo S60</a>,\n",
       " <a class=\"link_gray_listing\" href=\"listing.php?MOD=volvo+s60\">volvo s60</a>,\n",
       " <a class=\"link_gray_listing\" href=\"/main/searchlanding.php?MOD=Volvo\">Volvo</a>,\n",
       " <a class=\"link_gray_listing\" href=\"listing.php?MOD=S60\">S60</a>,\n",
       " <a class=\"link_gray_listing\" href=\"listing.php?MOD=s60\">s60</a>,\n",
       " <a class=\"link_gray_listing\" href=\"used_car_make.php?MAK=Volvo\">Used Volvo</a>,\n",
       " <a href=\"listing.php?CAT=1\"><img alt=\"Premium Ad\" border=\"0\" height=\"13\" src=\"https://i.i-sgcm.com/used_cars/premium_ad_65x13.gif\" width=\"65\"/></a>,\n",
       " <a href=\"info.php?ID=859546&amp;DL=1344\"><img border=\"0\" src=\"https://i.i-sgcm.com/cars_used/frame_s.gif\"/></a>,\n",
       " <a href=\"info.php?ID=859546&amp;DL=1344\">Toyota Estima 2.4A Aeras Premium Moonroof (COE till 11/2021)</a>,\n",
       " <a class=\"link_black nounderline\" href=\"listing.php?VEH=10\">MPV</a>,\n",
       " <a href=\"listing.php?DL=1344\" style=\"color:#950000;\">Carway</a>,\n",
       " <a class=\"cusStarTitle_popups add_watchlist\" href=\"javascript:showLoginPopup();\" id=\"usedCarsShortlist859546\" rel=\"cusStarTitle_859546\" style=\"display:block; width:21px; height:20px; background:url(https://i.i-sgcm.com/all/actionsnshare/alert_star21x45.png) -1px 0px no-repeat;\"></a>,\n",
       " <a class=\"link_gray_listing\" href=\"listing.php?RGD=2007&amp;MOD=Toyota+Estima\">2007 Toyota Estima</a>,\n",
       " <a class=\"link_gray_listing\" href=\"listing.php?RGD=2007&amp;MOD=toyota+estima\">2007 toyota estima</a>,\n",
       " <a class=\"link_gray_listing\" href=\"listing.php?MOD=Toyota+Estima\">Toyota Estima</a>,\n",
       " <a class=\"link_gray_listing\" href=\"listing.php?MOD=toyota+estima\">toyota estima</a>,\n",
       " <a class=\"link_gray_listing\" href=\"/main/searchlanding.php?MOD=Toyota\">Toyota</a>,\n",
       " <a class=\"link_gray_listing\" href=\"listing.php?MOD=Estima\">Estima</a>,\n",
       " <a class=\"link_gray_listing\" href=\"listing.php?MOD=estima\">estima</a>,\n",
       " <a class=\"link_gray_listing\" href=\"used_car_make.php?MAK=Toyota\">Used Toyota</a>,\n",
       " <a href=\"info.php?ID=858182&amp;DL=1000\"><img border=\"0\" src=\"https://i.i-sgcm.com/cars_used/frame_s.gif\"/></a>,\n",
       " <a href=\"info.php?ID=858182&amp;DL=1000\">Kia Cerato Forte 1.6A SX</a>,\n",
       " <a class=\"link_black nounderline\" href=\"listing.php?VEH=13\">Sedan</a>,\n",
       " <a class=\"cusStarTitle_popups add_watchlist\" href=\"javascript:showLoginPopup();\" id=\"usedCarsShortlist858182\" rel=\"cusStarTitle_858182\" style=\"display:block; width:21px; height:20px; background:url(https://i.i-sgcm.com/all/actionsnshare/alert_star21x45.png) -1px 0px no-repeat;\"></a>,\n",
       " <a class=\"link_gray_listing\" href=\"listing.php?RGD=2009&amp;MOD=Kia+Cerato\">2009 Kia Cerato</a>,\n",
       " <a class=\"link_gray_listing\" href=\"listing.php?RGD=2009&amp;MOD=kia+cerato\">2009 kia cerato</a>,\n",
       " <a class=\"link_gray_listing\" href=\"listing.php?MOD=Kia+Cerato\">Kia Cerato</a>,\n",
       " <a class=\"link_gray_listing\" href=\"listing.php?MOD=kia+cerato\">kia cerato</a>,\n",
       " <a class=\"link_gray_listing\" href=\"/main/searchlanding.php?MOD=Kia\">Kia</a>,\n",
       " <a class=\"link_gray_listing\" href=\"listing.php?MOD=Cerato\">Cerato</a>,\n",
       " <a class=\"link_gray_listing\" href=\"listing.php?MOD=cerato\">cerato</a>,\n",
       " <a class=\"link_gray_listing\" href=\"used_car_make.php?MAK=Kia\">Used Kia</a>,\n",
       " <a href=\"listing.php?CAT=3\"><img alt=\"Direct Owner Sale\" border=\"0\" height=\"13\" src=\"https://i.i-sgcm.com/used_cars/directowner_65x13.gif\" width=\"65\"/></a>,\n",
       " <a href=\"https://www.sgcarmart.com/phpads/www/delivery/ck.php?bannerid=3304\" target=\"_blank\"><img border=\"0\" src=\"https://i.i-sgcm.com/cars_used/frame_s.gif\"/></a>,\n",
       " <a href=\"https://www.sgcarmart.com/phpads/www/delivery/ck.php?bannerid=3304\" target=\"_blank\">BlackVue DR750S Car Camera</a>,\n",
       " <a href=\"https://www.sgcarmart.com/phpads/www/delivery/ck.php?bannerid=3304\" style=\"color:#950000;\" target=\"_blank\">Find out more!</a>,\n",
       " <a href=\"info.php?ID=858165&amp;DL=1000\"><img border=\"0\" src=\"https://i.i-sgcm.com/cars_used/frame_s.gif\"/></a>,\n",
       " <a href=\"info.php?ID=858165&amp;DL=1000\">Volkswagen Jetta Sport 1.4A TSI</a>,\n",
       " <a class=\"link_black nounderline\" href=\"listing.php?VEH=13\">Sedan</a>,\n",
       " <a class=\"cusStarTitle_popups add_watchlist\" href=\"javascript:showLoginPopup();\" id=\"usedCarsShortlist858165\" rel=\"cusStarTitle_858165\" style=\"display:block; width:21px; height:20px; background:url(https://i.i-sgcm.com/all/actionsnshare/alert_star21x45.png) -1px 0px no-repeat;\"></a>,\n",
       " <a class=\"link_gray_listing\" href=\"listing.php?RGD=2011&amp;MOD=Volkswagen+Jetta\">2011 Volkswagen Jetta</a>,\n",
       " <a class=\"link_gray_listing\" href=\"listing.php?RGD=2011&amp;MOD=volkswagen+jetta\">2011 volkswagen jetta</a>,\n",
       " <a class=\"link_gray_listing\" href=\"listing.php?MOD=Volkswagen+Jetta\">Volkswagen Jetta</a>,\n",
       " <a class=\"link_gray_listing\" href=\"listing.php?MOD=volkswagen+jetta\">volkswagen jetta</a>,\n",
       " <a class=\"link_gray_listing\" href=\"/main/searchlanding.php?MOD=Volkswagen\">Volkswagen</a>,\n",
       " <a class=\"link_gray_listing\" href=\"listing.php?MOD=Jetta\">Jetta</a>,\n",
       " <a class=\"link_gray_listing\" href=\"listing.php?MOD=jetta\">jetta</a>,\n",
       " <a class=\"link_gray_listing\" href=\"used_car_make.php?MAK=Volkswagen\">Used Volkswagen</a>,\n",
       " <a href=\"listing.php?CAT=3\"><img alt=\"Direct Owner Sale\" border=\"0\" height=\"13\" src=\"https://i.i-sgcm.com/used_cars/directowner_65x13.gif\" width=\"65\"/></a>,\n",
       " <a href=\"info.php?ID=858132&amp;DL=1000\"><img border=\"0\" src=\"https://i.i-sgcm.com/cars_used/frame_s.gif\"/></a>,\n",
       " <a href=\"info.php?ID=858132&amp;DL=1000\">Mazda CX-3 2.0A</a>,\n",
       " <a class=\"link_black nounderline\" href=\"listing.php?VEH=9\">SUV</a>,\n",
       " <a class=\"cusStarTitle_popups add_watchlist\" href=\"javascript:showLoginPopup();\" id=\"usedCarsShortlist858132\" rel=\"cusStarTitle_858132\" style=\"display:block; width:21px; height:20px; background:url(https://i.i-sgcm.com/all/actionsnshare/alert_star21x45.png) -1px 0px no-repeat;\"></a>,\n",
       " <a class=\"link_gray_listing\" href=\"listing.php?RGD=2018&amp;MOD=Mazda+CX-3\">2018 Mazda CX-3</a>,\n",
       " <a class=\"link_gray_listing\" href=\"listing.php?RGD=2018&amp;MOD=mazda+CX3\">2018 mazda CX3</a>,\n",
       " <a class=\"link_gray_listing\" href=\"listing.php?MOD=Mazda+CX-3\">Mazda CX-3</a>,\n",
       " <a class=\"link_gray_listing\" href=\"listing.php?MOD=mazda+CX3\">mazda CX3</a>,\n",
       " <a class=\"link_gray_listing\" href=\"/main/searchlanding.php?MOD=Mazda\">Mazda</a>,\n",
       " <a class=\"link_gray_listing\" href=\"listing.php?MOD=CX-3\">CX-3</a>,\n",
       " <a class=\"link_gray_listing\" href=\"listing.php?MOD=CX3\">CX3</a>,\n",
       " <a class=\"link_gray_listing\" href=\"used_car_make.php?MAK=Mazda\">Used Mazda</a>,\n",
       " <a href=\"listing.php?CAT=3\"><img alt=\"Direct Owner Sale\" border=\"0\" height=\"13\" src=\"https://i.i-sgcm.com/used_cars/directowner_65x13.gif\" width=\"65\"/></a>,\n",
       " <a href=\"info.php?ID=858125&amp;DL=1000\"><img border=\"0\" src=\"https://i.i-sgcm.com/cars_used/frame_s.gif\"/></a>,\n",
       " <a href=\"info.php?ID=858125&amp;DL=1000\">Infiniti Q30 Diesel 1.5T Premium</a>,\n",
       " <a class=\"link_black nounderline\" href=\"listing.php?VEH=9\">SUV</a>,\n",
       " <a class=\"cusStarTitle_popups add_watchlist\" href=\"javascript:showLoginPopup();\" id=\"usedCarsShortlist858125\" rel=\"cusStarTitle_858125\" style=\"display:block; width:21px; height:20px; background:url(https://i.i-sgcm.com/all/actionsnshare/alert_star21x45.png) -1px 0px no-repeat;\"></a>,\n",
       " <a class=\"link_gray_listing\" href=\"listing.php?RGD=2017&amp;MOD=Infiniti+Q30\">2017 Infiniti Q30</a>,\n",
       " <a class=\"link_gray_listing\" href=\"listing.php?RGD=2017&amp;MOD=infiniti+q30\">2017 infiniti q30</a>,\n",
       " <a class=\"link_gray_listing\" href=\"listing.php?MOD=Infiniti+Q30\">Infiniti Q30</a>,\n",
       " <a class=\"link_gray_listing\" href=\"listing.php?MOD=infiniti+q30\">infiniti q30</a>,\n",
       " <a class=\"link_gray_listing\" href=\"/main/searchlanding.php?MOD=Infiniti\">Infiniti</a>,\n",
       " <a class=\"link_gray_listing\" href=\"listing.php?MOD=Q30\">Q30</a>,\n",
       " <a class=\"link_gray_listing\" href=\"listing.php?MOD=q30\">q30</a>,\n",
       " <a class=\"link_gray_listing\" href=\"used_car_make.php?MAK=Infiniti\">Used Infiniti</a>,\n",
       " <a href=\"listing.php?CAT=3\"><img alt=\"Direct Owner Sale\" border=\"0\" height=\"13\" src=\"https://i.i-sgcm.com/used_cars/directowner_65x13.gif\" width=\"65\"/></a>,\n",
       " <a href=\"info.php?ID=858112&amp;DL=1000\"><img border=\"0\" src=\"https://i.i-sgcm.com/cars_used/frame_s.gif\"/></a>,\n",
       " <a href=\"info.php?ID=858112&amp;DL=1000\">Honda Accord Euro R 2.0M (COE till 09/2028)</a>,\n",
       " <a class=\"link_black nounderline\" href=\"listing.php?VEH=11\">Sports</a>,\n",
       " <a class=\"cusStarTitle_popups add_watchlist\" href=\"javascript:showLoginPopup();\" id=\"usedCarsShortlist858112\" rel=\"cusStarTitle_858112\" style=\"display:block; width:21px; height:20px; background:url(https://i.i-sgcm.com/all/actionsnshare/alert_star21x45.png) -1px 0px no-repeat;\"></a>,\n",
       " <a class=\"link_gray_listing\" href=\"listing.php?RGD=2008&amp;MOD=Honda+Accord\">2008 Honda Accord</a>,\n",
       " <a class=\"link_gray_listing\" href=\"listing.php?RGD=2008&amp;MOD=honda+accord\">2008 honda accord</a>,\n",
       " <a class=\"link_gray_listing\" href=\"listing.php?MOD=Honda+Accord\">Honda Accord</a>,\n",
       " <a class=\"link_gray_listing\" href=\"listing.php?MOD=honda+accord\">honda accord</a>,\n",
       " <a class=\"link_gray_listing\" href=\"/main/searchlanding.php?MOD=Honda\">Honda</a>,\n",
       " <a class=\"link_gray_listing\" href=\"listing.php?MOD=Accord\">Accord</a>,\n",
       " <a class=\"link_gray_listing\" href=\"listing.php?MOD=accord\">accord</a>,\n",
       " <a class=\"link_gray_listing\" href=\"used_car_make.php?MAK=Honda\">Used Honda</a>,\n",
       " <a href=\"listing.php?CAT=3\"><img alt=\"Direct Owner Sale\" border=\"0\" height=\"13\" src=\"https://i.i-sgcm.com/used_cars/directowner_65x13.gif\" width=\"65\"/></a>,\n",
       " <a href=\"info.php?ID=858095&amp;DL=1000\"><img border=\"0\" src=\"https://i.i-sgcm.com/cars_used/frame_s.gif\"/></a>,\n",
       " <a href=\"info.php?ID=858095&amp;DL=1000\">Audi Q7 3.0A TFSI Quattro</a>,\n",
       " <a class=\"link_black nounderline\" href=\"listing.php?VEH=9\">SUV</a>,\n",
       " <a class=\"cusStarTitle_popups add_watchlist\" href=\"javascript:showLoginPopup();\" id=\"usedCarsShortlist858095\" rel=\"cusStarTitle_858095\" style=\"display:block; width:21px; height:20px; background:url(https://i.i-sgcm.com/all/actionsnshare/alert_star21x45.png) -1px 0px no-repeat;\"></a>,\n",
       " <a class=\"link_gray_listing\" href=\"listing.php?RGD=2015&amp;MOD=Audi+Q7\">2015 Audi Q7</a>,\n",
       " <a class=\"link_gray_listing\" href=\"listing.php?RGD=2015&amp;MOD=audi+q7\">2015 audi q7</a>,\n",
       " <a class=\"link_gray_listing\" href=\"listing.php?MOD=Audi+Q7\">Audi Q7</a>,\n",
       " <a class=\"link_gray_listing\" href=\"listing.php?MOD=audi+q7\">audi q7</a>,\n",
       " <a class=\"link_gray_listing\" href=\"/main/searchlanding.php?MOD=Audi\">Audi</a>,\n",
       " <a class=\"link_gray_listing\" href=\"listing.php?MOD=Q7\">Q7</a>,\n",
       " <a class=\"link_gray_listing\" href=\"listing.php?MOD=q7\">q7</a>,\n",
       " <a class=\"link_gray_listing\" href=\"used_car_make.php?MAK=Audi\">Used Audi</a>,\n",
       " <a href=\"listing.php?CAT=3\"><img alt=\"Direct Owner Sale\" border=\"0\" height=\"13\" src=\"https://i.i-sgcm.com/used_cars/directowner_65x13.gif\" width=\"65\"/></a>,\n",
       " <a href=\"info.php?ID=856467&amp;DL=3293\"><img border=\"0\" src=\"https://i.i-sgcm.com/cars_used/frame_s.gif\"/></a>,\n",
       " <a href=\"info.php?ID=856467&amp;DL=3293\">Peugeot Partner 1.5A BlueHDi LWB</a>,\n",
       " <a class=\"link_black nounderline\" href=\"listing.php?VEH=4\">Van</a>,\n",
       " <a href=\"listing.php?DL=3113\" style=\"color:#950000;\">ABWIN Bus Pte Ltd</a>,\n",
       " <a class=\"cusStarTitle_popups add_watchlist\" href=\"javascript:showLoginPopup();\" id=\"usedCarsShortlist856467\" rel=\"cusStarTitle_856467\" style=\"display:block; width:21px; height:20px; background:url(https://i.i-sgcm.com/all/actionsnshare/alert_star21x45.png) -1px 0px no-repeat;\"></a>,\n",
       " <a class=\"link_gray_listing\" href=\"listing.php?RGD=2019&amp;MOD=Peugeot+Partner\">2019 Peugeot Partner</a>,\n",
       " <a class=\"link_gray_listing\" href=\"listing.php?RGD=2019&amp;MOD=peugeot+partner\">2019 peugeot partner</a>,\n",
       " <a class=\"link_gray_listing\" href=\"listing.php?MOD=Peugeot+Partner\">Peugeot Partner</a>,\n",
       " <a class=\"link_gray_listing\" href=\"listing.php?MOD=peugeot+partner\">peugeot partner</a>,\n",
       " <a class=\"link_gray_listing\" href=\"/main/searchlanding.php?MOD=Peugeot\">Peugeot</a>,\n",
       " <a class=\"link_gray_listing\" href=\"listing.php?MOD=Partner\">Partner</a>,\n",
       " <a class=\"link_gray_listing\" href=\"listing.php?MOD=partner\">partner</a>,\n",
       " <a class=\"link_gray_listing\" href=\"used_car_make.php?MAK=Peugeot\">Used Peugeot</a>,\n",
       " <a href=\"listing.php?CAT=1\"><img alt=\"Premium Ad\" border=\"0\" height=\"13\" src=\"https://i.i-sgcm.com/used_cars/premium_ad_65x13.gif\" width=\"65\"/></a>,\n",
       " <a href=\"info.php?ID=856065&amp;DL=1103\"><img border=\"0\" src=\"https://i.i-sgcm.com/cars_used/frame_s.gif\"/></a>,\n",
       " <a href=\"info.php?ID=856065&amp;DL=1103\">Toyota Passo Sette 1.5A X (New 5-yr COE)</a>,\n",
       " <a class=\"link_black nounderline\" href=\"listing.php?VEH=10\">MPV</a>,\n",
       " <a class=\"cusStarTitle_popups add_watchlist\" href=\"javascript:showLoginPopup();\" id=\"usedCarsShortlist856065\" rel=\"cusStarTitle_856065\" style=\"display:block; width:21px; height:20px; background:url(https://i.i-sgcm.com/all/actionsnshare/alert_star21x45.png) -1px 0px no-repeat;\"></a>,\n",
       " <a class=\"link_gray_listing\" href=\"listing.php?RGD=2009&amp;MOD=Toyota+Passo\">2009 Toyota Passo</a>,\n",
       " <a class=\"link_gray_listing\" href=\"listing.php?RGD=2009&amp;MOD=toyota+passo\">2009 toyota passo</a>,\n",
       " <a class=\"link_gray_listing\" href=\"listing.php?MOD=Toyota+Passo\">Toyota Passo</a>,\n",
       " <a class=\"link_gray_listing\" href=\"listing.php?MOD=toyota+passo\">toyota passo</a>,\n",
       " <a class=\"link_gray_listing\" href=\"/main/searchlanding.php?MOD=Toyota\">Toyota</a>,\n",
       " <a class=\"link_gray_listing\" href=\"listing.php?MOD=Passo\">Passo</a>,\n",
       " <a class=\"link_gray_listing\" href=\"listing.php?MOD=passo\">passo</a>,\n",
       " <a class=\"link_gray_listing\" href=\"used_car_make.php?MAK=Toyota\">Used Toyota</a>,\n",
       " <a href=\"info.php?ID=855452&amp;DL=3106\"><img border=\"0\" src=\"https://i.i-sgcm.com/cars_used/frame_s.gif\"/></a>,\n",
       " <a href=\"info.php?ID=855452&amp;DL=3106\">Honda Civic 2.0A (COE till 05/2022)</a>,\n",
       " <a class=\"link_black nounderline\" href=\"listing.php?VEH=13\">Sedan</a>,\n",
       " <a class=\"cusStarTitle_popups add_watchlist\" href=\"javascript:showLoginPopup();\" id=\"usedCarsShortlist855452\" rel=\"cusStarTitle_855452\" style=\"display:block; width:21px; height:20px; background:url(https://i.i-sgcm.com/all/actionsnshare/alert_star21x45.png) -1px 0px no-repeat;\"></a>,\n",
       " <a class=\"link_gray_listing\" href=\"listing.php?RGD=2007&amp;MOD=Honda+Civic\">2007 Honda Civic</a>,\n",
       " <a class=\"link_gray_listing\" href=\"listing.php?RGD=2007&amp;MOD=honda+civic\">2007 honda civic</a>,\n",
       " <a class=\"link_gray_listing\" href=\"listing.php?MOD=Honda+Civic\">Honda Civic</a>,\n",
       " <a class=\"link_gray_listing\" href=\"listing.php?MOD=honda+civic\">honda civic</a>,\n",
       " <a class=\"link_gray_listing\" href=\"/main/searchlanding.php?MOD=Honda\">Honda</a>,\n",
       " <a class=\"link_gray_listing\" href=\"listing.php?MOD=Civic\">Civic</a>,\n",
       " <a class=\"link_gray_listing\" href=\"listing.php?MOD=civic\">civic</a>,\n",
       " <a class=\"link_gray_listing\" href=\"used_car_make.php?MAK=Honda\">Used Honda</a>,\n",
       " <a href=\"listing.php?CAT=1\"><img alt=\"Premium Ad\" border=\"0\" height=\"13\" src=\"https://i.i-sgcm.com/used_cars/premium_ad_65x13.gif\" width=\"65\"/></a>,\n",
       " <a href=\"info.php?ID=853039&amp;DL=1354\"><img border=\"0\" src=\"https://i.i-sgcm.com/cars_used/frame_s.gif\"/></a>,\n",
       " <a href=\"info.php?ID=853039&amp;DL=1354\">Audi A1 Sportback 1.0A TFSI S-tronic</a>,\n",
       " <a class=\"link_black nounderline\" href=\"listing.php?VEH=11\">Hatchback</a>,\n",
       " <a href=\"/used_cars/listing.php?CAT=21\"><img alt=\"STA graded cars\" height=\"16\" src=\"https://i.i-sgcm.com/used_cars/sta_listing_logo.gif\" width=\"29\"/></a>,\n",
       " <a href=\"listing.php?DL=1354\" style=\"color:#950000;\">Cosmo Automobiles</a>,\n",
       " <a class=\"cusStarTitle_popups add_watchlist\" href=\"javascript:showLoginPopup();\" id=\"usedCarsShortlist853039\" rel=\"cusStarTitle_853039\" style=\"display:block; width:21px; height:20px; background:url(https://i.i-sgcm.com/all/actionsnshare/alert_star21x45.png) -1px 0px no-repeat;\"></a>,\n",
       " <a class=\"link_gray_listing\" href=\"listing.php?RGD=2016&amp;MOD=Audi+A1\">2016 Audi A1</a>,\n",
       " <a class=\"link_gray_listing\" href=\"listing.php?RGD=2016&amp;MOD=audi+a1\">2016 audi a1</a>,\n",
       " <a class=\"link_gray_listing\" href=\"listing.php?MOD=Audi+A1\">Audi A1</a>,\n",
       " <a class=\"link_gray_listing\" href=\"listing.php?MOD=audi+a1\">audi a1</a>,\n",
       " <a class=\"link_gray_listing\" href=\"/main/searchlanding.php?MOD=Audi\">Audi</a>,\n",
       " <a class=\"link_gray_listing\" href=\"listing.php?MOD=A1\">A1</a>,\n",
       " <a class=\"link_gray_listing\" href=\"listing.php?MOD=a1\">a1</a>,\n",
       " <a class=\"link_gray_listing\" href=\"used_car_make.php?MAK=Audi\">Used Audi</a>,\n",
       " <a href=\"info.php?ID=852333&amp;DL=3559\"><img border=\"0\" src=\"https://i.i-sgcm.com/cars_used/frame_s.gif\"/></a>,\n",
       " <a href=\"info.php?ID=852333&amp;DL=3559\">Volkswagen Golf 1.4A TSI</a>,\n",
       " <a class=\"link_black nounderline\" href=\"listing.php?VEH=11\">Hatchback</a>,\n",
       " <a class=\"cusStarTitle_popups add_watchlist\" href=\"javascript:showLoginPopup();\" id=\"usedCarsShortlist852333\" rel=\"cusStarTitle_852333\" style=\"display:block; width:21px; height:20px; background:url(https://i.i-sgcm.com/all/actionsnshare/alert_star21x45.png) -1px 0px no-repeat;\"></a>,\n",
       " <a class=\"link_gray_listing\" href=\"listing.php?RGD=2013&amp;MOD=Volkswagen+Golf\">2013 Volkswagen Golf</a>,\n",
       " <a class=\"link_gray_listing\" href=\"listing.php?RGD=2013&amp;MOD=volkswagen+golf\">2013 volkswagen golf</a>,\n",
       " <a class=\"link_gray_listing\" href=\"listing.php?MOD=Volkswagen+Golf\">Volkswagen Golf</a>,\n",
       " <a class=\"link_gray_listing\" href=\"listing.php?MOD=volkswagen+golf\">volkswagen golf</a>,\n",
       " <a class=\"link_gray_listing\" href=\"/main/searchlanding.php?MOD=Volkswagen\">Volkswagen</a>,\n",
       " <a class=\"link_gray_listing\" href=\"listing.php?MOD=Golf\">Golf</a>,\n",
       " <a class=\"link_gray_listing\" href=\"listing.php?MOD=golf\">golf</a>,\n",
       " <a class=\"link_gray_listing\" href=\"used_car_make.php?MAK=Volkswagen\">Used Volkswagen</a>,\n",
       " <a href=\"info.php?ID=851656&amp;DL=1354\"><img border=\"0\" src=\"https://i.i-sgcm.com/cars_used/frame_s.gif\"/></a>,\n",
       " <a href=\"info.php?ID=851656&amp;DL=1354\">Porsche Macan 2.0A PDK</a>,\n",
       " <a class=\"link_black nounderline\" href=\"listing.php?VEH=9\">SUV</a>,\n",
       " <a href=\"/used_cars/listing.php?CAT=21\"><img alt=\"STA graded cars\" height=\"16\" src=\"https://i.i-sgcm.com/used_cars/sta_listing_logo.gif\" width=\"29\"/></a>,\n",
       " <a href=\"listing.php?DL=1354\" style=\"color:#950000;\">Cosmo Automobiles</a>,\n",
       " <a class=\"cusStarTitle_popups add_watchlist\" href=\"javascript:showLoginPopup();\" id=\"usedCarsShortlist851656\" rel=\"cusStarTitle_851656\" style=\"display:block; width:21px; height:20px; background:url(https://i.i-sgcm.com/all/actionsnshare/alert_star21x45.png) -1px 0px no-repeat;\"></a>,\n",
       " <a class=\"link_gray_listing\" href=\"listing.php?RGD=2016&amp;MOD=Porsche+Macan\">2016 Porsche Macan</a>,\n",
       " <a class=\"link_gray_listing\" href=\"listing.php?RGD=2016&amp;MOD=porsche+macan\">2016 porsche macan</a>,\n",
       " <a class=\"link_gray_listing\" href=\"listing.php?MOD=Porsche+Macan\">Porsche Macan</a>,\n",
       " <a class=\"link_gray_listing\" href=\"listing.php?MOD=porsche+macan\">porsche macan</a>,\n",
       " <a class=\"link_gray_listing\" href=\"/main/searchlanding.php?MOD=Porsche\">Porsche</a>,\n",
       " <a class=\"link_gray_listing\" href=\"listing.php?MOD=Macan\">Macan</a>,\n",
       " <a class=\"link_gray_listing\" href=\"listing.php?MOD=macan\">macan</a>,\n",
       " <a class=\"link_gray_listing\" href=\"used_car_make.php?MAK=Porsche\">Used Porsche</a>,\n",
       " <a href=\"info.php?ID=850487&amp;DL=1213\"><img border=\"0\" src=\"https://i.i-sgcm.com/cars_used/frame_s.gif\"/></a>,\n",
       " <a href=\"info.php?ID=850487&amp;DL=1213\">Mercedes-Benz C-Class C180 Avantgarde</a>,\n",
       " <a class=\"link_black nounderline\" href=\"listing.php?VEH=12\">Luxury</a>,\n",
       " <a href=\"listing.php?DL=1213\" style=\"color:#950000;\">Republic Auto</a>,\n",
       " <a class=\"cusStarTitle_popups add_watchlist\" href=\"javascript:showLoginPopup();\" id=\"usedCarsShortlist850487\" rel=\"cusStarTitle_850487\" style=\"display:block; width:21px; height:20px; background:url(https://i.i-sgcm.com/all/actionsnshare/alert_star21x45.png) -1px 0px no-repeat;\"></a>,\n",
       " <a class=\"link_gray_listing\" href=\"listing.php?RGD=2018&amp;MOD=Mercedes-Benz+C180\">2018 Mercedes-Benz C180</a>,\n",
       " <a class=\"link_gray_listing\" href=\"listing.php?RGD=2018&amp;MOD=mercedes-benz+c180\">2018 mercedes-benz c180</a>,\n",
       " <a class=\"link_gray_listing\" href=\"listing.php?MOD=Mercedes-Benz+C180\">Mercedes-Benz C180</a>,\n",
       " <a class=\"link_gray_listing\" href=\"listing.php?MOD=mercedes-benz+c180\">mercedes-benz c180</a>,\n",
       " <a class=\"link_gray_listing\" href=\"/main/searchlanding.php?MOD=Mercedes-Benz\">Mercedes-Benz</a>,\n",
       " <a class=\"link_gray_listing\" href=\"listing.php?MOD=C180\">C180</a>,\n",
       " <a class=\"link_gray_listing\" href=\"listing.php?MOD=c180\">c180</a>,\n",
       " <a class=\"link_gray_listing\" href=\"used_car_make.php?MAK=Mercedes-Benz\">Used Mercedes-Benz</a>,\n",
       " <a href=\"listing.php?CAT=1\"><img alt=\"Premium Ad\" border=\"0\" height=\"13\" src=\"https://i.i-sgcm.com/used_cars/premium_ad_65x13.gif\" width=\"65\"/></a>,\n",
       " <a href=\"info.php?ID=849725&amp;DL=2690\"><img border=\"0\" src=\"https://i.i-sgcm.com/cars_used/frame_s.gif\"/></a>,\n",
       " <a href=\"info.php?ID=849725&amp;DL=2690\">Toyota Vios 1.5A G</a>,\n",
       " <a class=\"link_black nounderline\" href=\"listing.php?VEH=13\">Sedan</a>,\n",
       " <a href=\"listing.php?DL=2690\" style=\"color:#950000;\">1axis</a>,\n",
       " <a class=\"cusStarTitle_popups add_watchlist\" href=\"javascript:showLoginPopup();\" id=\"usedCarsShortlist849725\" rel=\"cusStarTitle_849725\" style=\"display:block; width:21px; height:20px; background:url(https://i.i-sgcm.com/all/actionsnshare/alert_star21x45.png) -1px 0px no-repeat;\"></a>,\n",
       " <a class=\"link_gray_listing\" href=\"listing.php?RGD=2010&amp;MOD=Toyota+Vios\">2010 Toyota Vios</a>,\n",
       " <a class=\"link_gray_listing\" href=\"listing.php?RGD=2010&amp;MOD=toyota+vios\">2010 toyota vios</a>,\n",
       " <a class=\"link_gray_listing\" href=\"listing.php?MOD=Toyota+Vios\">Toyota Vios</a>,\n",
       " <a class=\"link_gray_listing\" href=\"listing.php?MOD=toyota+vios\">toyota vios</a>,\n",
       " <a class=\"link_gray_listing\" href=\"/main/searchlanding.php?MOD=Toyota\">Toyota</a>,\n",
       " <a class=\"link_gray_listing\" href=\"listing.php?MOD=Vios\">Vios</a>,\n",
       " <a class=\"link_gray_listing\" href=\"listing.php?MOD=vios\">vios</a>,\n",
       " <a class=\"link_gray_listing\" href=\"used_car_make.php?MAK=Toyota\">Used Toyota</a>,\n",
       " <a href=\"info.php?ID=848836&amp;DL=1000\"><img border=\"0\" src=\"https://i.i-sgcm.com/cars_used/frame_s.gif\"/></a>,\n",
       " <a href=\"info.php?ID=848836&amp;DL=1000\">Mitsubishi Fuso Canter FEB50</a>,\n",
       " <a class=\"link_black nounderline\" href=\"listing.php?VEH=5\">Truck</a>,\n",
       " <a class=\"cusStarTitle_popups add_watchlist\" href=\"javascript:showLoginPopup();\" id=\"usedCarsShortlist848836\" rel=\"cusStarTitle_848836\" style=\"display:block; width:21px; height:20px; background:url(https://i.i-sgcm.com/all/actionsnshare/alert_star21x45.png) -1px 0px no-repeat;\"></a>,\n",
       " <a class=\"link_gray_listing\" href=\"listing.php?RGD=2017&amp;MOD=Mitsubishi+Fuso\">2017 Mitsubishi Fuso</a>,\n",
       " <a class=\"link_gray_listing\" href=\"listing.php?RGD=2017&amp;MOD=mitsubishi+fuso\">2017 mitsubishi fuso</a>,\n",
       " <a class=\"link_gray_listing\" href=\"listing.php?MOD=Mitsubishi+Fuso\">Mitsubishi Fuso</a>,\n",
       " <a class=\"link_gray_listing\" href=\"listing.php?MOD=mitsubishi+fuso\">mitsubishi fuso</a>,\n",
       " <a class=\"link_gray_listing\" href=\"/main/searchlanding.php?MOD=Mitsubishi\">Mitsubishi</a>,\n",
       " <a class=\"link_gray_listing\" href=\"listing.php?MOD=Fuso\">Fuso</a>,\n",
       " <a class=\"link_gray_listing\" href=\"listing.php?MOD=fuso\">fuso</a>,\n",
       " <a class=\"link_gray_listing\" href=\"used_car_make.php?MAK=Mitsubishi\">Used Mitsubishi</a>,\n",
       " <a href=\"listing.php?CAT=3\"><img alt=\"Direct Owner Sale\" border=\"0\" height=\"13\" src=\"https://i.i-sgcm.com/used_cars/directowner_65x13.gif\" width=\"65\"/></a>,\n",
       " <a href=\"info.php?ID=848427&amp;DL=3155\"><img border=\"0\" src=\"https://i.i-sgcm.com/cars_used/frame_s.gif\"/></a>,\n",
       " <a href=\"info.php?ID=848427&amp;DL=3155\">Renault Kangoo II Express 1.5M</a>,\n",
       " <a class=\"link_black nounderline\" href=\"listing.php?VEH=4\">Van</a>,\n",
       " <a href=\"listing.php?DL=2723\" style=\"color:#950000;\">Net Link Partners Pte Ltd</a>,\n",
       " <a class=\"cusStarTitle_popups add_watchlist\" href=\"javascript:showLoginPopup();\" id=\"usedCarsShortlist848427\" rel=\"cusStarTitle_848427\" style=\"display:block; width:21px; height:20px; background:url(https://i.i-sgcm.com/all/actionsnshare/alert_star21x45.png) -1px 0px no-repeat;\"></a>,\n",
       " <a class=\"link_gray_listing\" href=\"listing.php?RGD=2010&amp;MOD=Renault+Kangoo\">2010 Renault Kangoo</a>,\n",
       " <a class=\"link_gray_listing\" href=\"listing.php?RGD=2010&amp;MOD=renault+kangoo\">2010 renault kangoo</a>,\n",
       " <a class=\"link_gray_listing\" href=\"listing.php?MOD=Renault+Kangoo\">Renault Kangoo</a>,\n",
       " <a class=\"link_gray_listing\" href=\"listing.php?MOD=renault+kangoo\">renault kangoo</a>,\n",
       " <a class=\"link_gray_listing\" href=\"/main/searchlanding.php?MOD=Renault\">Renault</a>,\n",
       " <a class=\"link_gray_listing\" href=\"listing.php?MOD=Kangoo\">Kangoo</a>,\n",
       " <a class=\"link_gray_listing\" href=\"listing.php?MOD=kangoo\">kangoo</a>,\n",
       " <a class=\"link_gray_listing\" href=\"used_car_make.php?MAK=Renault\">Used Renault</a>,\n",
       " <a href=\"listing.php?CAT=1\"><img alt=\"Premium Ad\" border=\"0\" height=\"13\" src=\"https://i.i-sgcm.com/used_cars/premium_ad_65x13.gif\" width=\"65\"/></a>,\n",
       " <a href=\"info.php?ID=844088&amp;DL=2266\"><img border=\"0\" src=\"https://i.i-sgcm.com/cars_used/frame_s.gif\"/></a>,\n",
       " <a href=\"info.php?ID=844088&amp;DL=2266\">Honda Fit 1.3A G (New 5-yr COE)</a>,\n",
       " <a class=\"link_black nounderline\" href=\"listing.php?VEH=11\">Hatchback</a>,\n",
       " <a href=\"listing.php?DL=1354\" style=\"color:#950000;\">Cosmo Automobiles</a>,\n",
       " <a class=\"cusStarTitle_popups add_watchlist\" href=\"javascript:showLoginPopup();\" id=\"usedCarsShortlist844088\" rel=\"cusStarTitle_844088\" style=\"display:block; width:21px; height:20px; background:url(https://i.i-sgcm.com/all/actionsnshare/alert_star21x45.png) -1px 0px no-repeat;\"></a>,\n",
       " <a class=\"link_gray_listing\" href=\"listing.php?RGD=2009&amp;MOD=Honda+Fit\">2009 Honda Fit</a>,\n",
       " <a class=\"link_gray_listing\" href=\"listing.php?RGD=2009&amp;MOD=honda+fit\">2009 honda fit</a>,\n",
       " <a class=\"link_gray_listing\" href=\"listing.php?MOD=Honda+Fit\">Honda Fit</a>,\n",
       " <a class=\"link_gray_listing\" href=\"listing.php?MOD=honda+fit\">honda fit</a>,\n",
       " <a class=\"link_gray_listing\" href=\"/main/searchlanding.php?MOD=Honda\">Honda</a>,\n",
       " <a class=\"link_gray_listing\" href=\"listing.php?MOD=Fit\">Fit</a>,\n",
       " <a class=\"link_gray_listing\" href=\"listing.php?MOD=fit\">fit</a>,\n",
       " <a class=\"link_gray_listing\" href=\"used_car_make.php?MAK=Honda\">Used Honda</a>,\n",
       " <a href=\"info.php?ID=840246&amp;DL=2266\"><img border=\"0\" src=\"https://i.i-sgcm.com/cars_used/frame_s.gif\"/></a>,\n",
       " <a href=\"info.php?ID=840246&amp;DL=2266\">Toyota Vios 1.5A E Sports (New 5-yr COE)</a>,\n",
       " <a class=\"link_black nounderline\" href=\"listing.php?VEH=13\">Sedan</a>,\n",
       " <a href=\"listing.php?DL=1354\" style=\"color:#950000;\">Cosmo Automobiles</a>,\n",
       " <a class=\"cusStarTitle_popups add_watchlist\" href=\"javascript:showLoginPopup();\" id=\"usedCarsShortlist840246\" rel=\"cusStarTitle_840246\" style=\"display:block; width:21px; height:20px; background:url(https://i.i-sgcm.com/all/actionsnshare/alert_star21x45.png) -1px 0px no-repeat;\"></a>,\n",
       " <a class=\"link_gray_listing\" href=\"listing.php?RGD=2009&amp;MOD=Toyota+Vios\">2009 Toyota Vios</a>,\n",
       " <a class=\"link_gray_listing\" href=\"listing.php?RGD=2009&amp;MOD=toyota+vios\">2009 toyota vios</a>,\n",
       " <a class=\"link_gray_listing\" href=\"listing.php?MOD=Toyota+Vios\">Toyota Vios</a>,\n",
       " <a class=\"link_gray_listing\" href=\"listing.php?MOD=toyota+vios\">toyota vios</a>,\n",
       " <a class=\"link_gray_listing\" href=\"/main/searchlanding.php?MOD=Toyota\">Toyota</a>,\n",
       " <a class=\"link_gray_listing\" href=\"listing.php?MOD=Vios\">Vios</a>,\n",
       " <a class=\"link_gray_listing\" href=\"listing.php?MOD=vios\">vios</a>,\n",
       " <a class=\"link_gray_listing\" href=\"used_car_make.php?MAK=Toyota\">Used Toyota</a>,\n",
       " <a href=\"info.php?ID=838357&amp;DL=2164\"><img border=\"0\" src=\"https://i.i-sgcm.com/cars_used/frame_s.gif\"/></a>,\n",
       " <a href=\"info.php?ID=838357&amp;DL=2164\">Volvo V60 T4</a>,\n",
       " <a class=\"link_black nounderline\" href=\"listing.php?VEH=7\">Stationwagon</a>,\n",
       " <a href=\"listing.php?DL=1354\" style=\"color:#950000;\">Cosmo Automobiles</a>,\n",
       " <a class=\"cusStarTitle_popups add_watchlist\" href=\"javascript:showLoginPopup();\" id=\"usedCarsShortlist838357\" rel=\"cusStarTitle_838357\" style=\"display:block; width:21px; height:20px; background:url(https://i.i-sgcm.com/all/actionsnshare/alert_star21x45.png) -1px 0px no-repeat;\"></a>,\n",
       " <a class=\"link_gray_listing\" href=\"listing.php?RGD=2013&amp;MOD=Volvo+V60\">2013 Volvo V60</a>,\n",
       " <a class=\"link_gray_listing\" href=\"listing.php?RGD=2013&amp;MOD=volvo+v60\">2013 volvo v60</a>,\n",
       " <a class=\"link_gray_listing\" href=\"listing.php?MOD=Volvo+V60\">Volvo V60</a>,\n",
       " <a class=\"link_gray_listing\" href=\"listing.php?MOD=volvo+v60\">volvo v60</a>,\n",
       " <a class=\"link_gray_listing\" href=\"/main/searchlanding.php?MOD=Volvo\">Volvo</a>,\n",
       " <a class=\"link_gray_listing\" href=\"listing.php?MOD=V60\">V60</a>,\n",
       " <a class=\"link_gray_listing\" href=\"listing.php?MOD=v60\">v60</a>,\n",
       " <a class=\"link_gray_listing\" href=\"used_car_make.php?MAK=Volvo\">Used Volvo</a>,\n",
       " <a href=\"info.php?ID=836754&amp;DL=1411\"><img border=\"0\" src=\"https://i.i-sgcm.com/cars_used/frame_s.gif\"/></a>,\n",
       " <a href=\"info.php?ID=836754&amp;DL=1411\">Mitsubishi Fuso Canter FEB21</a>,\n",
       " <a class=\"link_black nounderline\" href=\"listing.php?VEH=5\">Truck</a>,\n",
       " <a href=\"listing.php?DL=1215\" style=\"color:#950000;\">ABWIN (1994) Pte Ltd</a>,\n",
       " <a class=\"cusStarTitle_popups add_watchlist\" href=\"javascript:showLoginPopup();\" id=\"usedCarsShortlist836754\" rel=\"cusStarTitle_836754\" style=\"display:block; width:21px; height:20px; background:url(https://i.i-sgcm.com/all/actionsnshare/alert_star21x45.png) -1px 0px no-repeat;\"></a>,\n",
       " <a class=\"link_gray_listing\" href=\"listing.php?RGD=2017&amp;MOD=Mitsubishi+Fuso\">2017 Mitsubishi Fuso</a>,\n",
       " <a class=\"link_gray_listing\" href=\"listing.php?RGD=2017&amp;MOD=mitsubishi+fuso\">2017 mitsubishi fuso</a>,\n",
       " <a class=\"link_gray_listing\" href=\"listing.php?MOD=Mitsubishi+Fuso\">Mitsubishi Fuso</a>,\n",
       " <a class=\"link_gray_listing\" href=\"listing.php?MOD=mitsubishi+fuso\">mitsubishi fuso</a>,\n",
       " <a class=\"link_gray_listing\" href=\"/main/searchlanding.php?MOD=Mitsubishi\">Mitsubishi</a>,\n",
       " <a class=\"link_gray_listing\" href=\"listing.php?MOD=Fuso\">Fuso</a>,\n",
       " <a class=\"link_gray_listing\" href=\"listing.php?MOD=fuso\">fuso</a>,\n",
       " <a class=\"link_gray_listing\" href=\"used_car_make.php?MAK=Mitsubishi\">Used Mitsubishi</a>,\n",
       " <a href=\"info.php?ID=828320&amp;DL=2164\"><img border=\"0\" src=\"https://i.i-sgcm.com/cars_used/frame_s.gif\"/></a>,\n",
       " <a href=\"info.php?ID=828320&amp;DL=2164\">Audi A4 1.8A TFSI MU</a>,\n",
       " <a class=\"link_black nounderline\" href=\"listing.php?VEH=12\">Luxury</a>,\n",
       " <a href=\"/used_cars/listing.php?CAT=21\"><img alt=\"STA graded cars\" height=\"16\" src=\"https://i.i-sgcm.com/used_cars/sta_listing_logo.gif\" width=\"29\"/></a>,\n",
       " <a href=\"listing.php?DL=1354\" style=\"color:#950000;\">Cosmo Automobiles</a>,\n",
       " <a class=\"cusStarTitle_popups add_watchlist\" href=\"javascript:showLoginPopup();\" id=\"usedCarsShortlist828320\" rel=\"cusStarTitle_828320\" style=\"display:block; width:21px; height:20px; background:url(https://i.i-sgcm.com/all/actionsnshare/alert_star21x45.png) -1px 0px no-repeat;\"></a>,\n",
       " <a class=\"link_gray_listing\" href=\"listing.php?RGD=2014&amp;MOD=Audi+A4\">2014 Audi A4</a>,\n",
       " <a class=\"link_gray_listing\" href=\"listing.php?RGD=2014&amp;MOD=audi+a4\">2014 audi a4</a>,\n",
       " <a class=\"link_gray_listing\" href=\"listing.php?MOD=Audi+A4\">Audi A4</a>,\n",
       " <a class=\"link_gray_listing\" href=\"listing.php?MOD=audi+a4\">audi a4</a>,\n",
       " <a class=\"link_gray_listing\" href=\"/main/searchlanding.php?MOD=Audi\">Audi</a>,\n",
       " <a class=\"link_gray_listing\" href=\"listing.php?MOD=A4\">A4</a>,\n",
       " <a class=\"link_gray_listing\" href=\"listing.php?MOD=a4\">a4</a>,\n",
       " <a class=\"link_gray_listing\" href=\"used_car_make.php?MAK=Audi\">Used Audi</a>,\n",
       " <a href=\"info.php?ID=776003&amp;DL=3155\"><img border=\"0\" src=\"https://i.i-sgcm.com/cars_used/frame_s.gif\"/></a>,\n",
       " <a href=\"info.php?ID=776003&amp;DL=3155\">Nissan Urvan</a>,\n",
       " <a class=\"link_black nounderline\" href=\"listing.php?VEH=4\">Van</a>,\n",
       " <a href=\"listing.php?DL=2723\" style=\"color:#950000;\">Net Link Partners Pte Ltd</a>,\n",
       " <a class=\"cusStarTitle_popups add_watchlist\" href=\"javascript:showLoginPopup();\" id=\"usedCarsShortlist776003\" rel=\"cusStarTitle_776003\" style=\"display:block; width:21px; height:20px; background:url(https://i.i-sgcm.com/all/actionsnshare/alert_star21x45.png) -1px 0px no-repeat;\"></a>,\n",
       " <a class=\"link_gray_listing\" href=\"listing.php?RGD=2011&amp;MOD=Nissan+Urvan\">2011 Nissan Urvan</a>,\n",
       " <a class=\"link_gray_listing\" href=\"listing.php?RGD=2011&amp;MOD=nissan+urvan\">2011 nissan urvan</a>,\n",
       " <a class=\"link_gray_listing\" href=\"listing.php?MOD=Nissan+Urvan\">Nissan Urvan</a>,\n",
       " <a class=\"link_gray_listing\" href=\"listing.php?MOD=nissan+urvan\">nissan urvan</a>,\n",
       " <a class=\"link_gray_listing\" href=\"/main/searchlanding.php?MOD=Nissan\">Nissan</a>,\n",
       " <a class=\"link_gray_listing\" href=\"listing.php?MOD=Urvan\">Urvan</a>,\n",
       " <a class=\"link_gray_listing\" href=\"listing.php?MOD=urvan\">urvan</a>,\n",
       " <a class=\"link_gray_listing\" href=\"used_car_make.php?MAK=Nissan\">Used Nissan</a>,\n",
       " <a href=\"listing.php?CAT=1\"><img alt=\"Premium Ad\" border=\"0\" height=\"13\" src=\"https://i.i-sgcm.com/used_cars/premium_ad_65x13.gif\" width=\"65\"/></a>,\n",
       " <a href=\"info.php?ID=862845&amp;DL=1000\"><img border=\"0\" src=\"https://i.i-sgcm.com/cars_used/frame_s.gif\"/></a>,\n",
       " <a href=\"info.php?ID=862845&amp;DL=1000\">Subaru Impreza 5D 1.5R (COE till 12/2028)</a>,\n",
       " <a class=\"link_black nounderline\" href=\"listing.php?VEH=11\">Hatchback</a>,\n",
       " <a class=\"cusStarTitle_popups add_watchlist\" href=\"javascript:showLoginPopup();\" id=\"usedCarsShortlist862845\" rel=\"cusStarTitle_862845\" style=\"display:block; width:21px; height:20px; background:url(https://i.i-sgcm.com/all/actionsnshare/alert_star21x45.png) -1px 0px no-repeat;\"></a>,\n",
       " <a class=\"link_gray_listing\" href=\"listing.php?RGD=2008&amp;MOD=Subaru+Impreza\">2008 Subaru Impreza</a>,\n",
       " <a class=\"link_gray_listing\" href=\"listing.php?RGD=2008&amp;MOD=subaru+impreza\">2008 subaru impreza</a>,\n",
       " <a class=\"link_gray_listing\" href=\"listing.php?MOD=Subaru+Impreza\">Subaru Impreza</a>,\n",
       " <a class=\"link_gray_listing\" href=\"listing.php?MOD=subaru+impreza\">subaru impreza</a>,\n",
       " <a class=\"link_gray_listing\" href=\"/main/searchlanding.php?MOD=Subaru\">Subaru</a>,\n",
       " <a class=\"link_gray_listing\" href=\"listing.php?MOD=Impreza\">Impreza</a>,\n",
       " <a class=\"link_gray_listing\" href=\"listing.php?MOD=impreza\">impreza</a>,\n",
       " <a class=\"link_gray_listing\" href=\"used_car_make.php?MAK=Subaru\">Used Subaru</a>,\n",
       " <a href=\"listing.php?CAT=3\"><img alt=\"Direct Owner Sale\" border=\"0\" height=\"13\" src=\"https://i.i-sgcm.com/used_cars/directowner_65x13.gif\" width=\"65\"/></a>,\n",
       " <a href=\"info.php?ID=862844&amp;DL=2633\"><img border=\"0\" src=\"https://i.i-sgcm.com/cars_used/frame_s.gif\"/></a>,\n",
       " <a href=\"info.php?ID=862844&amp;DL=2633\">Mercedes-Benz C-Class C180 Coupe AMG Line</a>,\n",
       " <a class=\"link_black nounderline\" href=\"listing.php?VEH=11\">Sports</a>,\n",
       " <a href=\"listing.php?DL=2633\" style=\"color:#950000;\">AA Trust Automotive</a>,\n",
       " <a class=\"cusStarTitle_popups add_watchlist\" href=\"javascript:showLoginPopup();\" id=\"usedCarsShortlist862844\" rel=\"cusStarTitle_862844\" style=\"display:block; width:21px; height:20px; background:url(https://i.i-sgcm.com/all/actionsnshare/alert_star21x45.png) -1px 0px no-repeat;\"></a>,\n",
       " <a class=\"link_gray_listing\" href=\"listing.php?RGD=2018&amp;MOD=Mercedes-Benz+C180\">2018 Mercedes-Benz C180</a>,\n",
       " <a class=\"link_gray_listing\" href=\"listing.php?RGD=2018&amp;MOD=mercedes-benz+c180\">2018 mercedes-benz c180</a>,\n",
       " <a class=\"link_gray_listing\" href=\"listing.php?MOD=Mercedes-Benz+C180\">Mercedes-Benz C180</a>,\n",
       " <a class=\"link_gray_listing\" href=\"listing.php?MOD=mercedes-benz+c180\">mercedes-benz c180</a>,\n",
       " <a class=\"link_gray_listing\" href=\"/main/searchlanding.php?MOD=Mercedes-Benz\">Mercedes-Benz</a>,\n",
       " <a class=\"link_gray_listing\" href=\"listing.php?MOD=C180\">C180</a>,\n",
       " <a class=\"link_gray_listing\" href=\"listing.php?MOD=c180\">c180</a>,\n",
       " <a class=\"link_gray_listing\" href=\"used_car_make.php?MAK=Mercedes-Benz\">Used Mercedes-Benz</a>,\n",
       " <a href=\"info.php?ID=862837&amp;DL=1000\"><img border=\"0\" src=\"https://i.i-sgcm.com/cars_used/frame_s.gif\"/></a>,\n",
       " <a href=\"info.php?ID=862837&amp;DL=1000\">Honda Civic 2.0M Si (COE till 10/2028)</a>,\n",
       " <a class=\"link_black nounderline\" href=\"listing.php?VEH=13\">Sedan</a>,\n",
       " <a class=\"cusStarTitle_popups add_watchlist\" href=\"javascript:showLoginPopup();\" id=\"usedCarsShortlist862837\" rel=\"cusStarTitle_862837\" style=\"display:block; width:21px; height:20px; background:url(https://i.i-sgcm.com/all/actionsnshare/alert_star21x45.png) -1px 0px no-repeat;\"></a>,\n",
       " <a class=\"link_gray_listing\" href=\"listing.php?RGD=2008&amp;MOD=Honda+Civic\">2008 Honda Civic</a>,\n",
       " <a class=\"link_gray_listing\" href=\"listing.php?RGD=2008&amp;MOD=honda+civic\">2008 honda civic</a>,\n",
       " <a class=\"link_gray_listing\" href=\"listing.php?MOD=Honda+Civic\">Honda Civic</a>,\n",
       " <a class=\"link_gray_listing\" href=\"listing.php?MOD=honda+civic\">honda civic</a>,\n",
       " <a class=\"link_gray_listing\" href=\"/main/searchlanding.php?MOD=Honda\">Honda</a>,\n",
       " <a class=\"link_gray_listing\" href=\"listing.php?MOD=Civic\">Civic</a>,\n",
       " <a class=\"link_gray_listing\" href=\"listing.php?MOD=civic\">civic</a>,\n",
       " <a class=\"link_gray_listing\" href=\"used_car_make.php?MAK=Honda\">Used Honda</a>,\n",
       " <a href=\"listing.php?CAT=3\"><img alt=\"Direct Owner Sale\" border=\"0\" height=\"13\" src=\"https://i.i-sgcm.com/used_cars/directowner_65x13.gif\" width=\"65\"/></a>,\n",
       " <a href=\"info.php?ID=862825&amp;DL=1000\"><img border=\"0\" src=\"https://i.i-sgcm.com/cars_used/frame_s.gif\"/></a>,\n",
       " <a href=\"info.php?ID=862825&amp;DL=1000\">Honda Freed 1.5A G (COE till 09/2028)</a>,\n",
       " <a class=\"link_black nounderline\" href=\"listing.php?VEH=10\">MPV</a>,\n",
       " <a class=\"cusStarTitle_popups add_watchlist\" href=\"javascript:showLoginPopup();\" id=\"usedCarsShortlist862825\" rel=\"cusStarTitle_862825\" style=\"display:block; width:21px; height:20px; background:url(https://i.i-sgcm.com/all/actionsnshare/alert_star21x45.png) -1px 0px no-repeat;\"></a>,\n",
       " <a class=\"link_gray_listing\" href=\"listing.php?RGD=2008&amp;MOD=Honda+Freed\">2008 Honda Freed</a>,\n",
       " <a class=\"link_gray_listing\" href=\"listing.php?RGD=2008&amp;MOD=honda+freed\">2008 honda freed</a>,\n",
       " <a class=\"link_gray_listing\" href=\"listing.php?MOD=Honda+Freed\">Honda Freed</a>,\n",
       " <a class=\"link_gray_listing\" href=\"listing.php?MOD=honda+freed\">honda freed</a>,\n",
       " <a class=\"link_gray_listing\" href=\"/main/searchlanding.php?MOD=Honda\">Honda</a>,\n",
       " <a class=\"link_gray_listing\" href=\"listing.php?MOD=Freed\">Freed</a>,\n",
       " <a class=\"link_gray_listing\" href=\"listing.php?MOD=freed\">freed</a>,\n",
       " <a class=\"link_gray_listing\" href=\"used_car_make.php?MAK=Honda\">Used Honda</a>,\n",
       " <a href=\"listing.php?CAT=3\"><img alt=\"Direct Owner Sale\" border=\"0\" height=\"13\" src=\"https://i.i-sgcm.com/used_cars/directowner_65x13.gif\" width=\"65\"/></a>,\n",
       " <a href=\"info.php?ID=862762&amp;DL=1000\"><img border=\"0\" src=\"https://i.i-sgcm.com/cars_used/frame_s.gif\"/></a>,\n",
       " <a href=\"info.php?ID=862762&amp;DL=1000\">Alfa Romeo Giulietta 1.4A Turbo</a>,\n",
       " <a class=\"link_black nounderline\" href=\"listing.php?VEH=11\">Hatchback</a>,\n",
       " <a class=\"cusStarTitle_popups add_watchlist\" href=\"javascript:showLoginPopup();\" id=\"usedCarsShortlist862762\" rel=\"cusStarTitle_862762\" style=\"display:block; width:21px; height:20px; background:url(https://i.i-sgcm.com/all/actionsnshare/alert_star21x45.png) -1px 0px no-repeat;\"></a>,\n",
       " <a class=\"link_gray_listing\" href=\"listing.php?RGD=2012&amp;MOD=Alfa+Romeo+Giulietta\">2012 Alfa Romeo Giulietta</a>,\n",
       " <a class=\"link_gray_listing\" href=\"listing.php?RGD=2012&amp;MOD=alfa+romeo+giulietta\">2012 alfa romeo giulietta</a>,\n",
       " <a class=\"link_gray_listing\" href=\"listing.php?MOD=Alfa+Romeo+Giulietta\">Alfa Romeo Giulietta</a>,\n",
       " <a class=\"link_gray_listing\" href=\"listing.php?MOD=alfa+romeo+giulietta\">alfa romeo giulietta</a>,\n",
       " <a class=\"link_gray_listing\" href=\"/main/searchlanding.php?MOD=Alfa+Romeo\">Alfa Romeo</a>,\n",
       " <a class=\"link_gray_listing\" href=\"listing.php?MOD=Giulietta\">Giulietta</a>,\n",
       " <a class=\"link_gray_listing\" href=\"listing.php?MOD=giulietta\">giulietta</a>,\n",
       " <a class=\"link_gray_listing\" href=\"used_car_make.php?MAK=Alfa+Romeo\">Used Alfa Romeo</a>,\n",
       " <a href=\"listing.php?CAT=3\"><img alt=\"Direct Owner Sale\" border=\"0\" height=\"13\" src=\"https://i.i-sgcm.com/used_cars/directowner_65x13.gif\" width=\"65\"/></a>,\n",
       " <a href=\"info.php?ID=862756&amp;DL=1000\"><img border=\"0\" src=\"https://i.i-sgcm.com/cars_used/frame_s.gif\"/></a>,\n",
       " <a href=\"info.php?ID=862756&amp;DL=1000\">Porsche Macan S 3.0A PDK</a>,\n",
       " <a class=\"link_black nounderline\" href=\"listing.php?VEH=9\">SUV</a>,\n",
       " <a class=\"cusStarTitle_popups add_watchlist\" href=\"javascript:showLoginPopup();\" id=\"usedCarsShortlist862756\" rel=\"cusStarTitle_862756\" style=\"display:block; width:21px; height:20px; background:url(https://i.i-sgcm.com/all/actionsnshare/alert_star21x45.png) -1px 0px no-repeat;\"></a>,\n",
       " <a class=\"link_gray_listing\" href=\"listing.php?RGD=2014&amp;MOD=Porsche+Macan\">2014 Porsche Macan</a>,\n",
       " <a class=\"link_gray_listing\" href=\"listing.php?RGD=2014&amp;MOD=porsche+macan\">2014 porsche macan</a>,\n",
       " <a class=\"link_gray_listing\" href=\"listing.php?MOD=Porsche+Macan\">Porsche Macan</a>,\n",
       " <a class=\"link_gray_listing\" href=\"listing.php?MOD=porsche+macan\">porsche macan</a>,\n",
       " <a class=\"link_gray_listing\" href=\"/main/searchlanding.php?MOD=Porsche\">Porsche</a>,\n",
       " <a class=\"link_gray_listing\" href=\"listing.php?MOD=Macan\">Macan</a>,\n",
       " <a class=\"link_gray_listing\" href=\"listing.php?MOD=macan\">macan</a>,\n",
       " <a class=\"link_gray_listing\" href=\"used_car_make.php?MAK=Porsche\">Used Porsche</a>,\n",
       " <a href=\"listing.php?CAT=3\"><img alt=\"Direct Owner Sale\" border=\"0\" height=\"13\" src=\"https://i.i-sgcm.com/used_cars/directowner_65x13.gif\" width=\"65\"/></a>,\n",
       " <a href=\"info.php?ID=862748&amp;DL=1000\"><img border=\"0\" src=\"https://i.i-sgcm.com/cars_used/frame_s.gif\"/></a>,\n",
       " <a href=\"info.php?ID=862748&amp;DL=1000\">Porsche Macan 2.0A PDK</a>,\n",
       " <a class=\"link_black nounderline\" href=\"listing.php?VEH=9\">SUV</a>,\n",
       " <a class=\"cusStarTitle_popups add_watchlist\" href=\"javascript:showLoginPopup();\" id=\"usedCarsShortlist862748\" rel=\"cusStarTitle_862748\" style=\"display:block; width:21px; height:20px; background:url(https://i.i-sgcm.com/all/actionsnshare/alert_star21x45.png) -1px 0px no-repeat;\"></a>,\n",
       " <a class=\"link_gray_listing\" href=\"listing.php?RGD=2014&amp;MOD=Porsche+Macan\">2014 Porsche Macan</a>,\n",
       " <a class=\"link_gray_listing\" href=\"listing.php?RGD=2014&amp;MOD=porsche+macan\">2014 porsche macan</a>,\n",
       " <a class=\"link_gray_listing\" href=\"listing.php?MOD=Porsche+Macan\">Porsche Macan</a>,\n",
       " <a class=\"link_gray_listing\" href=\"listing.php?MOD=porsche+macan\">porsche macan</a>,\n",
       " <a class=\"link_gray_listing\" href=\"/main/searchlanding.php?MOD=Porsche\">Porsche</a>,\n",
       " <a class=\"link_gray_listing\" href=\"listing.php?MOD=Macan\">Macan</a>,\n",
       " <a class=\"link_gray_listing\" href=\"listing.php?MOD=macan\">macan</a>,\n",
       " <a class=\"link_gray_listing\" href=\"used_car_make.php?MAK=Porsche\">Used Porsche</a>,\n",
       " <a href=\"listing.php?CAT=3\"><img alt=\"Direct Owner Sale\" border=\"0\" height=\"13\" src=\"https://i.i-sgcm.com/used_cars/directowner_65x13.gif\" width=\"65\"/></a>,\n",
       " <a href=\"info.php?ID=861767&amp;DL=3559\"><img border=\"0\" src=\"https://i.i-sgcm.com/cars_used/frame_s.gif\"/></a>,\n",
       " <a href=\"info.php?ID=861767&amp;DL=3559\">Honda Stream 1.8A RSZ Sunroof</a>,\n",
       " <a class=\"link_black nounderline\" href=\"listing.php?VEH=10\">MPV</a>,\n",
       " <a class=\"cusStarTitle_popups add_watchlist\" href=\"javascript:showLoginPopup();\" id=\"usedCarsShortlist861767\" rel=\"cusStarTitle_861767\" style=\"display:block; width:21px; height:20px; background:url(https://i.i-sgcm.com/all/actionsnshare/alert_star21x45.png) -1px 0px no-repeat;\"></a>,\n",
       " <a class=\"link_gray_listing\" href=\"listing.php?RGD=2010&amp;MOD=Honda+Stream\">2010 Honda Stream</a>,\n",
       " <a class=\"link_gray_listing\" href=\"listing.php?RGD=2010&amp;MOD=honda+stream\">2010 honda stream</a>,\n",
       " <a class=\"link_gray_listing\" href=\"listing.php?MOD=Honda+Stream\">Honda Stream</a>,\n",
       " <a class=\"link_gray_listing\" href=\"listing.php?MOD=honda+stream\">honda stream</a>,\n",
       " <a class=\"link_gray_listing\" href=\"/main/searchlanding.php?MOD=Honda\">Honda</a>,\n",
       " <a class=\"link_gray_listing\" href=\"listing.php?MOD=Stream\">Stream</a>,\n",
       " <a class=\"link_gray_listing\" href=\"listing.php?MOD=stream\">stream</a>,\n",
       " <a class=\"link_gray_listing\" href=\"used_car_make.php?MAK=Honda\">Used Honda</a>,\n",
       " <a href=\"info.php?ID=861304&amp;DL=3269\"><img border=\"0\" src=\"https://i.i-sgcm.com/cars_used/frame_s.gif\"/></a>,\n",
       " <a href=\"info.php?ID=861304&amp;DL=3269\">BMW 5 Series 523i (New 10-yr COE)</a>,\n",
       " <a class=\"link_black nounderline\" href=\"listing.php?VEH=12\">Luxury</a>,\n",
       " <a class=\"cusStarTitle_popups add_watchlist\" href=\"javascript:showLoginPopup();\" id=\"usedCarsShortlist861304\" rel=\"cusStarTitle_861304\" style=\"display:block; width:21px; height:20px; background:url(https://i.i-sgcm.com/all/actionsnshare/alert_star21x45.png) -1px 0px no-repeat;\"></a>,\n",
       " <a class=\"link_gray_listing\" href=\"listing.php?RGD=2010&amp;MOD=BMW+523i\">2010 BMW 523i</a>,\n",
       " <a class=\"link_gray_listing\" href=\"listing.php?RGD=2010&amp;MOD=bmw+523i\">2010 bmw 523i</a>,\n",
       " <a class=\"link_gray_listing\" href=\"listing.php?MOD=BMW+523i\">BMW 523i</a>,\n",
       " <a class=\"link_gray_listing\" href=\"listing.php?MOD=bmw+523i\">bmw 523i</a>,\n",
       " <a class=\"link_gray_listing\" href=\"/main/searchlanding.php?MOD=BMW\">BMW</a>,\n",
       " <a class=\"link_gray_listing\" href=\"listing.php?MOD=523i\">523i</a>,\n",
       " <a class=\"link_gray_listing\" href=\"used_car_make.php?MAK=BMW\">Used BMW</a>,\n",
       " <a href=\"listing.php?CAT=1\"><img alt=\"Premium Ad\" border=\"0\" height=\"13\" src=\"https://i.i-sgcm.com/used_cars/premium_ad_65x13.gif\" width=\"65\"/></a>,\n",
       " <a href=\"info.php?ID=861069&amp;DL=1103\"><img border=\"0\" src=\"https://i.i-sgcm.com/cars_used/frame_s.gif\"/></a>,\n",
       " <a href=\"info.php?ID=861069&amp;DL=1103\">Mitsubishi Lancer EX 1.5A GLS Sports (COE till 08/2023)</a>,\n",
       " <a class=\"link_black nounderline\" href=\"listing.php?VEH=13\">Sedan</a>,\n",
       " <a class=\"cusStarTitle_popups add_watchlist\" href=\"javascript:showLoginPopup();\" id=\"usedCarsShortlist861069\" rel=\"cusStarTitle_861069\" style=\"display:block; width:21px; height:20px; background:url(https://i.i-sgcm.com/all/actionsnshare/alert_star21x45.png) -1px 0px no-repeat;\"></a>,\n",
       " <a class=\"link_gray_listing\" href=\"listing.php?RGD=2008&amp;MOD=Mitsubishi+Lancer\">2008 Mitsubishi Lancer</a>,\n",
       " <a class=\"link_gray_listing\" href=\"listing.php?RGD=2008&amp;MOD=mitsubishi+lancer\">2008 mitsubishi lancer</a>,\n",
       " <a class=\"link_gray_listing\" href=\"listing.php?MOD=Mitsubishi+Lancer\">Mitsubishi Lancer</a>,\n",
       " <a class=\"link_gray_listing\" href=\"listing.php?MOD=mitsubishi+lancer\">mitsubishi lancer</a>,\n",
       " <a class=\"link_gray_listing\" href=\"/main/searchlanding.php?MOD=Mitsubishi\">Mitsubishi</a>,\n",
       " <a class=\"link_gray_listing\" href=\"listing.php?MOD=Lancer\">Lancer</a>,\n",
       " <a class=\"link_gray_listing\" href=\"listing.php?MOD=lancer\">lancer</a>,\n",
       " <a class=\"link_gray_listing\" href=\"used_car_make.php?MAK=Mitsubishi\">Used Mitsubishi</a>,\n",
       " <a href=\"info.php?ID=860169&amp;DL=1354\"><img border=\"0\" src=\"https://i.i-sgcm.com/cars_used/frame_s.gif\"/></a>,\n",
       " <a href=\"info.php?ID=860169&amp;DL=1354\">BMW 1 Series 116d</a>,\n",
       " <a class=\"link_black nounderline\" href=\"listing.php?VEH=11\">Hatchback</a>,\n",
       " <a href=\"/used_cars/listing.php?CAT=21\"><img alt=\"STA graded cars\" height=\"16\" src=\"https://i.i-sgcm.com/used_cars/sta_listing_logo.gif\" width=\"29\"/></a>,\n",
       " <a href=\"listing.php?DL=1354\" style=\"color:#950000;\">Cosmo Automobiles</a>,\n",
       " <a class=\"cusStarTitle_popups add_watchlist\" href=\"javascript:showLoginPopup();\" id=\"usedCarsShortlist860169\" rel=\"cusStarTitle_860169\" style=\"display:block; width:21px; height:20px; background:url(https://i.i-sgcm.com/all/actionsnshare/alert_star21x45.png) -1px 0px no-repeat;\"></a>,\n",
       " <a class=\"link_gray_listing\" href=\"listing.php?RGD=2016&amp;MOD=BMW+116d\">2016 BMW 116d</a>,\n",
       " <a class=\"link_gray_listing\" href=\"listing.php?RGD=2016&amp;MOD=bmw+116d\">2016 bmw 116d</a>,\n",
       " <a class=\"link_gray_listing\" href=\"listing.php?MOD=BMW+116d\">BMW 116d</a>,\n",
       " <a class=\"link_gray_listing\" href=\"listing.php?MOD=bmw+116d\">bmw 116d</a>,\n",
       " <a class=\"link_gray_listing\" href=\"/main/searchlanding.php?MOD=BMW\">BMW</a>,\n",
       " <a class=\"link_gray_listing\" href=\"listing.php?MOD=116d\">116d</a>,\n",
       " <a class=\"link_gray_listing\" href=\"used_car_make.php?MAK=BMW\">Used BMW</a>,\n",
       " <a href=\"info.php?ID=858926&amp;DL=1103\"><img border=\"0\" src=\"https://i.i-sgcm.com/cars_used/frame_s.gif\"/></a>,\n",
       " <a href=\"info.php?ID=858926&amp;DL=1103\">Hyundai Avante 1.6A S (New 5-yr COE)</a>,\n",
       " <a class=\"link_black nounderline\" href=\"listing.php?VEH=13\">Sedan</a>,\n",
       " <a class=\"cusStarTitle_popups add_watchlist\" href=\"javascript:showLoginPopup();\" id=\"usedCarsShortlist858926\" rel=\"cusStarTitle_858926\" style=\"display:block; width:21px; height:20px; background:url(https://i.i-sgcm.com/all/actionsnshare/alert_star21x45.png) -1px 0px no-repeat;\"></a>,\n",
       " <a class=\"link_gray_listing\" href=\"listing.php?RGD=2009&amp;MOD=Hyundai+Avante\">2009 Hyundai Avante</a>,\n",
       " <a class=\"link_gray_listing\" href=\"listing.php?RGD=2009&amp;MOD=hyundai+avante\">2009 hyundai avante</a>,\n",
       " <a class=\"link_gray_listing\" href=\"listing.php?MOD=Hyundai+Avante\">Hyundai Avante</a>,\n",
       " <a class=\"link_gray_listing\" href=\"listing.php?MOD=hyundai+avante\">hyundai avante</a>,\n",
       " <a class=\"link_gray_listing\" href=\"/main/searchlanding.php?MOD=Hyundai\">Hyundai</a>,\n",
       " <a class=\"link_gray_listing\" href=\"listing.php?MOD=Avante\">Avante</a>,\n",
       " <a class=\"link_gray_listing\" href=\"listing.php?MOD=avante\">avante</a>,\n",
       " <a class=\"link_gray_listing\" href=\"used_car_make.php?MAK=Hyundai\">Used Hyundai</a>,\n",
       " <a href=\"info.php?ID=856469&amp;DL=3293\"><img border=\"0\" src=\"https://i.i-sgcm.com/cars_used/frame_s.gif\"/></a>,\n",
       " <a href=\"info.php?ID=856469&amp;DL=3293\">Peugeot Partner 1.6A HDi LWB</a>,\n",
       " <a class=\"link_black nounderline\" href=\"listing.php?VEH=4\">Van</a>,\n",
       " <a href=\"listing.php?DL=3113\" style=\"color:#950000;\">ABWIN Bus Pte Ltd</a>,\n",
       " <a class=\"cusStarTitle_popups add_watchlist\" href=\"javascript:showLoginPopup();\" id=\"usedCarsShortlist856469\" rel=\"cusStarTitle_856469\" style=\"display:block; width:21px; height:20px; background:url(https://i.i-sgcm.com/all/actionsnshare/alert_star21x45.png) -1px 0px no-repeat;\"></a>,\n",
       " <a class=\"link_gray_listing\" href=\"listing.php?RGD=2015&amp;MOD=Peugeot+Partner\">2015 Peugeot Partner</a>,\n",
       " <a class=\"link_gray_listing\" href=\"listing.php?RGD=2015&amp;MOD=peugeot+partner\">2015 peugeot partner</a>,\n",
       " <a class=\"link_gray_listing\" href=\"listing.php?MOD=Peugeot+Partner\">Peugeot Partner</a>,\n",
       " <a class=\"link_gray_listing\" href=\"listing.php?MOD=peugeot+partner\">peugeot partner</a>,\n",
       " <a class=\"link_gray_listing\" href=\"/main/searchlanding.php?MOD=Peugeot\">Peugeot</a>,\n",
       " <a class=\"link_gray_listing\" href=\"listing.php?MOD=Partner\">Partner</a>,\n",
       " <a class=\"link_gray_listing\" href=\"listing.php?MOD=partner\">partner</a>,\n",
       " <a class=\"link_gray_listing\" href=\"used_car_make.php?MAK=Peugeot\">Used Peugeot</a>,\n",
       " <a href=\"listing.php?CAT=1\"><img alt=\"Premium Ad\" border=\"0\" height=\"13\" src=\"https://i.i-sgcm.com/used_cars/premium_ad_65x13.gif\" width=\"65\"/></a>,\n",
       " <a href=\"info.php?ID=855757&amp;DL=3559\"><img border=\"0\" src=\"https://i.i-sgcm.com/cars_used/frame_s.gif\"/></a>,\n",
       " <a href=\"info.php?ID=855757&amp;DL=3559\">Toyota Camry 2.5A</a>,\n",
       " <a class=\"link_black nounderline\" href=\"listing.php?VEH=12\">Luxury</a>,\n",
       " <a class=\"cusStarTitle_popups add_watchlist\" href=\"javascript:showLoginPopup();\" id=\"usedCarsShortlist855757\" rel=\"cusStarTitle_855757\" style=\"display:block; width:21px; height:20px; background:url(https://i.i-sgcm.com/all/actionsnshare/alert_star21x45.png) -1px 0px no-repeat;\"></a>,\n",
       " <a class=\"link_gray_listing\" href=\"listing.php?RGD=2016&amp;MOD=Toyota+Camry\">2016 Toyota Camry</a>,\n",
       " <a class=\"link_gray_listing\" href=\"listing.php?RGD=2016&amp;MOD=toyota+camry\">2016 toyota camry</a>,\n",
       " <a class=\"link_gray_listing\" href=\"listing.php?MOD=Toyota+Camry\">Toyota Camry</a>,\n",
       " <a class=\"link_gray_listing\" href=\"listing.php?MOD=toyota+camry\">toyota camry</a>,\n",
       " <a class=\"link_gray_listing\" href=\"/main/searchlanding.php?MOD=Toyota\">Toyota</a>,\n",
       " <a class=\"link_gray_listing\" href=\"listing.php?MOD=Camry\">Camry</a>,\n",
       " <a class=\"link_gray_listing\" href=\"listing.php?MOD=camry\">camry</a>,\n",
       " <a class=\"link_gray_listing\" href=\"used_car_make.php?MAK=Toyota\">Used Toyota</a>,\n",
       " <a href=\"info.php?ID=854333&amp;DL=3559\"><img border=\"0\" src=\"https://i.i-sgcm.com/cars_used/frame_s.gif\"/></a>,\n",
       " <a href=\"info.php?ID=854333&amp;DL=3559\">Volkswagen Golf 1.4A TSI</a>,\n",
       " <a class=\"link_black nounderline\" href=\"listing.php?VEH=11\">Hatchback</a>,\n",
       " <a class=\"cusStarTitle_popups add_watchlist\" href=\"javascript:showLoginPopup();\" id=\"usedCarsShortlist854333\" rel=\"cusStarTitle_854333\" style=\"display:block; width:21px; height:20px; background:url(https://i.i-sgcm.com/all/actionsnshare/alert_star21x45.png) -1px 0px no-repeat;\"></a>,\n",
       " <a class=\"link_gray_listing\" href=\"listing.php?RGD=2014&amp;MOD=Volkswagen+Golf\">2014 Volkswagen Golf</a>,\n",
       " <a class=\"link_gray_listing\" href=\"listing.php?RGD=2014&amp;MOD=volkswagen+golf\">2014 volkswagen golf</a>,\n",
       " <a class=\"link_gray_listing\" href=\"listing.php?MOD=Volkswagen+Golf\">Volkswagen Golf</a>,\n",
       " <a class=\"link_gray_listing\" href=\"listing.php?MOD=volkswagen+golf\">volkswagen golf</a>,\n",
       " <a class=\"link_gray_listing\" href=\"/main/searchlanding.php?MOD=Volkswagen\">Volkswagen</a>,\n",
       " <a class=\"link_gray_listing\" href=\"listing.php?MOD=Golf\">Golf</a>,\n",
       " <a class=\"link_gray_listing\" href=\"listing.php?MOD=golf\">golf</a>,\n",
       " <a class=\"link_gray_listing\" href=\"used_car_make.php?MAK=Volkswagen\">Used Volkswagen</a>,\n",
       " <a href=\"info.php?ID=853612&amp;DL=2690\"><img border=\"0\" src=\"https://i.i-sgcm.com/cars_used/frame_s.gif\"/></a>,\n",
       " <a href=\"info.php?ID=853612&amp;DL=2690\">Mazda 3 1.5A Sunroof</a>,\n",
       " <a class=\"link_black nounderline\" href=\"listing.php?VEH=13\">Sedan</a>,\n",
       " <a href=\"listing.php?DL=2690\" style=\"color:#950000;\">1axis</a>,\n",
       " <a class=\"cusStarTitle_popups add_watchlist\" href=\"javascript:showLoginPopup();\" id=\"usedCarsShortlist853612\" rel=\"cusStarTitle_853612\" style=\"display:block; width:21px; height:20px; background:url(https://i.i-sgcm.com/all/actionsnshare/alert_star21x45.png) -1px 0px no-repeat;\"></a>,\n",
       " <a class=\"link_gray_listing\" href=\"listing.php?RGD=2018&amp;MOD=Mazda+3\">2018 Mazda 3</a>,\n",
       " <a class=\"link_gray_listing\" href=\"listing.php?RGD=2018&amp;MOD=mazda+3\">2018 mazda 3</a>,\n",
       " <a class=\"link_gray_listing\" href=\"listing.php?MOD=Mazda+3\">Mazda 3</a>,\n",
       " <a class=\"link_gray_listing\" href=\"listing.php?MOD=mazda+3\">mazda 3</a>,\n",
       " <a class=\"link_gray_listing\" href=\"/main/searchlanding.php?MOD=Mazda\">Mazda</a>,\n",
       " <a class=\"link_gray_listing\" href=\"listing.php?MOD=3\">3</a>,\n",
       " <a class=\"link_gray_listing\" href=\"used_car_make.php?MAK=Mazda\">Used Mazda</a>,\n",
       " <a href=\"info.php?ID=852662&amp;DL=3293\"><img border=\"0\" src=\"https://i.i-sgcm.com/cars_used/frame_s.gif\"/></a>,\n",
       " <a href=\"info.php?ID=852662&amp;DL=3293\">Toyota Hiace 2.8A DX</a>,\n",
       " <a class=\"link_black nounderline\" href=\"listing.php?VEH=4\">Van</a>,\n",
       " <a href=\"listing.php?DL=3113\" style=\"color:#950000;\">ABWIN Bus Pte Ltd</a>,\n",
       " <a class=\"cusStarTitle_popups add_watchlist\" href=\"javascript:showLoginPopup();\" id=\"usedCarsShortlist852662\" rel=\"cusStarTitle_852662\" style=\"display:block; width:21px; height:20px; background:url(https://i.i-sgcm.com/all/actionsnshare/alert_star21x45.png) -1px 0px no-repeat;\"></a>,\n",
       " <a class=\"link_gray_listing\" href=\"listing.php?RGD=2019&amp;MOD=Toyota+Hiace\">2019 Toyota Hiace</a>,\n",
       " <a class=\"link_gray_listing\" href=\"listing.php?RGD=2019&amp;MOD=toyota+hiace\">2019 toyota hiace</a>,\n",
       " <a class=\"link_gray_listing\" href=\"listing.php?MOD=Toyota+Hiace\">Toyota Hiace</a>,\n",
       " <a class=\"link_gray_listing\" href=\"listing.php?MOD=toyota+hiace\">toyota hiace</a>,\n",
       " <a class=\"link_gray_listing\" href=\"/main/searchlanding.php?MOD=Toyota\">Toyota</a>,\n",
       " <a class=\"link_gray_listing\" href=\"listing.php?MOD=Hiace\">Hiace</a>,\n",
       " <a class=\"link_gray_listing\" href=\"listing.php?MOD=hiace\">hiace</a>,\n",
       " <a class=\"link_gray_listing\" href=\"used_car_make.php?MAK=Toyota\">Used Toyota</a>,\n",
       " <a href=\"listing.php?CAT=1\"><img alt=\"Premium Ad\" border=\"0\" height=\"13\" src=\"https://i.i-sgcm.com/used_cars/premium_ad_65x13.gif\" width=\"65\"/></a>,\n",
       " <a href=\"info.php?ID=851616&amp;DL=3156\"><img border=\"0\" src=\"https://i.i-sgcm.com/cars_used/frame_s.gif\"/></a>,\n",
       " <a href=\"info.php?ID=851616&amp;DL=3156\">Nissan NV200 1.5M (New 5-yr COE)</a>,\n",
       " <a class=\"link_black nounderline\" href=\"listing.php?VEH=4\">Van</a>,\n",
       " <a href=\"listing.php?DL=2723\" style=\"color:#950000;\">Net Link Partners Pte Ltd</a>,\n",
       " <a class=\"cusStarTitle_popups add_watchlist\" href=\"javascript:showLoginPopup();\" id=\"usedCarsShortlist851616\" rel=\"cusStarTitle_851616\" style=\"display:block; width:21px; height:20px; background:url(https://i.i-sgcm.com/all/actionsnshare/alert_star21x45.png) -1px 0px no-repeat;\"></a>,\n",
       " <a class=\"link_gray_listing\" href=\"listing.php?RGD=2010&amp;MOD=Nissan+NV200\">2010 Nissan NV200</a>,\n",
       " <a class=\"link_gray_listing\" href=\"listing.php?RGD=2010&amp;MOD=nissan+nv200\">2010 nissan nv200</a>,\n",
       " <a class=\"link_gray_listing\" href=\"listing.php?MOD=Nissan+NV200\">Nissan NV200</a>,\n",
       " <a class=\"link_gray_listing\" href=\"listing.php?MOD=nissan+nv200\">nissan nv200</a>,\n",
       " <a class=\"link_gray_listing\" href=\"/main/searchlanding.php?MOD=Nissan\">Nissan</a>,\n",
       " <a class=\"link_gray_listing\" href=\"listing.php?MOD=NV200\">NV200</a>,\n",
       " <a class=\"link_gray_listing\" href=\"listing.php?MOD=nv200\">nv200</a>,\n",
       " <a class=\"link_gray_listing\" href=\"used_car_make.php?MAK=Nissan\">Used Nissan</a>,\n",
       " <a href=\"listing.php?CAT=1\"><img alt=\"Premium Ad\" border=\"0\" height=\"13\" src=\"https://i.i-sgcm.com/used_cars/premium_ad_65x13.gif\" width=\"65\"/></a>,\n",
       " <a href=\"info.php?ID=849016&amp;DL=2266\"><img border=\"0\" src=\"https://i.i-sgcm.com/cars_used/frame_s.gif\"/></a>,\n",
       " <a href=\"info.php?ID=849016&amp;DL=2266\">Proton Exora 1.6A M-Line (New 5-yr COE)</a>,\n",
       " <a class=\"link_black nounderline\" href=\"listing.php?VEH=10\">MPV</a>,\n",
       " <a href=\"listing.php?DL=1354\" style=\"color:#950000;\">Cosmo Automobiles</a>,\n",
       " <a class=\"cusStarTitle_popups add_watchlist\" href=\"javascript:showLoginPopup();\" id=\"usedCarsShortlist849016\" rel=\"cusStarTitle_849016\" style=\"display:block; width:21px; height:20px; background:url(https://i.i-sgcm.com/all/actionsnshare/alert_star21x45.png) -1px 0px no-repeat;\"></a>,\n",
       " <a class=\"link_gray_listing\" href=\"listing.php?RGD=2009&amp;MOD=Proton+Exora\">2009 Proton Exora</a>,\n",
       " <a class=\"link_gray_listing\" href=\"listing.php?RGD=2009&amp;MOD=proton+exora\">2009 proton exora</a>,\n",
       " <a class=\"link_gray_listing\" href=\"listing.php?MOD=Proton+Exora\">Proton Exora</a>,\n",
       " <a class=\"link_gray_listing\" href=\"listing.php?MOD=proton+exora\">proton exora</a>,\n",
       " <a class=\"link_gray_listing\" href=\"/main/searchlanding.php?MOD=Proton\">Proton</a>,\n",
       " ...]"
      ]
     },
     "execution_count": 560,
     "metadata": {},
     "output_type": "execute_result"
    }
   ],
   "source": [
    "main_page.find_all('a')"
   ]
  },
  {
   "cell_type": "code",
   "execution_count": 561,
   "metadata": {},
   "outputs": [
    {
     "data": {
      "text/plain": [
       "<a href=\"listing.php?MOD=&amp;RPG=100&amp;VEH=0&amp;AVL=2\" style=\"background-color:#0066AA; color:#FFFFFF;\">All Makes</a>"
      ]
     },
     "execution_count": 561,
     "metadata": {},
     "output_type": "execute_result"
    }
   ],
   "source": [
    "main_page.find_all('a')[0]  # Example of 1 item in the list"
   ]
  },
  {
   "cell_type": "code",
   "execution_count": 808,
   "metadata": {},
   "outputs": [
    {
     "name": "stdout",
     "output_type": "stream",
     "text": [
      "https://www.sgcarmart.com/used_cars/info.php?ID=858208&DL=1000\n",
      "https://www.sgcarmart.com/used_cars/info.php?ID=858208&DL=1000\n",
      "https://www.sgcarmart.com/used_cars/info.php?ID=862846&DL=1000\n",
      "https://www.sgcarmart.com/used_cars/info.php?ID=862846&DL=1000\n",
      "https://www.sgcarmart.com/used_cars/info.php?ID=862843&DL=1103\n",
      "https://www.sgcarmart.com/used_cars/info.php?ID=862843&DL=1103\n",
      "https://www.sgcarmart.com/used_cars/info.php?ID=862201&DL=3345\n",
      "https://www.sgcarmart.com/used_cars/info.php?ID=862201&DL=3345\n",
      "https://www.sgcarmart.com/used_cars/info.php?ID=861970&DL=3345\n",
      "https://www.sgcarmart.com/used_cars/info.php?ID=861970&DL=3345\n",
      "https://www.sgcarmart.com/used_cars/info.php?ID=860493&DL=2976\n",
      "https://www.sgcarmart.com/used_cars/info.php?ID=860493&DL=2976\n",
      "https://www.sgcarmart.com/used_cars/info.php?ID=781368&DL=1034\n",
      "https://www.sgcarmart.com/used_cars/info.php?ID=781368&DL=1034\n",
      "https://www.sgcarmart.com/used_cars/info.php?ID=860253&DL=3345\n",
      "https://www.sgcarmart.com/used_cars/info.php?ID=860253&DL=3345\n",
      "https://www.sgcarmart.com/used_cars/info.php?ID=859546&DL=1344\n",
      "https://www.sgcarmart.com/used_cars/info.php?ID=859546&DL=1344\n",
      "https://www.sgcarmart.com/used_cars/info.php?ID=858182&DL=1000\n",
      "https://www.sgcarmart.com/used_cars/info.php?ID=858182&DL=1000\n",
      "https://www.sgcarmart.com/used_cars/info.php?ID=858165&DL=1000\n",
      "https://www.sgcarmart.com/used_cars/info.php?ID=858165&DL=1000\n",
      "https://www.sgcarmart.com/used_cars/info.php?ID=858132&DL=1000\n",
      "https://www.sgcarmart.com/used_cars/info.php?ID=858132&DL=1000\n",
      "https://www.sgcarmart.com/used_cars/info.php?ID=858125&DL=1000\n",
      "https://www.sgcarmart.com/used_cars/info.php?ID=858125&DL=1000\n",
      "https://www.sgcarmart.com/used_cars/info.php?ID=858112&DL=1000\n",
      "https://www.sgcarmart.com/used_cars/info.php?ID=858112&DL=1000\n",
      "https://www.sgcarmart.com/used_cars/info.php?ID=858095&DL=1000\n",
      "https://www.sgcarmart.com/used_cars/info.php?ID=858095&DL=1000\n",
      "https://www.sgcarmart.com/used_cars/info.php?ID=856467&DL=3293\n",
      "https://www.sgcarmart.com/used_cars/info.php?ID=856467&DL=3293\n",
      "https://www.sgcarmart.com/used_cars/info.php?ID=856065&DL=1103\n",
      "https://www.sgcarmart.com/used_cars/info.php?ID=856065&DL=1103\n",
      "https://www.sgcarmart.com/used_cars/info.php?ID=855452&DL=3106\n",
      "https://www.sgcarmart.com/used_cars/info.php?ID=855452&DL=3106\n",
      "https://www.sgcarmart.com/used_cars/info.php?ID=853039&DL=1354\n",
      "https://www.sgcarmart.com/used_cars/info.php?ID=853039&DL=1354\n",
      "https://www.sgcarmart.com/used_cars/info.php?ID=852333&DL=3559\n",
      "https://www.sgcarmart.com/used_cars/info.php?ID=852333&DL=3559\n",
      "https://www.sgcarmart.com/used_cars/info.php?ID=851656&DL=1354\n",
      "https://www.sgcarmart.com/used_cars/info.php?ID=851656&DL=1354\n",
      "https://www.sgcarmart.com/used_cars/info.php?ID=850487&DL=1213\n",
      "https://www.sgcarmart.com/used_cars/info.php?ID=850487&DL=1213\n",
      "https://www.sgcarmart.com/used_cars/info.php?ID=849725&DL=2690\n",
      "https://www.sgcarmart.com/used_cars/info.php?ID=849725&DL=2690\n",
      "https://www.sgcarmart.com/used_cars/info.php?ID=848836&DL=1000\n",
      "https://www.sgcarmart.com/used_cars/info.php?ID=848836&DL=1000\n",
      "https://www.sgcarmart.com/used_cars/info.php?ID=848427&DL=3155\n",
      "https://www.sgcarmart.com/used_cars/info.php?ID=848427&DL=3155\n",
      "https://www.sgcarmart.com/used_cars/info.php?ID=844088&DL=2266\n",
      "https://www.sgcarmart.com/used_cars/info.php?ID=844088&DL=2266\n",
      "https://www.sgcarmart.com/used_cars/info.php?ID=840246&DL=2266\n",
      "https://www.sgcarmart.com/used_cars/info.php?ID=840246&DL=2266\n",
      "https://www.sgcarmart.com/used_cars/info.php?ID=838357&DL=2164\n",
      "https://www.sgcarmart.com/used_cars/info.php?ID=838357&DL=2164\n",
      "https://www.sgcarmart.com/used_cars/info.php?ID=836754&DL=1411\n",
      "https://www.sgcarmart.com/used_cars/info.php?ID=836754&DL=1411\n",
      "https://www.sgcarmart.com/used_cars/info.php?ID=828320&DL=2164\n",
      "https://www.sgcarmart.com/used_cars/info.php?ID=828320&DL=2164\n",
      "https://www.sgcarmart.com/used_cars/info.php?ID=776003&DL=3155\n",
      "https://www.sgcarmart.com/used_cars/info.php?ID=776003&DL=3155\n",
      "https://www.sgcarmart.com/used_cars/info.php?ID=862845&DL=1000\n",
      "https://www.sgcarmart.com/used_cars/info.php?ID=862845&DL=1000\n",
      "https://www.sgcarmart.com/used_cars/info.php?ID=862844&DL=2633\n",
      "https://www.sgcarmart.com/used_cars/info.php?ID=862844&DL=2633\n",
      "https://www.sgcarmart.com/used_cars/info.php?ID=862837&DL=1000\n",
      "https://www.sgcarmart.com/used_cars/info.php?ID=862837&DL=1000\n",
      "https://www.sgcarmart.com/used_cars/info.php?ID=862825&DL=1000\n",
      "https://www.sgcarmart.com/used_cars/info.php?ID=862825&DL=1000\n",
      "https://www.sgcarmart.com/used_cars/info.php?ID=862762&DL=1000\n",
      "https://www.sgcarmart.com/used_cars/info.php?ID=862762&DL=1000\n",
      "https://www.sgcarmart.com/used_cars/info.php?ID=862756&DL=1000\n",
      "https://www.sgcarmart.com/used_cars/info.php?ID=862756&DL=1000\n",
      "https://www.sgcarmart.com/used_cars/info.php?ID=862748&DL=1000\n",
      "https://www.sgcarmart.com/used_cars/info.php?ID=862748&DL=1000\n",
      "https://www.sgcarmart.com/used_cars/info.php?ID=861767&DL=3559\n",
      "https://www.sgcarmart.com/used_cars/info.php?ID=861767&DL=3559\n",
      "https://www.sgcarmart.com/used_cars/info.php?ID=861304&DL=3269\n",
      "https://www.sgcarmart.com/used_cars/info.php?ID=861304&DL=3269\n",
      "https://www.sgcarmart.com/used_cars/info.php?ID=861069&DL=1103\n",
      "https://www.sgcarmart.com/used_cars/info.php?ID=861069&DL=1103\n",
      "https://www.sgcarmart.com/used_cars/info.php?ID=860169&DL=1354\n",
      "https://www.sgcarmart.com/used_cars/info.php?ID=860169&DL=1354\n",
      "https://www.sgcarmart.com/used_cars/info.php?ID=858926&DL=1103\n",
      "https://www.sgcarmart.com/used_cars/info.php?ID=858926&DL=1103\n",
      "https://www.sgcarmart.com/used_cars/info.php?ID=856469&DL=3293\n",
      "https://www.sgcarmart.com/used_cars/info.php?ID=856469&DL=3293\n",
      "https://www.sgcarmart.com/used_cars/info.php?ID=855757&DL=3559\n",
      "https://www.sgcarmart.com/used_cars/info.php?ID=855757&DL=3559\n",
      "https://www.sgcarmart.com/used_cars/info.php?ID=854333&DL=3559\n",
      "https://www.sgcarmart.com/used_cars/info.php?ID=854333&DL=3559\n",
      "https://www.sgcarmart.com/used_cars/info.php?ID=853612&DL=2690\n",
      "https://www.sgcarmart.com/used_cars/info.php?ID=853612&DL=2690\n",
      "https://www.sgcarmart.com/used_cars/info.php?ID=852662&DL=3293\n",
      "https://www.sgcarmart.com/used_cars/info.php?ID=852662&DL=3293\n",
      "https://www.sgcarmart.com/used_cars/info.php?ID=851616&DL=3156\n",
      "https://www.sgcarmart.com/used_cars/info.php?ID=851616&DL=3156\n",
      "https://www.sgcarmart.com/used_cars/info.php?ID=849016&DL=2266\n",
      "https://www.sgcarmart.com/used_cars/info.php?ID=849016&DL=2266\n",
      "https://www.sgcarmart.com/used_cars/info.php?ID=847965&DL=1344\n",
      "https://www.sgcarmart.com/used_cars/info.php?ID=847965&DL=1344\n",
      "https://www.sgcarmart.com/used_cars/info.php?ID=844424&DL=1354\n",
      "https://www.sgcarmart.com/used_cars/info.php?ID=844424&DL=1354\n",
      "https://www.sgcarmart.com/used_cars/info.php?ID=841967&DL=2266\n",
      "https://www.sgcarmart.com/used_cars/info.php?ID=841967&DL=2266\n",
      "https://www.sgcarmart.com/used_cars/info.php?ID=838603&DL=2164\n",
      "https://www.sgcarmart.com/used_cars/info.php?ID=838603&DL=2164\n",
      "https://www.sgcarmart.com/used_cars/info.php?ID=837547&DL=2164\n",
      "https://www.sgcarmart.com/used_cars/info.php?ID=837547&DL=2164\n",
      "https://www.sgcarmart.com/used_cars/info.php?ID=812564&DL=3293\n",
      "https://www.sgcarmart.com/used_cars/info.php?ID=812564&DL=3293\n",
      "https://www.sgcarmart.com/used_cars/info.php?ID=802729&DL=1344\n",
      "https://www.sgcarmart.com/used_cars/info.php?ID=802729&DL=1344\n",
      "https://www.sgcarmart.com/used_cars/info.php?ID=800512&DL=1213\n",
      "https://www.sgcarmart.com/used_cars/info.php?ID=800512&DL=1213\n",
      "https://www.sgcarmart.com/used_cars/info.php?ID=862841&DL=3108\n",
      "https://www.sgcarmart.com/used_cars/info.php?ID=862841&DL=3108\n",
      "https://www.sgcarmart.com/used_cars/info.php?ID=861884&DL=2425\n",
      "https://www.sgcarmart.com/used_cars/info.php?ID=861884&DL=2425\n",
      "https://www.sgcarmart.com/used_cars/info.php?ID=861630&DL=3293\n",
      "https://www.sgcarmart.com/used_cars/info.php?ID=861630&DL=3293\n",
      "https://www.sgcarmart.com/used_cars/info.php?ID=860489&DL=2690\n",
      "https://www.sgcarmart.com/used_cars/info.php?ID=860489&DL=2690\n",
      "https://www.sgcarmart.com/used_cars/info.php?ID=858377&DL=3293\n",
      "https://www.sgcarmart.com/used_cars/info.php?ID=858377&DL=3293\n",
      "https://www.sgcarmart.com/used_cars/info.php?ID=858173&DL=1000\n",
      "https://www.sgcarmart.com/used_cars/info.php?ID=858173&DL=1000\n",
      "https://www.sgcarmart.com/used_cars/info.php?ID=858171&DL=1000\n",
      "https://www.sgcarmart.com/used_cars/info.php?ID=858171&DL=1000\n",
      "https://www.sgcarmart.com/used_cars/info.php?ID=858164&DL=1000\n",
      "https://www.sgcarmart.com/used_cars/info.php?ID=858164&DL=1000\n",
      "https://www.sgcarmart.com/used_cars/info.php?ID=858135&DL=1000\n",
      "https://www.sgcarmart.com/used_cars/info.php?ID=858135&DL=1000\n",
      "https://www.sgcarmart.com/used_cars/info.php?ID=858087&DL=1000\n",
      "https://www.sgcarmart.com/used_cars/info.php?ID=858087&DL=1000\n",
      "https://www.sgcarmart.com/used_cars/info.php?ID=858081&DL=1000\n",
      "https://www.sgcarmart.com/used_cars/info.php?ID=858081&DL=1000\n",
      "https://www.sgcarmart.com/used_cars/info.php?ID=857650&DL=2690\n",
      "https://www.sgcarmart.com/used_cars/info.php?ID=857650&DL=2690\n",
      "https://www.sgcarmart.com/used_cars/info.php?ID=857565&DL=3155\n",
      "https://www.sgcarmart.com/used_cars/info.php?ID=857565&DL=3155\n",
      "https://www.sgcarmart.com/used_cars/info.php?ID=852038&DL=1344\n",
      "https://www.sgcarmart.com/used_cars/info.php?ID=852038&DL=1344\n",
      "https://www.sgcarmart.com/used_cars/info.php?ID=851787&DL=2783\n",
      "https://www.sgcarmart.com/used_cars/info.php?ID=851787&DL=2783\n",
      "https://www.sgcarmart.com/used_cars/info.php?ID=851240&DL=3155\n",
      "https://www.sgcarmart.com/used_cars/info.php?ID=851240&DL=3155\n",
      "https://www.sgcarmart.com/used_cars/info.php?ID=842638&DL=1344\n",
      "https://www.sgcarmart.com/used_cars/info.php?ID=842638&DL=1344\n",
      "https://www.sgcarmart.com/used_cars/info.php?ID=841148&DL=1411\n",
      "https://www.sgcarmart.com/used_cars/info.php?ID=841148&DL=1411\n",
      "https://www.sgcarmart.com/used_cars/info.php?ID=839333&DL=1213\n",
      "https://www.sgcarmart.com/used_cars/info.php?ID=839333&DL=1213\n",
      "https://www.sgcarmart.com/used_cars/info.php?ID=823298&DL=1344\n",
      "https://www.sgcarmart.com/used_cars/info.php?ID=823298&DL=1344\n",
      "https://www.sgcarmart.com/used_cars/info.php?ID=784631&DL=3293\n",
      "https://www.sgcarmart.com/used_cars/info.php?ID=784631&DL=3293\n",
      "https://www.sgcarmart.com/used_cars/info.php?ID=848550&DL=3093\n",
      "https://www.sgcarmart.com/used_cars/info.php?ID=848550&DL=3093\n",
      "https://www.sgcarmart.com/used_cars/info.php?ID=848522&DL=1061\n",
      "https://www.sgcarmart.com/used_cars/info.php?ID=848522&DL=1061\n",
      "https://www.sgcarmart.com/used_cars/info.php?ID=848519&DL=3159\n",
      "https://www.sgcarmart.com/used_cars/info.php?ID=848519&DL=3159\n",
      "https://www.sgcarmart.com/used_cars/info.php?ID=848488&DL=2521\n",
      "https://www.sgcarmart.com/used_cars/info.php?ID=848488&DL=2521\n",
      "https://www.sgcarmart.com/used_cars/info.php?ID=848475&DL=3175\n",
      "https://www.sgcarmart.com/used_cars/info.php?ID=848475&DL=3175\n",
      "https://www.sgcarmart.com/used_cars/info.php?ID=848470&DL=2038\n",
      "https://www.sgcarmart.com/used_cars/info.php?ID=848470&DL=2038\n",
      "https://www.sgcarmart.com/used_cars/info.php?ID=848466&DL=3175\n",
      "https://www.sgcarmart.com/used_cars/info.php?ID=848466&DL=3175\n",
      "https://www.sgcarmart.com/used_cars/info.php?ID=848459&DL=3108\n",
      "https://www.sgcarmart.com/used_cars/info.php?ID=848459&DL=3108\n",
      "https://www.sgcarmart.com/used_cars/info.php?ID=848428&DL=3133\n",
      "https://www.sgcarmart.com/used_cars/info.php?ID=848428&DL=3133\n",
      "https://www.sgcarmart.com/used_cars/info.php?ID=848410&DL=1089\n",
      "https://www.sgcarmart.com/used_cars/info.php?ID=848410&DL=1089\n",
      "https://www.sgcarmart.com/used_cars/info.php?ID=848403&DL=3175\n",
      "https://www.sgcarmart.com/used_cars/info.php?ID=848403&DL=3175\n",
      "https://www.sgcarmart.com/used_cars/info.php?ID=848357&DL=3003\n",
      "https://www.sgcarmart.com/used_cars/info.php?ID=848357&DL=3003\n",
      "https://www.sgcarmart.com/used_cars/info.php?ID=848346&DL=3298\n",
      "https://www.sgcarmart.com/used_cars/info.php?ID=848346&DL=3298\n",
      "https://www.sgcarmart.com/used_cars/info.php?ID=848336&DL=3390\n",
      "https://www.sgcarmart.com/used_cars/info.php?ID=848336&DL=3390\n",
      "https://www.sgcarmart.com/used_cars/info.php?ID=848298&DL=3214\n",
      "https://www.sgcarmart.com/used_cars/info.php?ID=848298&DL=3214\n",
      "https://www.sgcarmart.com/used_cars/info.php?ID=848283&DL=3368\n",
      "https://www.sgcarmart.com/used_cars/info.php?ID=848283&DL=3368\n",
      "https://www.sgcarmart.com/used_cars/info.php?ID=847772&DL=1054\n",
      "https://www.sgcarmart.com/used_cars/info.php?ID=847772&DL=1054\n",
      "https://www.sgcarmart.com/used_cars/info.php?ID=846871&DL=3401\n",
      "https://www.sgcarmart.com/used_cars/info.php?ID=846871&DL=3401\n",
      "https://www.sgcarmart.com/used_cars/info.php?ID=845941&DL=2093\n",
      "https://www.sgcarmart.com/used_cars/info.php?ID=845941&DL=2093\n",
      "https://www.sgcarmart.com/used_cars/info.php?ID=844353&DL=2356\n",
      "https://www.sgcarmart.com/used_cars/info.php?ID=844353&DL=2356\n",
      "https://www.sgcarmart.com/used_cars/info.php?ID=844161&DL=3437\n",
      "https://www.sgcarmart.com/used_cars/info.php?ID=844161&DL=3437\n"
     ]
    }
   ],
   "source": [
    "base_url = \"https://www.sgcarmart.com/used_cars/\"\n",
    "\n",
    "for link in main_page.find_all('a'):  # Just taking the first 5 listings\n",
    "    suffix = link['href']\n",
    "    if ('ID=' in suffix) and (\"DL=\" in suffix):\n",
    "        each_listing_link = base_url + suffix\n",
    "        print(each_listing_link)"
   ]
  },
  {
   "cell_type": "markdown",
   "metadata": {},
   "source": [
    "# Section 2: Pulling data from each individual listing"
   ]
  },
  {
   "cell_type": "markdown",
   "metadata": {},
   "source": [
    "### Section 2.1: Parsing each listing's page"
   ]
  },
  {
   "cell_type": "code",
   "execution_count": 709,
   "metadata": {},
   "outputs": [],
   "source": [
    "# url to parse from \"https://www.sgcarmart.com/used_cars/info.php?ID=862816&DL=2397\"\n",
    "listing_url = \"https://www.sgcarmart.com/used_cars/info.php?ID=862833&DL=3588\"\n",
    "response2 = requests.get(listing_url)\n",
    "page2 = response2.text\n",
    "main_page2 = BeautifulSoup(page2, 'lxml')"
   ]
  },
  {
   "cell_type": "markdown",
   "metadata": {},
   "source": [
    "### Section 2.1: Title/Brand of car"
   ]
  },
  {
   "cell_type": "code",
   "execution_count": 18,
   "metadata": {},
   "outputs": [],
   "source": [
    "listing_url = \"https://www.sgcarmart.com/used_cars/info.php?ID=862832&DL=2934\"\n",
    "response2 = requests.get(listing_url)\n",
    "parsed_listing_url = BeautifulSoup(response2.text, 'lxml')"
   ]
  },
  {
   "cell_type": "code",
   "execution_count": 19,
   "metadata": {},
   "outputs": [
    {
     "data": {
      "text/plain": [
       "<a class=\"link_redbanner\" href=\"listing.php?MOD=Mercedes-Benz+E-Class+E200+CGI+Avantgarde&amp;AVL=2\">Mercedes-Benz E-Class E200 CGI Avantgarde (COE till 04/2029)</a>"
      ]
     },
     "execution_count": 19,
     "metadata": {},
     "output_type": "execute_result"
    }
   ],
   "source": [
    "parsed_listing_url.find(class_='link_redbanner')"
   ]
  },
  {
   "cell_type": "code",
   "execution_count": 20,
   "metadata": {},
   "outputs": [
    {
     "data": {
      "text/plain": [
       "'Mercedes-Benz E-Class E200 CGI Avantgarde (COE till 04/2029)'"
      ]
     },
     "execution_count": 20,
     "metadata": {},
     "output_type": "execute_result"
    }
   ],
   "source": [
    "parsed_listing_url.find(class_='link_redbanner').text"
   ]
  },
  {
   "cell_type": "code",
   "execution_count": 21,
   "metadata": {},
   "outputs": [
    {
     "data": {
      "text/plain": [
       "['Mercedes-Benz',\n",
       " 'E-Class',\n",
       " 'E200',\n",
       " 'CGI',\n",
       " 'Avantgarde',\n",
       " '(COE',\n",
       " 'till',\n",
       " '04/2029)']"
      ]
     },
     "execution_count": 21,
     "metadata": {},
     "output_type": "execute_result"
    }
   ],
   "source": [
    "parsed_listing_url.find(class_='link_redbanner').text.split()"
   ]
  },
  {
   "cell_type": "code",
   "execution_count": 22,
   "metadata": {},
   "outputs": [
    {
     "data": {
      "text/plain": [
       "'Mercedes-Benz'"
      ]
     },
     "execution_count": 22,
     "metadata": {},
     "output_type": "execute_result"
    }
   ],
   "source": [
    "# Assume every car name starts with brand\n",
    "brand = parsed_listing_url.find(class_='link_redbanner').text.split()[0]\n",
    "brand\n"
   ]
  },
  {
   "cell_type": "code",
   "execution_count": 23,
   "metadata": {},
   "outputs": [
    {
     "data": {
      "text/plain": [
       "'Mercedes-Benz'"
      ]
     },
     "execution_count": 23,
     "metadata": {},
     "output_type": "execute_result"
    }
   ],
   "source": [
    "# Define a function to retrieve car brand name given a listing url\n",
    "\n",
    "def brand_retrieval(listing_url):\n",
    "    response = requests.get(listing_url)\n",
    "    parsed_listing_url = BeautifulSoup(response.text, 'lxml')\n",
    "    \n",
    "    brand_name = parsed_listing_url.find(class_='link_redbanner').text.split()[0]\n",
    "    \n",
    "    time.sleep(1)\n",
    "    return brand_name\n",
    "\n",
    "\n",
    "brand_retrieval('https://www.sgcarmart.com/used_cars/info.php?ID=862832&DL=2934')"
   ]
  },
  {
   "cell_type": "markdown",
   "metadata": {},
   "source": [
    "### Section 2.3: Depreciation Value Per Year"
   ]
  },
  {
   "cell_type": "code",
   "execution_count": 25,
   "metadata": {},
   "outputs": [],
   "source": [
    "listing_url = 'https://www.sgcarmart.com/used_cars/info.php?ID=862832&DL=2934'\n",
    "response = requests.get(listing_url)\n",
    "parsed_listing_url = BeautifulSoup(response.text, 'lxml')"
   ]
  },
  {
   "cell_type": "code",
   "execution_count": 30,
   "metadata": {},
   "outputs": [
    {
     "data": {
      "text/plain": [
       "<td valign=\"top\">\n",
       "                                $7,340 /yr                            </td>"
      ]
     },
     "execution_count": 30,
     "metadata": {},
     "output_type": "execute_result"
    }
   ],
   "source": [
    "parsed_listing_url.find_all(class_=\"label\")[1].findNextSibling()"
   ]
  },
  {
   "cell_type": "code",
   "execution_count": 31,
   "metadata": {},
   "outputs": [
    {
     "data": {
      "text/plain": [
       "'\\r\\n                                $7,340 /yr                            '"
      ]
     },
     "execution_count": 31,
     "metadata": {},
     "output_type": "execute_result"
    }
   ],
   "source": [
    "parsed_listing_url.find_all(class_=\"label\")[1].findNextSibling().text"
   ]
  },
  {
   "cell_type": "code",
   "execution_count": 42,
   "metadata": {},
   "outputs": [
    {
     "data": {
      "text/plain": [
       "['', '7,340 /yr']"
      ]
     },
     "execution_count": 42,
     "metadata": {},
     "output_type": "execute_result"
    }
   ],
   "source": [
    "parsed_listing_url.find_all(class_=\"label\")[1].findNextSibling().text.strip().split('$')"
   ]
  },
  {
   "cell_type": "code",
   "execution_count": 43,
   "metadata": {},
   "outputs": [
    {
     "data": {
      "text/plain": [
       "'7,340 /yr'"
      ]
     },
     "execution_count": 43,
     "metadata": {},
     "output_type": "execute_result"
    }
   ],
   "source": [
    "parsed_listing_url.find_all(class_=\"label\")[1].findNextSibling().text.strip().split('$')[1]"
   ]
  },
  {
   "cell_type": "code",
   "execution_count": 44,
   "metadata": {},
   "outputs": [
    {
     "data": {
      "text/plain": [
       "['7,340 ', '']"
      ]
     },
     "execution_count": 44,
     "metadata": {},
     "output_type": "execute_result"
    }
   ],
   "source": [
    "parsed_listing_url.find_all(class_=\"label\")[1].findNextSibling().text.strip().split('$')[1].split('/yr')"
   ]
  },
  {
   "cell_type": "code",
   "execution_count": 45,
   "metadata": {},
   "outputs": [
    {
     "data": {
      "text/plain": [
       "['7,340 ', '']"
      ]
     },
     "execution_count": 45,
     "metadata": {},
     "output_type": "execute_result"
    }
   ],
   "source": [
    "data_value = parsed_listing_url.find_all(class_=\"label\")[1].findNextSibling().text.strip().split('$')[1].split('/yr')\n",
    "data_value"
   ]
  },
  {
   "cell_type": "code",
   "execution_count": 46,
   "metadata": {},
   "outputs": [
    {
     "data": {
      "text/plain": [
       "'7,340 '"
      ]
     },
     "execution_count": 46,
     "metadata": {},
     "output_type": "execute_result"
    }
   ],
   "source": [
    "data_value[0]"
   ]
  },
  {
   "cell_type": "code",
   "execution_count": 47,
   "metadata": {},
   "outputs": [
    {
     "data": {
      "text/plain": [
       "['7', '340 ']"
      ]
     },
     "execution_count": 47,
     "metadata": {},
     "output_type": "execute_result"
    }
   ],
   "source": [
    "data_value[0].split(',')"
   ]
  },
  {
   "cell_type": "code",
   "execution_count": 49,
   "metadata": {},
   "outputs": [
    {
     "data": {
      "text/plain": [
       "7340"
      ]
     },
     "execution_count": 49,
     "metadata": {},
     "output_type": "execute_result"
    }
   ],
   "source": [
    "desired_value = int(data_value[0].split(',')[0] + data_value[0].split(',')[1])\n",
    "\n",
    "desired_value"
   ]
  },
  {
   "cell_type": "code",
   "execution_count": 53,
   "metadata": {},
   "outputs": [
    {
     "name": "stdout",
     "output_type": "stream",
     "text": [
      "4440\n",
      "6500\n"
     ]
    }
   ],
   "source": [
    "# Define a function that retrieves depreciation value per year given a listing url\n",
    "def depreciation_value_per_year_error_handler(data_value):\n",
    "    if len(data_value) < 2:\n",
    "        data_value = np.nan\n",
    "\n",
    "    else: \n",
    "        try:                 \n",
    "            desired_value = int(data_value[0].split(',')[0] +\\\n",
    "                                data_value[0].split(',')[1]) # Will fail on IndexError if tries to split '900' with a ',' in ['900','']\n",
    "        except IndexError: \n",
    "            desired_value = int(data_value[0])\n",
    "        \n",
    "        return desired_value\n",
    "    \n",
    "def depreciation_value_per_year_retrieval(listing_url):\n",
    "    response = requests.get(listing_url)\n",
    "    parsed_listing_url = BeautifulSoup(response.text, 'lxml')\n",
    "    \n",
    "    data_value = parsed_listing_url.find_all(class_=\"label\")[1].findNextSibling().text.strip().split('$')[1].split('/yr')\n",
    "    \n",
    "    depreciation_value_per_year = depreciation_value_per_year_error_handler(data_value)\n",
    "    \n",
    "    return depreciation_value_per_year\n",
    "\n",
    "print(depreciation_value_per_year_retrieval('https://www.sgcarmart.com/used_cars/info.php?ID=862831&DL=3417'))\n",
    "print(depreciation_value_per_year_retrieval('https://www.sgcarmart.com/used_cars/info.php?ID=862874&DL=2854'))\n",
    "    "
   ]
  },
  {
   "cell_type": "markdown",
   "metadata": {},
   "source": [
    "### Section 2.2: Price"
   ]
  },
  {
   "cell_type": "code",
   "execution_count": 680,
   "metadata": {},
   "outputs": [
    {
     "data": {
      "text/plain": [
       "<td class=\"font_red\" width=\"175\">\n",
       "<a href=\"info_financial.php?ID=862833\" style=\"color:#DE0807;\"><strong>$31,800</strong></a> </td>"
      ]
     },
     "execution_count": 680,
     "metadata": {},
     "output_type": "execute_result"
    }
   ],
   "source": [
    "main_page2.find_all(class_='font_red')[0]"
   ]
  },
  {
   "cell_type": "code",
   "execution_count": 681,
   "metadata": {},
   "outputs": [
    {
     "data": {
      "text/plain": [
       "'$31,800'"
      ]
     },
     "execution_count": 681,
     "metadata": {},
     "output_type": "execute_result"
    }
   ],
   "source": [
    "# String ready for operations to be done on\n",
    "main_page2.find_all(class_='font_red')[0].text.strip()"
   ]
  },
  {
   "cell_type": "code",
   "execution_count": 682,
   "metadata": {},
   "outputs": [
    {
     "data": {
      "text/plain": [
       "['', '31,800']"
      ]
     },
     "execution_count": 682,
     "metadata": {},
     "output_type": "execute_result"
    }
   ],
   "source": [
    "main_page2.find_all(class_='font_red')[0].text.strip().split('$')"
   ]
  },
  {
   "cell_type": "code",
   "execution_count": 792,
   "metadata": {
    "scrolled": true
   },
   "outputs": [
    {
     "data": {
      "text/plain": [
       "31800"
      ]
     },
     "execution_count": 792,
     "metadata": {},
     "output_type": "execute_result"
    }
   ],
   "source": [
    "# Define a function to retrieve price for a given parsed url\n",
    "\n",
    "# url to parse from \"https://www.sgcarmart.com/used_cars/info.php?ID=862816&DL=2397\"\n",
    "listing_url = \"https://www.sgcarmart.com/used_cars/info.php?ID=862833&DL=3588\"\n",
    "response2 = requests.get(listing_url)\n",
    "page2 = response2.text\n",
    "main_page2 = BeautifulSoup(page2, 'lxml')\n",
    "\n",
    "def price_retrieval(parsed_url):\n",
    "    data_value = parsed_url.find_all(class_='font_red')[0].text.strip()\n",
    "    data_value = data_value.split('$')\n",
    "\n",
    "    price = price_error_handling(data_value)\n",
    "    return price\n",
    "\n",
    "\n",
    "def price_error_handling(data_value):\n",
    "    # Try-Exception error handling\n",
    "    \n",
    "    try:   # First try to deal with values higher than 1000\n",
    "        price = data_value[1]  # will fail on IndexError if retrieves ['na'] scenario\n",
    "        price = int(price.split(',')[0] + price.split(',')[1]) # Will fail on IndexError if tries to split '900' with a ',' in ['',900]\n",
    "        \n",
    "    except IndexError:  # Dealing with ['na'] and ['', 900'] scenarios\n",
    "        try: \n",
    "            price = int(data_value[1]) # Will fail on IndexError if ['na'] scenario\n",
    "        except IndexError:  # Deals with ['na'] scenarios\n",
    "            price = np.nan  # Stores NA values as nan\n",
    "    \n",
    "    return price\n",
    "\n",
    "\n",
    "price_retrieval(main_page2)"
   ]
  },
  {
   "cell_type": "code",
   "execution_count": 684,
   "metadata": {},
   "outputs": [
    {
     "data": {
      "text/plain": [
       "31800"
      ]
     },
     "execution_count": 684,
     "metadata": {},
     "output_type": "execute_result"
    }
   ],
   "source": [
    "# Example Scenarios:\n",
    "# data_value = '$900'\n",
    "# data_value = '$1,000'\n",
    "# data_value = 'na'\n",
    "\n",
    "\n",
    "# Converting input into a split list that will allow try-except below to deal with errors\n",
    "# will either be in ['',1,000], ['na'] or ['',900]\n",
    "data_value = main_page2.find_all(class_='font_red')[0].text.strip()\n",
    "data_value = data_value.split('$')\n",
    "\n",
    "\n",
    "# Try-Exception error handling\n",
    "try:   # First try to deal with values higher than 1000\n",
    "    price = data_value[1]  # will fail on IndexError if retrieves ['na'] scenario\n",
    "    price = int(price.split(',')[0] + price.split(',')[1]) # Will fail on IndexError if tries to split '900' with a ',' in ['',900]\n",
    "    \n",
    "except IndexError:  # Dealing with ['na'] and ['', 900'] scenarios\n",
    "    try: \n",
    "        price = int(data_value[1]) # Will fail on IndexError if ['na'] scenario\n",
    "    except IndexError:  # Deals with ['na'] scenarios\n",
    "        price = np.nan  # Stores NA values as nan\n",
    "    \n",
    "price   "
   ]
  },
  {
   "cell_type": "markdown",
   "metadata": {},
   "source": [
    "### Section 2.3: Getting Road Tax/year"
   ]
  },
  {
   "cell_type": "code",
   "execution_count": 813,
   "metadata": {},
   "outputs": [],
   "source": [
    "# url to parse from \"https://www.sgcarmart.com/used_cars/info.php?ID=862816&DL=2397\"\n",
    "listing_url = \"https://www.sgcarmart.com/used_cars/info.php?ID=862833&DL=3588\"\n",
    "response2 = requests.get(listing_url)\n",
    "page2 = response2.text\n",
    "main_page2 = BeautifulSoup(page2, 'lxml')"
   ]
  },
  {
   "cell_type": "code",
   "execution_count": 814,
   "metadata": {},
   "outputs": [
    {
     "data": {
      "text/plain": [
       "[<div class=\"row_info\">\n",
       "                                         73,000 km (7.3k /yr)                                     </div>,\n",
       " <div class=\"row_info\">\n",
       "                                     \t$684 /yr\t\t\t\t\t\t\t\t\t</div>,\n",
       " <div class=\"row_info\">\n",
       "                                     \tN.A.                                    </div>,\n",
       " <div class=\"row_info\">N.A.</div>,\n",
       " <div class=\"row_info\">\n",
       " \t\t\t\t\t\t\t\t\t1,499 cc                                    </div>,\n",
       " <div class=\"row_info\">\n",
       "                                     1,313 kg                                    </div>,\n",
       " <div class=\"row_info\">2009</div>,\n",
       " <div class=\"row_info\">Auto</div>,\n",
       " <div class=\"row_info\">$18,978</div>,\n",
       " <div class=\"row_info\">$18,978</div>,\n",
       " <div class=\"row_info\">80.0 kW (107 bhp)</div>,\n",
       " <div class=\"row_info\">2</div>]"
      ]
     },
     "execution_count": 814,
     "metadata": {},
     "output_type": "execute_result"
    }
   ],
   "source": [
    "main_page2.find_all(class_='row_info')"
   ]
  },
  {
   "cell_type": "code",
   "execution_count": 815,
   "metadata": {},
   "outputs": [
    {
     "data": {
      "text/plain": [
       "<div class=\"row_info\">\n",
       "                                    \t$684 /yr\t\t\t\t\t\t\t\t\t</div>"
      ]
     },
     "execution_count": 815,
     "metadata": {},
     "output_type": "execute_result"
    }
   ],
   "source": [
    "main_page2.find_all(class_='row_info')[1]"
   ]
  },
  {
   "cell_type": "code",
   "execution_count": 816,
   "metadata": {},
   "outputs": [
    {
     "data": {
      "text/plain": [
       "'\\r\\n                                    \\t$684 /yr\\t\\t\\t\\t\\t\\t\\t\\t\\t'"
      ]
     },
     "execution_count": 816,
     "metadata": {},
     "output_type": "execute_result"
    }
   ],
   "source": [
    "main_page2.find_all(class_='row_info')[1].text"
   ]
  },
  {
   "cell_type": "code",
   "execution_count": 817,
   "metadata": {},
   "outputs": [
    {
     "data": {
      "text/plain": [
       "'$684 /yr'"
      ]
     },
     "execution_count": 817,
     "metadata": {},
     "output_type": "execute_result"
    }
   ],
   "source": [
    "main_page2.find_all(class_='row_info')[1].text.strip()"
   ]
  },
  {
   "cell_type": "code",
   "execution_count": 818,
   "metadata": {},
   "outputs": [
    {
     "data": {
      "text/plain": [
       "'$684'"
      ]
     },
     "execution_count": 818,
     "metadata": {},
     "output_type": "execute_result"
    }
   ],
   "source": [
    "main_page2.find_all(class_='row_info')[1].text.strip().replace('/yr','').strip()"
   ]
  },
  {
   "cell_type": "code",
   "execution_count": 819,
   "metadata": {},
   "outputs": [
    {
     "data": {
      "text/plain": [
       "['', '684']"
      ]
     },
     "execution_count": 819,
     "metadata": {},
     "output_type": "execute_result"
    }
   ],
   "source": [
    "main_page2.find_all(class_='row_info')[1].text.strip().replace('/yr','').strip().split('$')"
   ]
  },
  {
   "cell_type": "code",
   "execution_count": 820,
   "metadata": {},
   "outputs": [
    {
     "name": "stdout",
     "output_type": "stream",
     "text": [
      "684\n"
     ]
    }
   ],
   "source": [
    "# Define a function to retrieve road tax /yr given a parsed listing url\n",
    "def road_tax_retriever(parsed_url):\n",
    "    string_data = parsed_url.find_all(class_='row_info')[1].text.strip()\n",
    "    road_tax_yearly = road_tax_error_handler(string_data)\n",
    "    return road_tax_yearly\n",
    "    \n",
    "\n",
    "def road_tax_error_handler(string_data):\n",
    "    if '/yr' in string_data: # Only takes in scenarios that are not NA\n",
    "        try:\n",
    "            # Removes '$\" character and splits string_data into a list of ['', 1,000] or ['', 900]\n",
    "            road_tax_per_year = \\\n",
    "            string_data.replace('/yr','').strip().split('$') \n",
    "\n",
    "            # Accesses the second item in the list\n",
    "            road_tax_per_year = road_tax_per_year[1] \n",
    "\n",
    "\n",
    "            road_tax_per_year = int(road_tax_per_year.split(',')[0] +\\\n",
    "                                    road_tax_per_year.split(',')[1])  # Will fail on IndexError if value is above 1000\n",
    "\n",
    "        except IndexError: # Handles values that are below 1000. (i.e. ['',900])\n",
    "            road_tax_pear_year = int(road_tax_per_year[1])\n",
    "\n",
    "    else: # Deals with 'NA' scenario\n",
    "        road_tax_per_year = np.nan\n",
    "    \n",
    "    return road_tax_per_year\n",
    "        \n",
    "\n",
    "        \n",
    "# url to parse from \"https://www.sgcarmart.com/used_cars/info.php?ID=862816&DL=2397\"\n",
    "listing_url = \"https://www.sgcarmart.com/used_cars/info.php?ID=862833&DL=3588\"\n",
    "response2 = requests.get(listing_url)\n",
    "page2 = response2.text\n",
    "main_page2 = BeautifulSoup(page2, 'lxml')\n",
    "\n",
    "print(road_tax_retriever(main_page2))"
   ]
  },
  {
   "cell_type": "markdown",
   "metadata": {},
   "source": [
    "## Derivation for above function"
   ]
  },
  {
   "cell_type": "code",
   "execution_count": 699,
   "metadata": {},
   "outputs": [
    {
     "name": "stdout",
     "output_type": "stream",
     "text": [
      "684\n"
     ]
    }
   ],
   "source": [
    "# Input must be in \"$ 684 /yr\" format\n",
    "# If input in NA format, it will just immediately be treated a NaN value\n",
    "\n",
    "\n",
    "string_data = main_page2.find_all(class_='row_info')[1].text.strip()\n",
    "if '/yr' in string_data: # Only takes in scenarios that are not NA\n",
    "    try:\n",
    "        # Removes '$\" character and splits string_data into a list of ['', 1,000] or ['', 900]\n",
    "        road_tax_per_year = \\\n",
    "        string_data.replace('/yr','').strip().split('$') \n",
    "        \n",
    "        # Accesses the second item in the list\n",
    "        road_tax_per_year = road_tax_per_year[1] \n",
    "        \n",
    "        \n",
    "        road_tax_per_year = int(road_tax_per_year.split(',')[0] +\\\n",
    "                                road_tax_per_year.split(',')[1])  # Will fail on IndexError if value is above 1000\n",
    "        \n",
    "    except IndexError: # Handles values that are below 1000. (i.e. ['',900])\n",
    "        road_tax_pear_year = int(road_tax_per_year[1])\n",
    "        \n",
    "else: # Deals with 'NA' scenario\n",
    "    road_tax_per_year = np.nan\n",
    "print(road_tax_per_year)"
   ]
  },
  {
   "cell_type": "markdown",
   "metadata": {},
   "source": [
    "### Section 2.4: Registered date"
   ]
  },
  {
   "cell_type": "code",
   "execution_count": 823,
   "metadata": {},
   "outputs": [],
   "source": [
    "# url to parse from \"https://www.sgcarmart.com/used_cars/info.php?ID=862816&DL=2397\"\n",
    "listing_url = \"https://www.sgcarmart.com/used_cars/info.php?ID=862833&DL=3588\"\n",
    "response2 = requests.get(listing_url)\n",
    "page2 = response2.text\n",
    "main_page2 = BeautifulSoup(page2, 'lxml')"
   ]
  },
  {
   "cell_type": "code",
   "execution_count": 824,
   "metadata": {},
   "outputs": [
    {
     "data": {
      "text/plain": [
       "[<tr class=\"row_bg\">\n",
       " <td class=\"label\" style=\"display:flex;align-items:center;\" width=\"115\">\n",
       " <strong>Price</strong>\n",
       " </td>\n",
       " <td class=\"font_red\" width=\"175\">\n",
       " <a href=\"info_financial.php?ID=862833\" style=\"color:#DE0807;\"><strong>$31,800</strong></a> </td>\n",
       " <td width=\"115\"><img alt=\"spacer\" height=\"1\" src=\"https://i.i-sgcm.com/images/spacer.gif\" width=\"1\"/></td><td><img alt=\"spacer\" height=\"1\" src=\"https://i.i-sgcm.com/images/spacer.gif\" width=\"1\"/></td> </tr>,\n",
       " <tr class=\"row_bg\">\n",
       " <td class=\"label\" style=\"display:flex;\" width=\"115\">\n",
       " <strong>Depreciation</strong>\n",
       " <div class=\"qmark\" style=\"padding-left:3px;\"><a class=\"abc_dep\" href=\"popups/whatsDepreciation.php\"><img height=\"16\" src=\"https://i.i-sgcm.com/used_cars/qmark_grey_16x16.png\" width=\"16\"/></a></div>\n",
       " </td>\n",
       " <td valign=\"top\">\n",
       "                                 $6,350 /yr                            </td>\n",
       " <td valign=\"top\"><strong>Reg Date</strong></td>\n",
       " <td valign=\"top\">\n",
       " \t\t\t\t\t\t\t\t28-Oct-2009<br/>(5yrs  COE left)                            </td>\n",
       " </tr>]"
      ]
     },
     "execution_count": 824,
     "metadata": {},
     "output_type": "execute_result"
    }
   ],
   "source": [
    "main_page2.find_all(class_='row_bg')"
   ]
  },
  {
   "cell_type": "code",
   "execution_count": 825,
   "metadata": {},
   "outputs": [
    {
     "data": {
      "text/plain": [
       "<tr class=\"row_bg\">\n",
       "<td class=\"label\" style=\"display:flex;\" width=\"115\">\n",
       "<strong>Depreciation</strong>\n",
       "<div class=\"qmark\" style=\"padding-left:3px;\"><a class=\"abc_dep\" href=\"popups/whatsDepreciation.php\"><img height=\"16\" src=\"https://i.i-sgcm.com/used_cars/qmark_grey_16x16.png\" width=\"16\"/></a></div>\n",
       "</td>\n",
       "<td valign=\"top\">\n",
       "                                $6,350 /yr                            </td>\n",
       "<td valign=\"top\"><strong>Reg Date</strong></td>\n",
       "<td valign=\"top\">\n",
       "\t\t\t\t\t\t\t\t28-Oct-2009<br/>(5yrs  COE left)                            </td>\n",
       "</tr>"
      ]
     },
     "execution_count": 825,
     "metadata": {},
     "output_type": "execute_result"
    }
   ],
   "source": [
    "main_page2.find_all(class_='row_bg')[1]"
   ]
  },
  {
   "cell_type": "code",
   "execution_count": 826,
   "metadata": {},
   "outputs": [
    {
     "data": {
      "text/plain": [
       "[<td class=\"label\" style=\"display:flex;\" width=\"115\">\n",
       " <strong>Depreciation</strong>\n",
       " <div class=\"qmark\" style=\"padding-left:3px;\"><a class=\"abc_dep\" href=\"popups/whatsDepreciation.php\"><img height=\"16\" src=\"https://i.i-sgcm.com/used_cars/qmark_grey_16x16.png\" width=\"16\"/></a></div>\n",
       " </td>, <td valign=\"top\">\n",
       "                                 $6,350 /yr                            </td>, <td valign=\"top\"><strong>Reg Date</strong></td>, <td valign=\"top\">\n",
       " \t\t\t\t\t\t\t\t28-Oct-2009<br/>(5yrs  COE left)                            </td>]"
      ]
     },
     "execution_count": 826,
     "metadata": {},
     "output_type": "execute_result"
    }
   ],
   "source": [
    "main_page2.find_all(class_='row_bg')[1].find_all('td')"
   ]
  },
  {
   "cell_type": "code",
   "execution_count": 827,
   "metadata": {},
   "outputs": [
    {
     "data": {
      "text/plain": [
       "'\\r\\n\\t\\t\\t\\t\\t\\t\\t\\t28-Oct-2009(5yrs  COE left)                            '"
      ]
     },
     "execution_count": 827,
     "metadata": {},
     "output_type": "execute_result"
    }
   ],
   "source": [
    "main_page2.find_all(class_='row_bg')[1].find_all('td')[3].text"
   ]
  },
  {
   "cell_type": "code",
   "execution_count": 828,
   "metadata": {},
   "outputs": [
    {
     "data": {
      "text/plain": [
       "['28-Oct-2009(5yrs', 'COE', 'left)']"
      ]
     },
     "execution_count": 828,
     "metadata": {},
     "output_type": "execute_result"
    }
   ],
   "source": [
    "main_page2.find_all(class_='row_bg')[1].find_all('td')[3].text.split()"
   ]
  },
  {
   "cell_type": "code",
   "execution_count": 829,
   "metadata": {},
   "outputs": [
    {
     "data": {
      "text/plain": [
       "'28-Oct-2009(5yrs'"
      ]
     },
     "execution_count": 829,
     "metadata": {},
     "output_type": "execute_result"
    }
   ],
   "source": [
    "main_page2.find_all(class_='row_bg')[1].find_all('td')[3].text.split()[0]"
   ]
  },
  {
   "cell_type": "code",
   "execution_count": 830,
   "metadata": {},
   "outputs": [
    {
     "data": {
      "text/plain": [
       "['28-Oct-2009', '5yrs']"
      ]
     },
     "execution_count": 830,
     "metadata": {},
     "output_type": "execute_result"
    }
   ],
   "source": [
    "main_page2.find_all(class_='row_bg')[1].find_all('td')[3].text.split()[0].split('(')"
   ]
  },
  {
   "cell_type": "code",
   "execution_count": 831,
   "metadata": {},
   "outputs": [
    {
     "data": {
      "text/plain": [
       "'28-Oct-2009'"
      ]
     },
     "execution_count": 831,
     "metadata": {},
     "output_type": "execute_result"
    }
   ],
   "source": [
    "reg_date = main_page2.find_all(class_='row_bg')[1].find_all('td')[3].text.split()[0].split('(')[0]\n",
    "reg_date"
   ]
  },
  {
   "cell_type": "code",
   "execution_count": 1132,
   "metadata": {},
   "outputs": [
    {
     "name": "stdout",
     "output_type": "stream",
     "text": [
      "14-Jan-2009\n"
     ]
    }
   ],
   "source": [
    "# Define function to retrieve Registered date given a parsed listing url\n",
    "\n",
    "# url to parse from \"https://www.sgcarmart.com/used_cars/info.php?ID=862816&DL=2397\"\n",
    "listing_url = \"https://www.sgcarmart.com/used_cars/info.php?ID=862831&DL=3417\"\n",
    "response2 = requests.get(listing_url)\n",
    "page2 = response2.text\n",
    "parsed_listing_url = BeautifulSoup(page2, 'lxml')\n",
    "\n",
    "def registered_date_retrieval(parsed_url):\n",
    "    reg_date = parsed_url.find_all(class_='row_bg')[1].find_all('td')[3].text.split()[0].split('(')[0]\n",
    "    return reg_date\n",
    "\n",
    "print(registered_date_retrieval(parsed_listing_url))"
   ]
  },
  {
   "cell_type": "markdown",
   "metadata": {},
   "source": [
    "### Section 2.5: Days of COE left"
   ]
  },
  {
   "cell_type": "code",
   "execution_count": 833,
   "metadata": {},
   "outputs": [],
   "source": [
    "listing_url = \"https://www.sgcarmart.com/used_cars/info.php?ID=862833&DL=3588\"\n",
    "response2 = requests.get(listing_url)\n",
    "page2 = response2.text\n",
    "main_page2 = BeautifulSoup(page2, 'lxml')"
   ]
  },
  {
   "cell_type": "code",
   "execution_count": 834,
   "metadata": {},
   "outputs": [
    {
     "data": {
      "text/plain": [
       "['28-Oct-2009(5yrs', 'COE', 'left)']"
      ]
     },
     "execution_count": 834,
     "metadata": {},
     "output_type": "execute_result"
    }
   ],
   "source": [
    "main_page2.find_all(class_='row_bg')[1].find_all('td')[3].text.split()"
   ]
  },
  {
   "cell_type": "code",
   "execution_count": 835,
   "metadata": {},
   "outputs": [
    {
     "data": {
      "text/plain": [
       "['\\r\\n\\t\\t\\t\\t\\t\\t\\t\\t28-Oct-2009',\n",
       " '5yrs  COE left)                            ']"
      ]
     },
     "execution_count": 835,
     "metadata": {},
     "output_type": "execute_result"
    }
   ],
   "source": [
    "main_page2.find_all(class_='row_bg')[1].find_all('td')[3].text.split('(')"
   ]
  },
  {
   "cell_type": "code",
   "execution_count": 836,
   "metadata": {},
   "outputs": [
    {
     "data": {
      "text/plain": [
       "'5yrs  COE left)                            '"
      ]
     },
     "execution_count": 836,
     "metadata": {},
     "output_type": "execute_result"
    }
   ],
   "source": [
    "main_page2.find_all(class_='row_bg')[1].find_all('td')[3].text.split('(')[1]"
   ]
  },
  {
   "cell_type": "code",
   "execution_count": 837,
   "metadata": {},
   "outputs": [
    {
     "data": {
      "text/plain": [
       "['5yrs  ', ' left)                            ']"
      ]
     },
     "execution_count": 837,
     "metadata": {},
     "output_type": "execute_result"
    }
   ],
   "source": [
    "main_page2.find_all(class_='row_bg')[1].find_all('td')[3].text.split('(')[1].split('COE')"
   ]
  },
  {
   "cell_type": "code",
   "execution_count": 843,
   "metadata": {},
   "outputs": [
    {
     "data": {
      "text/plain": [
       "'5yrs'"
      ]
     },
     "execution_count": 843,
     "metadata": {},
     "output_type": "execute_result"
    }
   ],
   "source": [
    "days_of_coe_left_yy_mm_dd_format_for_cleaner_function = \\\n",
    "main_page2.find_all(class_='row_bg')[1].find_all('td')[3].text.split('(')[1].split('COE')[0].strip()\n",
    "\n",
    "days_of_coe_left_yy_mm_dd_format_for_cleaner_function"
   ]
  },
  {
   "cell_type": "code",
   "execution_count": 882,
   "metadata": {},
   "outputs": [
    {
     "data": {
      "text/plain": [
       "1825"
      ]
     },
     "execution_count": 882,
     "metadata": {},
     "output_type": "execute_result"
    }
   ],
   "source": [
    "# Define a function to retrieve days of COE left in terms of days:\n",
    "\n",
    "# Retrieve into usable format for link\n",
    "def days_of_coe_retriever(parsed_listing_page):\n",
    "    \"\"\"Takes in a parsed listing page (individual cars) and retrieve the days of COE left\n",
    "    ---\n",
    "    Input: str\n",
    "    Output: Days of COE left in integer form\n",
    "    \"\"\"\n",
    "    days_of_coe_left_yy_mm_dd_format_for_cleaner_function=\\\n",
    "    parsed_listing_page.find_all(class_='row_bg')[1].find_all('td')[3].text.split('(')[1].split('COE')[0].strip()\n",
    "    \n",
    "    return yr_mm_dd_cleaner(days_of_coe_left_yy_mm_dd_format_for_cleaner_function)\n",
    "\n",
    "\n",
    "# Define a function to calculate days of COE left\n",
    "def yr_mm_dd_cleaner(str1):\n",
    "    \"\"\"Accepts a string that may or may include the elements yr mths days and \n",
    "    converts the whole string into number of days.\n",
    "    ----\n",
    "    Input: single string\n",
    "    output: number of days in integer form\n",
    "    ----\n",
    "    Example string inputs:\n",
    "    - 4yrs 2mths 23days\n",
    "    - 5yrs\n",
    "    - 2 mths 23 days\n",
    "    - 50 days\n",
    "    \"\"\"\n",
    "    \n",
    "    # Convert days_of_coe_left_yy_mm_dd to days    \n",
    "    year_index = str1.find('yr')\n",
    "    if year_index == -1:\n",
    "        year = 0\n",
    "    else:\n",
    "        year = int(str1[year_index-1])\n",
    "\n",
    "        \n",
    "    mth_index = str1.find('mth')\n",
    "    if mth_index == -1:\n",
    "        mth = 0\n",
    "    else:\n",
    "        mth = int(str1[mth_index-1])\n",
    "\n",
    "        \n",
    "    day_index = str1.find('day')\n",
    "    if day_index == -1:\n",
    "        day = 0\n",
    "    else:\n",
    "        day = int(str1[day_index-1])\n",
    "       \n",
    "    days_of_coe_left = (year * 365) + (mth * 30) + day  # 30.4167 is an average value of days in a month\n",
    "    return days_of_coe_left\n",
    "\n",
    "\n",
    "# url to parse from \"https://www.sgcarmart.com/used_cars/info.php?ID=862816&DL=2397\"\n",
    "listing_url = \"https://www.sgcarmart.com/used_cars/info.php?ID=862833&DL=3588\"\n",
    "response2 = requests.get(listing_url)\n",
    "page2 = response2.text\n",
    "parsed_listing_page = BeautifulSoup(page2, 'lxml')\n",
    "\n",
    "days_of_coe_retriever(parsed_listing_page)"
   ]
  },
  {
   "cell_type": "markdown",
   "metadata": {},
   "source": [
    "### Section 2.6: Mileage in km"
   ]
  },
  {
   "cell_type": "code",
   "execution_count": null,
   "metadata": {},
   "outputs": [],
   "source": [
    "listing_url = \"https://www.sgcarmart.com/used_cars/info.php?ID=862833&DL=3588\"\n",
    "response2 = requests.get(listing_url)\n",
    "page2 = response2.text\n",
    "main_page2 = BeautifulSoup(page2, 'lxml')"
   ]
  },
  {
   "cell_type": "code",
   "execution_count": 846,
   "metadata": {},
   "outputs": [
    {
     "data": {
      "text/plain": [
       "[<div class=\"row_info\">\n",
       "                                         73,000 km (7.3k /yr)                                     </div>,\n",
       " <div class=\"row_info\">\n",
       "                                     \t$684 /yr\t\t\t\t\t\t\t\t\t</div>,\n",
       " <div class=\"row_info\">\n",
       "                                     \tN.A.                                    </div>,\n",
       " <div class=\"row_info\">N.A.</div>,\n",
       " <div class=\"row_info\">\n",
       " \t\t\t\t\t\t\t\t\t1,499 cc                                    </div>,\n",
       " <div class=\"row_info\">\n",
       "                                     1,313 kg                                    </div>,\n",
       " <div class=\"row_info\">2009</div>,\n",
       " <div class=\"row_info\">Auto</div>,\n",
       " <div class=\"row_info\">$18,978</div>,\n",
       " <div class=\"row_info\">$18,978</div>,\n",
       " <div class=\"row_info\">80.0 kW (107 bhp)</div>,\n",
       " <div class=\"row_info\">2</div>]"
      ]
     },
     "execution_count": 846,
     "metadata": {},
     "output_type": "execute_result"
    }
   ],
   "source": [
    "main_page2.find_all(class_='row_info')"
   ]
  },
  {
   "cell_type": "code",
   "execution_count": 847,
   "metadata": {},
   "outputs": [
    {
     "data": {
      "text/plain": [
       "<div class=\"row_info\">\n",
       "                                        73,000 km (7.3k /yr)                                     </div>"
      ]
     },
     "execution_count": 847,
     "metadata": {},
     "output_type": "execute_result"
    }
   ],
   "source": [
    "main_page2.find_all(class_='row_info')[0]"
   ]
  },
  {
   "cell_type": "code",
   "execution_count": 848,
   "metadata": {},
   "outputs": [
    {
     "data": {
      "text/plain": [
       "'\\r\\n                                        73,000 km (7.3k /yr)                                     '"
      ]
     },
     "execution_count": 848,
     "metadata": {},
     "output_type": "execute_result"
    }
   ],
   "source": [
    "main_page2.find_all(class_='row_info')[0].text"
   ]
  },
  {
   "cell_type": "code",
   "execution_count": 849,
   "metadata": {},
   "outputs": [
    {
     "data": {
      "text/plain": [
       "'73,000 km (7.3k /yr)'"
      ]
     },
     "execution_count": 849,
     "metadata": {},
     "output_type": "execute_result"
    }
   ],
   "source": [
    "main_page2.find_all(class_='row_info')[0].text.strip()"
   ]
  },
  {
   "cell_type": "code",
   "execution_count": 855,
   "metadata": {},
   "outputs": [],
   "source": [
    "na = 'na'\n",
    "km = '73,000 km (7.3k /yr)'"
   ]
  },
  {
   "cell_type": "code",
   "execution_count": 868,
   "metadata": {},
   "outputs": [
    {
     "data": {
      "text/plain": [
       "['na']"
      ]
     },
     "execution_count": 868,
     "metadata": {},
     "output_type": "execute_result"
    }
   ],
   "source": [
    "na.split('km')"
   ]
  },
  {
   "cell_type": "code",
   "execution_count": 867,
   "metadata": {},
   "outputs": [
    {
     "data": {
      "text/plain": [
       "['73,000 ', ' (7.3k /yr)']"
      ]
     },
     "execution_count": 867,
     "metadata": {},
     "output_type": "execute_result"
    }
   ],
   "source": [
    "## 3 Scenarios: \n",
    "# NA Milage\n",
    "# 73,000 km (7.3k /yr)\n",
    "# Less than 1000 km\n",
    "\n",
    "km.split('km')"
   ]
  },
  {
   "cell_type": "code",
   "execution_count": 870,
   "metadata": {},
   "outputs": [
    {
     "data": {
      "text/plain": [
       "'73,000'"
      ]
     },
     "execution_count": 870,
     "metadata": {},
     "output_type": "execute_result"
    }
   ],
   "source": [
    "km.split('km')[0].strip()"
   ]
  },
  {
   "cell_type": "code",
   "execution_count": 871,
   "metadata": {},
   "outputs": [
    {
     "data": {
      "text/plain": [
       "['73', '000']"
      ]
     },
     "execution_count": 871,
     "metadata": {},
     "output_type": "execute_result"
    }
   ],
   "source": [
    "km.split('km')[0].strip().split(',')"
   ]
  },
  {
   "cell_type": "code",
   "execution_count": 872,
   "metadata": {},
   "outputs": [
    {
     "data": {
      "text/plain": [
       "'73000'"
      ]
     },
     "execution_count": 872,
     "metadata": {},
     "output_type": "execute_result"
    }
   ],
   "source": [
    "mileage_km =\\\n",
    "km.split('km')[0].strip().split(',')[0] + km.split('km')[0].strip().split(',')[1]\n",
    "\n",
    "mileage_km"
   ]
  },
  {
   "cell_type": "code",
   "execution_count": 879,
   "metadata": {},
   "outputs": [
    {
     "data": {
      "text/plain": [
       "73000"
      ]
     },
     "execution_count": 879,
     "metadata": {},
     "output_type": "execute_result"
    }
   ],
   "source": [
    "# Get data ready for try-exception error handling\n",
    "data_value = main_page2.find_all(class_='row_info')[0].text.strip()\n",
    "data_value = data_value.split('km')\n",
    "\n",
    "if len(data_value) < 2:  # Deals with ['na'] scenarios\n",
    "    mileage_km = np.nan  # Stores NA values as nan\n",
    "\n",
    "else:  \n",
    "    try:                 \n",
    "        mileage_km = int(data_value[0].strip().split(',')[0] + data_value[0].strip().split(',')[1])\n",
    "    except IndexError: # Will fail on IndexError if tries to split '900' with a ',' in ['',900]\n",
    "        mileage_km = int(data_value[0].strip())\n",
    "\n",
    "mileage_km"
   ]
  },
  {
   "cell_type": "code",
   "execution_count": 1,
   "metadata": {},
   "outputs": [
    {
     "ename": "NameError",
     "evalue": "name 'requests' is not defined",
     "output_type": "error",
     "traceback": [
      "\u001b[1;31m---------------------------------------------------------------------------\u001b[0m",
      "\u001b[1;31mNameError\u001b[0m                                 Traceback (most recent call last)",
      "\u001b[1;32m<ipython-input-1-64d6968246e9>\u001b[0m in \u001b[0;36m<module>\u001b[1;34m\u001b[0m\n\u001b[0;32m     20\u001b[0m \u001b[1;33m\u001b[0m\u001b[0m\n\u001b[0;32m     21\u001b[0m \u001b[0mlisting_url\u001b[0m \u001b[1;33m=\u001b[0m \u001b[1;34m\"https://www.sgcarmart.com/used_cars/info.php?ID=862833&DL=3588\"\u001b[0m\u001b[1;33m\u001b[0m\u001b[1;33m\u001b[0m\u001b[0m\n\u001b[1;32m---> 22\u001b[1;33m \u001b[0mresponse2\u001b[0m \u001b[1;33m=\u001b[0m \u001b[0mrequests\u001b[0m\u001b[1;33m.\u001b[0m\u001b[0mget\u001b[0m\u001b[1;33m(\u001b[0m\u001b[0mlisting_url\u001b[0m\u001b[1;33m)\u001b[0m\u001b[1;33m\u001b[0m\u001b[1;33m\u001b[0m\u001b[0m\n\u001b[0m\u001b[0;32m     23\u001b[0m \u001b[0mpage2\u001b[0m \u001b[1;33m=\u001b[0m \u001b[0mresponse2\u001b[0m\u001b[1;33m.\u001b[0m\u001b[0mtext\u001b[0m\u001b[1;33m\u001b[0m\u001b[1;33m\u001b[0m\u001b[0m\n\u001b[0;32m     24\u001b[0m \u001b[0mmain_page2\u001b[0m \u001b[1;33m=\u001b[0m \u001b[0mBeautifulSoup\u001b[0m\u001b[1;33m(\u001b[0m\u001b[0mpage2\u001b[0m\u001b[1;33m,\u001b[0m \u001b[1;34m'lxml'\u001b[0m\u001b[1;33m)\u001b[0m\u001b[1;33m\u001b[0m\u001b[1;33m\u001b[0m\u001b[0m\n",
      "\u001b[1;31mNameError\u001b[0m: name 'requests' is not defined"
     ]
    }
   ],
   "source": [
    "# Write a function to retrieve the mileage in km from a parsed listing html\n",
    "def mileage_error_handler(data_value):\n",
    "    if len(data_value) < 2:  # Deals with ['na'] scenarios\n",
    "        mileage_km = np.nan  # Stores NA values as nan\n",
    "\n",
    "    else:  \n",
    "        try:                 \n",
    "            mileage_km = int(data_value[0].strip().split(',')[0] + data_value[0].strip().split(',')[1])\n",
    "        except IndexError: # Will fail on IndexError if tries to split '900' with a ',' in ['',900]\n",
    "            mileage_km = int(data_value[0].strip())\n",
    "    \n",
    "    return mileage_km\n",
    "\n",
    "\n",
    "def mileage_retriever(parsed_url):\n",
    "    data_value = parsed_url.find_all(class_='row_info')[0].text.strip()\n",
    "    data_value = data_value.split('km')\n",
    "    mileage_km = mileage_error_handler(data_value)\n",
    "    return mileage_km\n",
    "     \n",
    "listing_url = \"https://www.sgcarmart.com/used_cars/info.php?ID=862833&DL=3588\"\n",
    "response2 = requests.get(listing_url)\n",
    "page2 = response2.text\n",
    "main_page2 = BeautifulSoup(page2, 'lxml')\n",
    "\n",
    "main_page22.find('a')\n",
    "\n",
    "mileage_retriever(main_page2)"
   ]
  },
  {
   "cell_type": "markdown",
   "metadata": {},
   "source": [
    "### Section 2.7: Manufactured Date"
   ]
  },
  {
   "cell_type": "code",
   "execution_count": 883,
   "metadata": {},
   "outputs": [],
   "source": [
    "# url to parse from \"https://www.sgcarmart.com/used_cars/info.php?ID=862816&DL=2397\"\n",
    "listing_url = \"https://www.sgcarmart.com/used_cars/info.php?ID=862833&DL=3588\"\n",
    "response2 = requests.get(listing_url)\n",
    "page2 = response2.text\n",
    "main_page2 = BeautifulSoup(page2, 'lxml')"
   ]
  },
  {
   "cell_type": "code",
   "execution_count": 884,
   "metadata": {},
   "outputs": [
    {
     "data": {
      "text/plain": [
       "[<div class=\"row_info\">\n",
       "                                         73,000 km (7.3k /yr)                                     </div>,\n",
       " <div class=\"row_info\">\n",
       "                                     \t$684 /yr\t\t\t\t\t\t\t\t\t</div>,\n",
       " <div class=\"row_info\">\n",
       "                                     \tN.A.                                    </div>,\n",
       " <div class=\"row_info\">N.A.</div>,\n",
       " <div class=\"row_info\">\n",
       " \t\t\t\t\t\t\t\t\t1,499 cc                                    </div>,\n",
       " <div class=\"row_info\">\n",
       "                                     1,313 kg                                    </div>,\n",
       " <div class=\"row_info\">2009</div>,\n",
       " <div class=\"row_info\">Auto</div>,\n",
       " <div class=\"row_info\">$18,978</div>,\n",
       " <div class=\"row_info\">$18,978</div>,\n",
       " <div class=\"row_info\">80.0 kW (107 bhp)</div>,\n",
       " <div class=\"row_info\">2</div>]"
      ]
     },
     "execution_count": 884,
     "metadata": {},
     "output_type": "execute_result"
    }
   ],
   "source": [
    "main_page2.find_all(class_='row_info')"
   ]
  },
  {
   "cell_type": "code",
   "execution_count": 885,
   "metadata": {},
   "outputs": [
    {
     "data": {
      "text/plain": [
       "<div class=\"row_info\">2009</div>"
      ]
     },
     "execution_count": 885,
     "metadata": {},
     "output_type": "execute_result"
    }
   ],
   "source": [
    "main_page2.find_all(class_='row_info')[6]"
   ]
  },
  {
   "cell_type": "code",
   "execution_count": 887,
   "metadata": {},
   "outputs": [
    {
     "data": {
      "text/plain": [
       "'2009'"
      ]
     },
     "execution_count": 887,
     "metadata": {},
     "output_type": "execute_result"
    }
   ],
   "source": [
    "# Define a function that returns the manufactured date using a parsed html\n",
    "def manufactured_year_retrieval(parsed_url):\n",
    "    manufactured_year = parsed_url.find_all(class_='row_info')[6].text\n",
    "    return manufactured_year\n",
    "\n",
    "\n",
    "# url to parse from \"https://www.sgcarmart.com/used_cars/info.php?ID=862816&DL=2397\"\n",
    "listing_url = \"https://www.sgcarmart.com/used_cars/info.php?ID=862833&DL=3588\"\n",
    "response2 = requests.get(listing_url)\n",
    "page2 = response2.text\n",
    "main_page2 = BeautifulSoup(page2, 'lxml')\n",
    "\n",
    "# Testing function\n",
    "manufactured_year_retrieval(main_page2)"
   ]
  },
  {
   "cell_type": "markdown",
   "metadata": {},
   "source": [
    "### Section 2.8: Transmission"
   ]
  },
  {
   "cell_type": "code",
   "execution_count": 450,
   "metadata": {},
   "outputs": [
    {
     "data": {
      "text/plain": [
       "[<div class=\"row_info\">\n",
       "                                         N.A.                                     </div>,\n",
       " <div class=\"row_info\">\n",
       "                                     \t$742 /yr\t\t\t\t\t\t\t\t\t</div>,\n",
       " <div class=\"row_info\">\n",
       "                                     \t$52,259 as of today (<a class=\"drg_pop\" href=\"/used_cars/popups/deregValue.php?ID=862816&amp;DL=2397\">change</a>)                                    </div>,\n",
       " <div class=\"row_info\">$53,000</div>,\n",
       " <div class=\"row_info\">\n",
       " \t\t\t\t\t\t\t\t\t1,597 cc                                    </div>,\n",
       " <div class=\"row_info\">\n",
       "                                     1,249 kg                                    </div>,\n",
       " <div class=\"row_info\">2016</div>,\n",
       " <div class=\"row_info\">Auto</div>,\n",
       " <div class=\"row_info\">$19,689</div>,\n",
       " <div class=\"row_info\">$19,689</div>,\n",
       " <div class=\"row_info\">92.0 kW (123 bhp)</div>,\n",
       " <div class=\"row_info\">1</div>]"
      ]
     },
     "execution_count": 450,
     "metadata": {},
     "output_type": "execute_result"
    }
   ],
   "source": [
    "main_page2.find_all(class_='row_info')"
   ]
  },
  {
   "cell_type": "code",
   "execution_count": 451,
   "metadata": {},
   "outputs": [
    {
     "data": {
      "text/plain": [
       "<div class=\"row_info\">Auto</div>"
      ]
     },
     "execution_count": 451,
     "metadata": {},
     "output_type": "execute_result"
    }
   ],
   "source": [
    "main_page2.find_all(class_='row_info')[7]"
   ]
  },
  {
   "cell_type": "code",
   "execution_count": 890,
   "metadata": {},
   "outputs": [
    {
     "data": {
      "text/plain": [
       "'Auto'"
      ]
     },
     "execution_count": 890,
     "metadata": {},
     "output_type": "execute_result"
    }
   ],
   "source": [
    "# Define a function that returns the transmission based on a parsed listing url\n",
    "\n",
    "def transmission_retrieval(parsed_url):\n",
    "    transmission = parsed_url.find_all(class_='row_info')[7].text\n",
    "    return transmission\n",
    "    \n",
    "\n",
    "    \n",
    "# url to parse from \"https://www.sgcarmart.com/used_cars/info.php?ID=862816&DL=2397\"\n",
    "listing_url = \"https://www.sgcarmart.com/used_cars/info.php?ID=862833&DL=3588\"\n",
    "response2 = requests.get(listing_url)\n",
    "page2 = response2.text\n",
    "main_page2 = BeautifulSoup(page2, 'lxml')\n",
    "\n",
    "\n",
    "transmission_retrieval(main_page2)"
   ]
  },
  {
   "cell_type": "markdown",
   "metadata": {},
   "source": [
    "### Section 2.9: Dereg Value"
   ]
  },
  {
   "cell_type": "code",
   "execution_count": 1029,
   "metadata": {},
   "outputs": [],
   "source": [
    "# url to parse from \"https://www.sgcarmart.com/used_cars/info.php?ID=862816&DL=2397\"\n",
    "listing_url = \"https://www.sgcarmart.com/used_cars/info.php?ID=862831&DL=3417\"\n",
    "response2 = requests.get(listing_url)\n",
    "page2 = response2.text\n",
    "main_page2 = BeautifulSoup(page2, 'lxml')"
   ]
  },
  {
   "cell_type": "code",
   "execution_count": 1030,
   "metadata": {},
   "outputs": [
    {
     "data": {
      "text/plain": [
       "[<div class=\"row_info\">\n",
       "                                         90,602 km (8.4k /yr)                                     </div>,\n",
       " <div class=\"row_info\">\n",
       "                                     \t$442 /yr\t\t\t\t\t\t\t\t\t</div>,\n",
       " <div class=\"row_info\">\n",
       "                                     \t$11,026 as of today (<a class=\"drg_pop\" href=\"/used_cars/popups/deregValue.php?ID=862831&amp;DL=3417\">change</a>)                                    </div>,\n",
       " <div class=\"row_info\">$13,024</div>,\n",
       " <div class=\"row_info\">\n",
       " \t\t\t\t\t\t\t\t\t1,086 cc                                    </div>,\n",
       " <div class=\"row_info\">\n",
       "                                     872 kg                                    </div>,\n",
       " <div class=\"row_info\">2008</div>,\n",
       " <div class=\"row_info\">Auto</div>,\n",
       " <div class=\"row_info\">$8,432</div>,\n",
       " <div class=\"row_info\">$8,432</div>,\n",
       " <div class=\"row_info\">47.1 kW (63 bhp)</div>,\n",
       " <div class=\"row_info\">2</div>]"
      ]
     },
     "execution_count": 1030,
     "metadata": {},
     "output_type": "execute_result"
    }
   ],
   "source": [
    "main_page2.find_all(class_='row_info')"
   ]
  },
  {
   "cell_type": "code",
   "execution_count": 1031,
   "metadata": {},
   "outputs": [
    {
     "data": {
      "text/plain": [
       "<div class=\"row_info\">\n",
       "                                    \t$11,026 as of today (<a class=\"drg_pop\" href=\"/used_cars/popups/deregValue.php?ID=862831&amp;DL=3417\">change</a>)                                    </div>"
      ]
     },
     "execution_count": 1031,
     "metadata": {},
     "output_type": "execute_result"
    }
   ],
   "source": [
    "main_page2.find_all(class_='row_info')[2]"
   ]
  },
  {
   "cell_type": "code",
   "execution_count": 1032,
   "metadata": {},
   "outputs": [
    {
     "data": {
      "text/plain": [
       "'\\r\\n                                    \\t$11,026 as of today (change)                                    '"
      ]
     },
     "execution_count": 1032,
     "metadata": {},
     "output_type": "execute_result"
    }
   ],
   "source": [
    "main_page2.find_all(class_='row_info')[2].text"
   ]
  },
  {
   "cell_type": "code",
   "execution_count": 1033,
   "metadata": {},
   "outputs": [
    {
     "data": {
      "text/plain": [
       "'$11,026 as of today (change)'"
      ]
     },
     "execution_count": 1033,
     "metadata": {},
     "output_type": "execute_result"
    }
   ],
   "source": [
    "main_page2.find_all(class_='row_info')[2].text.strip()"
   ]
  },
  {
   "cell_type": "code",
   "execution_count": 1050,
   "metadata": {},
   "outputs": [
    {
     "data": {
      "text/plain": [
       "['$11,026', 'as', 'of', 'today', '(change)']"
      ]
     },
     "execution_count": 1050,
     "metadata": {},
     "output_type": "execute_result"
    }
   ],
   "source": [
    "# 3 Scenarios:\n",
    "# ['NA']\n",
    "# ['$11,026 as of today']\n",
    "# ['$900 as of today']\n",
    "\n",
    "data_value = main_page2.find_all(class_='row_info')[2].text.strip().split()\n",
    "data_value"
   ]
  },
  {
   "cell_type": "code",
   "execution_count": 1037,
   "metadata": {},
   "outputs": [
    {
     "data": {
      "text/plain": [
       "11026"
      ]
     },
     "execution_count": 1037,
     "metadata": {},
     "output_type": "execute_result"
    }
   ],
   "source": [
    "# Write a function to retrieve dereg value from a parsed url\n",
    "\n",
    "def dereg_value_retrieval(parsed_url):\n",
    "    # Splits into ['NA'], or ['$11,026', 'as', 'of', 'today', '(change)'] or ['$900', 'as', 'of', 'today', '(change)']\n",
    "    data_value = parsed_url.find_all(class_='row_info')[2].text.strip().split() \n",
    "    \n",
    "    dereg_value_from_scrape_date = dereg_value_error_handler(data_value)\n",
    "    return dereg_value_from_scrape_date\n",
    "    \n",
    "\n",
    "def dereg_value_error_handler(data_value):\n",
    "    if len(data_value) < 2:  # Deals with ['NA'] scenario\n",
    "        dereg_value_from_scrape_date = np.nan\n",
    "\n",
    "    else: \n",
    "        data_value = data_value[0].split('$')[1] # Puts input into '11,026' or '900' format\n",
    "        try:                 \n",
    "            dereg_value_from_scrape_date = \\\n",
    "            int(data_value.split(',')[0] +\\\n",
    "                data_value.split(',')[1]) # Will fail on IndexError if tries to split '900' with a ',' in ['',900]\n",
    "        except IndexError: \n",
    "            dereg_value_from_scrape_date = int(data_value.strip())\n",
    "\n",
    "        return dereg_value_from_scrape_date\n",
    "    \n",
    "# url to parse from \"https://www.sgcarmart.com/used_cars/info.php?ID=862816&DL=2397\"\n",
    "listing_url = \"https://www.sgcarmart.com/used_cars/info.php?ID=862831&DL=3417\"\n",
    "response2 = requests.get(listing_url)\n",
    "page2 = response2.text\n",
    "main_page2 = BeautifulSoup(page2, 'lxml')\n",
    "\n",
    "dereg_value_retrieval(main_page2)"
   ]
  },
  {
   "cell_type": "code",
   "execution_count": 1018,
   "metadata": {},
   "outputs": [
    {
     "data": {
      "text/plain": [
       "11026"
      ]
     },
     "execution_count": 1018,
     "metadata": {},
     "output_type": "execute_result"
    }
   ],
   "source": [
    "# 3 Scenarios:\n",
    "# ['NA']\n",
    "# ['$11,026 as of today']\n",
    "# ['$900 as of today']\n",
    "\n",
    "\n",
    "# Splits into ['NA'], or ['$11,026', 'as', 'of', 'today', '(change)'] or ['$900', 'as', 'of', 'today', '(change)']\n",
    "data_value = main_page2.find_all(class_='row_info')[2].text.strip().split() \n",
    "\n",
    "if len(data_value) < 2:  # Deals with ['NA'] scenario\n",
    "    dereg_value_from_scrape_date = np.nan\n",
    "\n",
    "else: \n",
    "    data_value = data_value[0].split('$')[1] # Puts input into '11,026' or '900' format\n",
    "    try:                 \n",
    "        dereg_value_from_scrape_date = \\\n",
    "        int(data_value.split(',')[0] +\\\n",
    "            data_value.split(',')[1]) # Will fail on IndexError if tries to split '900' with a ',' in ['',900]\n",
    "    except IndexError: \n",
    "        dereg_value_from_scrape_date = int(data_value.strip())\n",
    "        \n"
   ]
  },
  {
   "cell_type": "markdown",
   "metadata": {},
   "source": [
    "### Section 2.10: OMV"
   ]
  },
  {
   "cell_type": "code",
   "execution_count": 1054,
   "metadata": {},
   "outputs": [],
   "source": [
    "# url to parse from \"https://www.sgcarmart.com/used_cars/info.php?ID=862816&DL=2397\"\n",
    "listing_url = \"https://www.sgcarmart.com/used_cars/info.php?ID=862869&DL=2976\"\n",
    "response2 = requests.get(listing_url)\n",
    "page2 = response2.text\n",
    "main_page2 = BeautifulSoup(page2, 'lxml')"
   ]
  },
  {
   "cell_type": "code",
   "execution_count": 1055,
   "metadata": {},
   "outputs": [
    {
     "data": {
      "text/plain": [
       "<div class=\"row_info\">$21,967</div>"
      ]
     },
     "execution_count": 1055,
     "metadata": {},
     "output_type": "execute_result"
    }
   ],
   "source": [
    "main_page2.find_all(class_='row_info')[8]"
   ]
  },
  {
   "cell_type": "code",
   "execution_count": 1056,
   "metadata": {},
   "outputs": [
    {
     "data": {
      "text/plain": [
       "'$21,967'"
      ]
     },
     "execution_count": 1056,
     "metadata": {},
     "output_type": "execute_result"
    }
   ],
   "source": [
    "main_page2.find_all(class_='row_info')[8].text"
   ]
  },
  {
   "cell_type": "code",
   "execution_count": 1057,
   "metadata": {},
   "outputs": [
    {
     "data": {
      "text/plain": [
       "['', '21,967']"
      ]
     },
     "execution_count": 1057,
     "metadata": {},
     "output_type": "execute_result"
    }
   ],
   "source": [
    "main_page2.find_all(class_='row_info')[8].text.split('$')"
   ]
  },
  {
   "cell_type": "code",
   "execution_count": 1058,
   "metadata": {},
   "outputs": [
    {
     "data": {
      "text/plain": [
       "['21', '967']"
      ]
     },
     "execution_count": 1058,
     "metadata": {},
     "output_type": "execute_result"
    }
   ],
   "source": [
    "main_page2.find_all(class_='row_info')[8].text.split('$')[1].split(',')"
   ]
  },
  {
   "cell_type": "code",
   "execution_count": 1059,
   "metadata": {},
   "outputs": [
    {
     "data": {
      "text/plain": [
       "'21967'"
      ]
     },
     "execution_count": 1059,
     "metadata": {},
     "output_type": "execute_result"
    }
   ],
   "source": [
    "main_page2.find_all(class_='row_info')[8].text.split('$')[1].split(',')[0] + main_page2.find_all(class_='row_info')[8].text.split('$')[1].split(',')[1]"
   ]
  },
  {
   "cell_type": "code",
   "execution_count": 1061,
   "metadata": {},
   "outputs": [
    {
     "data": {
      "text/plain": [
       "21967"
      ]
     },
     "execution_count": 1061,
     "metadata": {},
     "output_type": "execute_result"
    }
   ],
   "source": [
    "# Include an NA handling case\n",
    "# 3 scenarios:\n",
    "# 'NA'\n",
    "# '$21,967'\n",
    "# '$900'\n",
    "\n",
    "data_value = main_page2.find_all(class_='row_info')[8].text.split('$') \n",
    "# Splits data into ['', '21,967'], ['','900'] or ['NA'] format\n",
    "\n",
    "if len(data_value) < 2:\n",
    "    omv = np.nan\n",
    "    \n",
    "else:\n",
    "    try:\n",
    "        omv = int(main_page2.find_all(class_='row_info')[8].text.split('$')[1].split(',')[0] +\\\n",
    "                  main_page2.find_all(class_='row_info')[8].text.split('$')[1].split(',')[1])  # Will fail on index error if try to split 900\n",
    "    except IndexError:\n",
    "        omv = int(main_page2.find_all(class_='row_info')[8].text.split('$')[1])\n",
    "omv"
   ]
  },
  {
   "cell_type": "code",
   "execution_count": 1070,
   "metadata": {},
   "outputs": [
    {
     "data": {
      "text/plain": [
       "21967"
      ]
     },
     "execution_count": 1070,
     "metadata": {},
     "output_type": "execute_result"
    }
   ],
   "source": [
    "# Define a function that retrieves omv based on a parsed listing url\n",
    "def omv_error_handler(data_value):\n",
    "    if len(data_value) < 2:  # deals iwth ['NA'] input\n",
    "        omv = np.nan\n",
    "\n",
    "    else:\n",
    "        try:\n",
    "            omv = int(main_page2.find_all(class_='row_info')[8].text.split('$')[1].split(',')[0] +\\\n",
    "                      main_page2.find_all(class_='row_info')[8].text.split('$')[1].split(',')[1])  # Will fail on index error if try to split 900\n",
    "        except IndexError:\n",
    "            omv = int(main_page2.find_all(class_='row_info')[8].text.split('$')[1])\n",
    "    return omv\n",
    "\n",
    "\n",
    "def omv_retrieval(parsed_url):\n",
    "    data_value = main_page2.find_all(class_='row_info')[8].text.split('$') \n",
    "    # Splits data into ['', '21,967'], ['','900'] or ['NA'] format for input into error function\n",
    "    \n",
    "    omv = omv_error_handler(data_value)\n",
    "    return omv     \n",
    "\n",
    "\n",
    "listing_url = \"https://www.sgcarmart.com/used_cars/info.php?ID=862869&DL=2976\"\n",
    "response2 = requests.get(listing_url)\n",
    "page2 = response2.text\n",
    "main_page2 = BeautifulSoup(page2, 'lxml')\n",
    "\n",
    "omv_retrieval(main_page2)"
   ]
  },
  {
   "cell_type": "markdown",
   "metadata": {},
   "source": [
    "### Section 2.11: COE as of Today"
   ]
  },
  {
   "cell_type": "code",
   "execution_count": 1096,
   "metadata": {},
   "outputs": [],
   "source": [
    "listing_url = \"https://www.sgcarmart.com/used_cars/info.php?ID=862874&DL=2854\"\n",
    "response2 = requests.get(listing_url)\n",
    "page2 = response2.text\n",
    "main_page2 = BeautifulSoup(page2, 'lxml')"
   ]
  },
  {
   "cell_type": "code",
   "execution_count": 1097,
   "metadata": {
    "scrolled": true
   },
   "outputs": [
    {
     "data": {
      "text/plain": [
       "[<div class=\"row_info\">\n",
       "                                         N.A.                                     </div>,\n",
       " <div class=\"row_info\">\n",
       "                                     \tN.A.\t\t\t\t\t\t\t\t\t</div>,\n",
       " <div class=\"row_info\">\n",
       "                                     \t$27,873 as of today (<a class=\"drg_pop\" href=\"/used_cars/popups/deregValue.php?ID=862874&amp;DL=2854\">change</a>)                                    </div>,\n",
       " <div class=\"row_info\">$42,302</div>,\n",
       " <div class=\"row_info\">\n",
       " \t\t\t\t\t\t\t\t\t2,999 cc                                    </div>,\n",
       " <div class=\"row_info\">\n",
       "                                     2,500 kg                                    </div>,\n",
       " <div class=\"row_info\">2015</div>,\n",
       " <div class=\"row_info\">Manual</div>,\n",
       " <div class=\"row_info\">$30,804</div>,\n",
       " <div class=\"row_info\">$1,541</div>,\n",
       " <div class=\"row_info\">1</div>]"
      ]
     },
     "execution_count": 1097,
     "metadata": {},
     "output_type": "execute_result"
    }
   ],
   "source": [
    "main_page2.find_all(class_='row_info')"
   ]
  },
  {
   "cell_type": "code",
   "execution_count": 1098,
   "metadata": {},
   "outputs": [
    {
     "data": {
      "text/plain": [
       "<div class=\"row_info\">$42,302</div>"
      ]
     },
     "execution_count": 1098,
     "metadata": {},
     "output_type": "execute_result"
    }
   ],
   "source": [
    "main_page2.find_all(class_='row_info')[3]"
   ]
  },
  {
   "cell_type": "code",
   "execution_count": 1099,
   "metadata": {},
   "outputs": [],
   "source": [
    "data_value = main_page2.find_all(class_='row_info')[3].text.split('$')"
   ]
  },
  {
   "cell_type": "code",
   "execution_count": 1100,
   "metadata": {},
   "outputs": [
    {
     "data": {
      "text/plain": [
       "['', '42,302']"
      ]
     },
     "execution_count": 1100,
     "metadata": {},
     "output_type": "execute_result"
    }
   ],
   "source": [
    "data_value"
   ]
  },
  {
   "cell_type": "code",
   "execution_count": 1101,
   "metadata": {},
   "outputs": [
    {
     "data": {
      "text/plain": [
       "'42,302'"
      ]
     },
     "execution_count": 1101,
     "metadata": {},
     "output_type": "execute_result"
    }
   ],
   "source": [
    "data_value[1]"
   ]
  },
  {
   "cell_type": "code",
   "execution_count": 1102,
   "metadata": {},
   "outputs": [
    {
     "data": {
      "text/plain": [
       "'42302'"
      ]
     },
     "execution_count": 1102,
     "metadata": {},
     "output_type": "execute_result"
    }
   ],
   "source": [
    "data_value[1].split(',')[0] + data_value[1].split(',')[1]"
   ]
  },
  {
   "cell_type": "code",
   "execution_count": 1106,
   "metadata": {},
   "outputs": [
    {
     "data": {
      "text/plain": [
       "42302"
      ]
     },
     "execution_count": 1106,
     "metadata": {},
     "output_type": "execute_result"
    }
   ],
   "source": [
    "# Write a function to retrieve COE as of today from a parsed listing url\n",
    "def coe_error_handler(data_value):\n",
    "    if len(data_value) < 2:  # deals iwth ['NA'] input\n",
    "        coe_from_scrape_date = np.nan\n",
    "\n",
    "    else:\n",
    "        try:\n",
    "            coe_from_scrape_date = int(data_value[1].split(',')[0] +\\\n",
    "                                       data_value[1].split(',')[1])  # Will fail on index error if try to split 900\n",
    "        except IndexError:\n",
    "            coe_from_scrape_date = int(data_value[1])\n",
    "    return coe_from_scrape_date\n",
    "\n",
    "\n",
    "def coe_retrieval(parsed_url):\n",
    "    data_value = parsed_url.find_all(class_='row_info')[3].text.split('$')\n",
    "    \n",
    "    coe_from_scrape_date = coe_error_handler(data_value)\n",
    "    return coe_from_scrape_date\n",
    "    \n",
    "    \n",
    "listing_url = \"https://www.sgcarmart.com/used_cars/info.php?ID=862874&DL=2854\"\n",
    "response2 = requests.get(listing_url)\n",
    "page2 = response2.text\n",
    "main_page2 = BeautifulSoup(page2, 'lxml')\n",
    "\n",
    "coe_retrieval(main_page2)"
   ]
  },
  {
   "cell_type": "markdown",
   "metadata": {},
   "source": [
    "### Section 2.12: ARF "
   ]
  },
  {
   "cell_type": "code",
   "execution_count": 1110,
   "metadata": {},
   "outputs": [],
   "source": [
    "listing_url = \"https://www.sgcarmart.com/used_cars/info.php?ID=862874&DL=2854\"\n",
    "response2 = requests.get(listing_url)\n",
    "page2 = response2.text\n",
    "main_page2 = BeautifulSoup(page2, 'lxml')"
   ]
  },
  {
   "cell_type": "code",
   "execution_count": 1111,
   "metadata": {
    "scrolled": true
   },
   "outputs": [
    {
     "data": {
      "text/plain": [
       "<div class=\"row_info\">$1,541</div>"
      ]
     },
     "execution_count": 1111,
     "metadata": {},
     "output_type": "execute_result"
    }
   ],
   "source": [
    "main_page2.find_all(class_='row_info')[9]"
   ]
  },
  {
   "cell_type": "code",
   "execution_count": 1112,
   "metadata": {},
   "outputs": [
    {
     "data": {
      "text/plain": [
       "'$1,541'"
      ]
     },
     "execution_count": 1112,
     "metadata": {},
     "output_type": "execute_result"
    }
   ],
   "source": [
    "main_page2.find_all(class_='row_info')[9].text"
   ]
  },
  {
   "cell_type": "code",
   "execution_count": 1114,
   "metadata": {},
   "outputs": [
    {
     "data": {
      "text/plain": [
       "['', '1,541']"
      ]
     },
     "execution_count": 1114,
     "metadata": {},
     "output_type": "execute_result"
    }
   ],
   "source": [
    "data_value = main_page2.find_all(class_='row_info')[9].text.split('$')\n",
    "data_value"
   ]
  },
  {
   "cell_type": "code",
   "execution_count": 1115,
   "metadata": {},
   "outputs": [
    {
     "data": {
      "text/plain": [
       "1541"
      ]
     },
     "execution_count": 1115,
     "metadata": {},
     "output_type": "execute_result"
    }
   ],
   "source": [
    "# Write a function that retrieves ARF based on a parsed listing url\n",
    "def error_handler(data_value):\n",
    "    if len(data_value) < 2:  # deals iwth ['NA'] input\n",
    "        desired_value = np.nan\n",
    "\n",
    "    else:\n",
    "        try:\n",
    "            desired_value = int(data_value[1].split(',')[0] +\\\n",
    "                                       data_value[1].split(',')[1])  # Will fail on index error if try to split 900\n",
    "        except IndexError:\n",
    "            desired_value = int(data_value[1])\n",
    "    return desired_value\n",
    "\n",
    "\n",
    "def arf_retrieval(parsed_url):\n",
    "    data_value = parsed_url.find_all(class_='row_info')[9].text.split('$')\n",
    "    arf = error_handler(data_value)\n",
    "    return arf\n",
    "    \n",
    "    \n",
    "listing_url = \"https://www.sgcarmart.com/used_cars/info.php?ID=862874&DL=2854\"\n",
    "response2 = requests.get(listing_url)\n",
    "page2 = response2.text\n",
    "main_page2 = BeautifulSoup(page2, 'lxml')\n",
    "\n",
    "arf_retrieval(main_page2)\n",
    "    "
   ]
  },
  {
   "cell_type": "markdown",
   "metadata": {},
   "source": [
    "### Section 2.13: Engine Capacity (cc)"
   ]
  },
  {
   "cell_type": "code",
   "execution_count": 1116,
   "metadata": {},
   "outputs": [
    {
     "data": {
      "text/plain": [
       "[<div class=\"row_info\">\n",
       "                                         N.A.                                     </div>,\n",
       " <div class=\"row_info\">\n",
       "                                     \tN.A.\t\t\t\t\t\t\t\t\t</div>,\n",
       " <div class=\"row_info\">\n",
       "                                     \t$27,873 as of today (<a class=\"drg_pop\" href=\"/used_cars/popups/deregValue.php?ID=862874&amp;DL=2854\">change</a>)                                    </div>,\n",
       " <div class=\"row_info\">$42,302</div>,\n",
       " <div class=\"row_info\">\n",
       " \t\t\t\t\t\t\t\t\t2,999 cc                                    </div>,\n",
       " <div class=\"row_info\">\n",
       "                                     2,500 kg                                    </div>,\n",
       " <div class=\"row_info\">2015</div>,\n",
       " <div class=\"row_info\">Manual</div>,\n",
       " <div class=\"row_info\">$30,804</div>,\n",
       " <div class=\"row_info\">$1,541</div>,\n",
       " <div class=\"row_info\">1</div>]"
      ]
     },
     "execution_count": 1116,
     "metadata": {},
     "output_type": "execute_result"
    }
   ],
   "source": [
    "main_page2.find_all(class_='row_info')"
   ]
  },
  {
   "cell_type": "code",
   "execution_count": 1117,
   "metadata": {},
   "outputs": [
    {
     "data": {
      "text/plain": [
       "<div class=\"row_info\">\n",
       "\t\t\t\t\t\t\t\t\t2,999 cc                                    </div>"
      ]
     },
     "execution_count": 1117,
     "metadata": {},
     "output_type": "execute_result"
    }
   ],
   "source": [
    "main_page2.find_all(class_='row_info')[4]"
   ]
  },
  {
   "cell_type": "code",
   "execution_count": 1118,
   "metadata": {},
   "outputs": [
    {
     "data": {
      "text/plain": [
       "'\\r\\n\\t\\t\\t\\t\\t\\t\\t\\t\\t2,999 cc                                    '"
      ]
     },
     "execution_count": 1118,
     "metadata": {},
     "output_type": "execute_result"
    }
   ],
   "source": [
    "main_page2.find_all(class_='row_info')[4].text"
   ]
  },
  {
   "cell_type": "code",
   "execution_count": 1119,
   "metadata": {},
   "outputs": [
    {
     "data": {
      "text/plain": [
       "'2,999 cc'"
      ]
     },
     "execution_count": 1119,
     "metadata": {},
     "output_type": "execute_result"
    }
   ],
   "source": [
    "main_page2.find_all(class_='row_info')[4].text.strip()"
   ]
  },
  {
   "cell_type": "code",
   "execution_count": 1121,
   "metadata": {},
   "outputs": [
    {
     "data": {
      "text/plain": [
       "['2,999 ', '']"
      ]
     },
     "execution_count": 1121,
     "metadata": {},
     "output_type": "execute_result"
    }
   ],
   "source": [
    "data_value = main_page2.find_all(class_='row_info')[4].text.strip().split('cc')\n",
    "data_value"
   ]
  },
  {
   "cell_type": "code",
   "execution_count": 1123,
   "metadata": {},
   "outputs": [
    {
     "data": {
      "text/plain": [
       "1461"
      ]
     },
     "execution_count": 1123,
     "metadata": {},
     "output_type": "execute_result"
    }
   ],
   "source": [
    "def engine_capacity_error_handler(data_value):\n",
    "    if len(data_value) < 2:  # deals iwth ['NA'] input\n",
    "        desired_value = np.nan\n",
    "\n",
    "    else:\n",
    "        try:\n",
    "            desired_value = int(data_value[0].split(',')[0] +\\\n",
    "                                       data_value[0].split(',')[1])  # Will fail on index error if try to split 900\n",
    "        except IndexError:\n",
    "            desired_value = int(data_value[0])\n",
    "    return desired_value\n",
    "\n",
    "\n",
    "def engine_capacity_retrieval(parsed_url):\n",
    "    data_value = main_page2.find_all(class_='row_info')[4].text.strip().split('cc')\n",
    "    \n",
    "    engine_capacity = engine_capacity_error_handler(data_value)\n",
    "    return engine_capacity\n",
    "\n",
    "\n",
    "\n",
    "\n",
    "listing_url = \"https://www.sgcarmart.com/used_cars/info.php?ID=862869&DL=2976\"\n",
    "response2 = requests.get(listing_url)\n",
    "page2 = response2.text\n",
    "main_page2 = BeautifulSoup(page2, 'lxml')\n",
    "\n",
    "engine_capacity_retrieval(main_page2)\n"
   ]
  },
  {
   "cell_type": "markdown",
   "metadata": {},
   "source": [
    "### Section 2.13: Power (kW) (FOR FUTURE CONSIDERATION. NO TIME TO SCRAPE ALREADY)"
   ]
  },
  {
   "cell_type": "code",
   "execution_count": 1135,
   "metadata": {},
   "outputs": [],
   "source": [
    "listing_url = \"https://www.sgcarmart.com/used_cars/info.php?ID=862831&DL=3417\"\n",
    "response2 = requests.get(listing_url)\n",
    "page2 = response2.text\n",
    "main_page2 = BeautifulSoup(page2, 'lxml')"
   ]
  },
  {
   "cell_type": "code",
   "execution_count": 1136,
   "metadata": {},
   "outputs": [
    {
     "data": {
      "text/plain": [
       "[<div class=\"row_info\">\n",
       "                                         90,602 km (8.4k /yr)                                     </div>,\n",
       " <div class=\"row_info\">\n",
       "                                     \t$442 /yr\t\t\t\t\t\t\t\t\t</div>,\n",
       " <div class=\"row_info\">\n",
       "                                     \t$11,026 as of today (<a class=\"drg_pop\" href=\"/used_cars/popups/deregValue.php?ID=862831&amp;DL=3417\">change</a>)                                    </div>,\n",
       " <div class=\"row_info\">$13,024</div>,\n",
       " <div class=\"row_info\">\n",
       " \t\t\t\t\t\t\t\t\t1,086 cc                                    </div>,\n",
       " <div class=\"row_info\">\n",
       "                                     872 kg                                    </div>,\n",
       " <div class=\"row_info\">2008</div>,\n",
       " <div class=\"row_info\">Auto</div>,\n",
       " <div class=\"row_info\">$8,432</div>,\n",
       " <div class=\"row_info\">$8,432</div>,\n",
       " <div class=\"row_info\">47.1 kW (63 bhp)</div>,\n",
       " <div class=\"row_info\">2</div>]"
      ]
     },
     "execution_count": 1136,
     "metadata": {},
     "output_type": "execute_result"
    }
   ],
   "source": [
    "main_page2.find_all(class_='row_info')"
   ]
  },
  {
   "cell_type": "code",
   "execution_count": 1137,
   "metadata": {},
   "outputs": [
    {
     "data": {
      "text/plain": [
       "'47.1 kW (63 bhp)'"
      ]
     },
     "execution_count": 1137,
     "metadata": {},
     "output_type": "execute_result"
    }
   ],
   "source": [
    "main_page2.find_all(class_='row_info')[-2].text"
   ]
  },
  {
   "cell_type": "code",
   "execution_count": 1138,
   "metadata": {},
   "outputs": [
    {
     "data": {
      "text/plain": [
       "['47.1', 'kW', '(63', 'bhp)']"
      ]
     },
     "execution_count": 1138,
     "metadata": {},
     "output_type": "execute_result"
    }
   ],
   "source": [
    "main_page2.find_all(class_='row_info')[-2].text.split()"
   ]
  },
  {
   "cell_type": "code",
   "execution_count": 1139,
   "metadata": {},
   "outputs": [
    {
     "data": {
      "text/plain": [
       "47.1"
      ]
     },
     "execution_count": 1139,
     "metadata": {},
     "output_type": "execute_result"
    }
   ],
   "source": [
    "power_kw = float(main_page2.find_all(class_='row_info')[-2].text.split()[0])\n",
    "power_kw"
   ]
  },
  {
   "cell_type": "markdown",
   "metadata": {},
   "source": [
    "## Curb Weight"
   ]
  },
  {
   "cell_type": "code",
   "execution_count": 1144,
   "metadata": {},
   "outputs": [],
   "source": [
    "listing_url = \"https://www.sgcarmart.com/used_cars/info.php?ID=862869&DL=2976\"\n",
    "response2 = requests.get(listing_url)\n",
    "page2 = response2.text\n",
    "main_page2 = BeautifulSoup(page2, 'lxml')"
   ]
  },
  {
   "cell_type": "code",
   "execution_count": 1145,
   "metadata": {},
   "outputs": [
    {
     "data": {
      "text/plain": [
       "<div class=\"row_info\">\n",
       "                                    1,280 kg                                    </div>"
      ]
     },
     "execution_count": 1145,
     "metadata": {},
     "output_type": "execute_result"
    }
   ],
   "source": [
    "main_page2.find_all(class_='row_info')[5]"
   ]
  },
  {
   "cell_type": "code",
   "execution_count": 1146,
   "metadata": {},
   "outputs": [
    {
     "data": {
      "text/plain": [
       "'\\r\\n                                    1,280 kg                                    '"
      ]
     },
     "execution_count": 1146,
     "metadata": {},
     "output_type": "execute_result"
    }
   ],
   "source": [
    "main_page2.find_all(class_='row_info')[5].text"
   ]
  },
  {
   "cell_type": "code",
   "execution_count": 1148,
   "metadata": {
    "scrolled": true
   },
   "outputs": [
    {
     "data": {
      "text/plain": [
       "['1,280', 'kg']"
      ]
     },
     "execution_count": 1148,
     "metadata": {},
     "output_type": "execute_result"
    }
   ],
   "source": [
    "data_value = main_page2.find_all(class_='row_info')[5].text.split()"
   ]
  },
  {
   "cell_type": "code",
   "execution_count": 1151,
   "metadata": {},
   "outputs": [
    {
     "data": {
      "text/plain": [
       "872"
      ]
     },
     "execution_count": 1151,
     "metadata": {},
     "output_type": "execute_result"
    }
   ],
   "source": [
    "def curb_weight_error_handler(data_value):\n",
    "    if len(data_value) < 2:  # deals iwth ['NA'] input\n",
    "        desired_value = np.nan\n",
    "\n",
    "    else:\n",
    "        try:\n",
    "            desired_value = int(data_value[0].split(',')[0] +\\\n",
    "                                       data_value[0].split(',')[1])  # Will fail on index error if try to split 900\n",
    "        except IndexError:\n",
    "            desired_value = int(data_value[0])\n",
    "    return desired_value\n",
    "\n",
    "\n",
    "def curb_weight_retrieval(parsed_url):\n",
    "    data_value = parsed_url.find_all(class_='row_info')[5].text.split()\n",
    "    curb_weight = curb_weight_error_handler(data_value)\n",
    "    return curb_weight\n",
    "\n",
    "\n",
    "listing_url = \"https://www.sgcarmart.com/used_cars/info.php?ID=862831&DL=3417\"\n",
    "response2 = requests.get(listing_url)\n",
    "page2 = response2.text\n",
    "main_page2 = BeautifulSoup(page2, 'lxml')\n",
    "\n",
    "curb_weight_retrieval(main_page2)\n",
    "    "
   ]
  },
  {
   "cell_type": "markdown",
   "metadata": {},
   "source": [
    "### Section 2.15: No. of owners"
   ]
  },
  {
   "cell_type": "code",
   "execution_count": 1159,
   "metadata": {
    "scrolled": false
   },
   "outputs": [],
   "source": [
    "listing_url = \"https://www.sgcarmart.com/used_cars/info.php?ID=862874&DL=2854\"\n",
    "response2 = requests.get(listing_url)\n",
    "page2 = response2.text\n",
    "main_page2 = BeautifulSoup(page2, 'lxml')"
   ]
  },
  {
   "cell_type": "code",
   "execution_count": 1157,
   "metadata": {},
   "outputs": [
    {
     "data": {
      "text/plain": [
       "<div class=\"row_info\">1</div>"
      ]
     },
     "execution_count": 1157,
     "metadata": {},
     "output_type": "execute_result"
    }
   ],
   "source": [
    "main_page2.find_all(class_='row_info')[-1]"
   ]
  },
  {
   "cell_type": "code",
   "execution_count": 1164,
   "metadata": {},
   "outputs": [
    {
     "data": {
      "text/plain": [
       "4"
      ]
     },
     "execution_count": 1164,
     "metadata": {},
     "output_type": "execute_result"
    }
   ],
   "source": [
    "# Define a function to retrieve the no of owners from a parsed listing url\n",
    "def owner_retrieval(parsed_url):\n",
    "    no_of_owners = int(parsed_url.find_all(class_='row_info')[-1].text)\n",
    "    return no_of_owners\n",
    "\n",
    "listing_url = \"https://www.sgcarmart.com/used_cars/info.php?ID=862832&DL=2934\"\n",
    "response2 = requests.get(listing_url)\n",
    "page2 = response2.text\n",
    "main_page2 = BeautifulSoup(page2, 'lxml')\n",
    "\n",
    "owner_retrieval(main_page2)"
   ]
  },
  {
   "cell_type": "markdown",
   "metadata": {},
   "source": [
    "### Section 2.16: Type of Vehicle"
   ]
  },
  {
   "cell_type": "code",
   "execution_count": null,
   "metadata": {},
   "outputs": [],
   "source": [
    "listing_url = \"https://www.sgcarmart.com/used_cars/info.php?ID=862874&DL=2854\"\n",
    "response2 = requests.get(listing_url)\n",
    "page2 = response2.text\n",
    "main_page2 = BeautifulSoup(page2, 'lxml')"
   ]
  },
  {
   "cell_type": "code",
   "execution_count": 1165,
   "metadata": {},
   "outputs": [
    {
     "data": {
      "text/plain": [
       "<tr class=\"row_bg1\">\n",
       "<td width=\"115\"><strong>Type of Vehicle</strong></td>\n",
       "<td colspan=\"3\"><a href=\"listing.php?VEH=12\">Luxury Sedan</a></td>\n",
       "</tr>"
      ]
     },
     "execution_count": 1165,
     "metadata": {},
     "output_type": "execute_result"
    }
   ],
   "source": [
    "main_page2.find(class_='row_bg1')"
   ]
  },
  {
   "cell_type": "code",
   "execution_count": 1170,
   "metadata": {},
   "outputs": [
    {
     "data": {
      "text/plain": [
       "[<a href=\"listing.php?VEH=12\">Luxury Sedan</a>]"
      ]
     },
     "execution_count": 1170,
     "metadata": {},
     "output_type": "execute_result"
    }
   ],
   "source": [
    "main_page2.find(class_='row_bg1').find_all('a')"
   ]
  },
  {
   "cell_type": "code",
   "execution_count": 1172,
   "metadata": {},
   "outputs": [
    {
     "data": {
      "text/plain": [
       "'Luxury Sedan'"
      ]
     },
     "execution_count": 1172,
     "metadata": {},
     "output_type": "execute_result"
    }
   ],
   "source": [
    "main_page2.find(class_='row_bg1').find_all('a')[0].text"
   ]
  },
  {
   "cell_type": "code",
   "execution_count": 1177,
   "metadata": {},
   "outputs": [
    {
     "data": {
      "text/plain": [
       "'Van'"
      ]
     },
     "execution_count": 1177,
     "metadata": {},
     "output_type": "execute_result"
    }
   ],
   "source": [
    "# Define a function that returns the type of vehicle given a parsed listing url\n",
    "\n",
    "def type_of_vehicle_retrieval(parsed_url):\n",
    "    type_of_vehicle = parsed_url.find(class_='row_bg1').find_all('a')[0].text\n",
    "    return type_of_vehicle\n",
    "\n",
    "\n",
    "listing_url = \"https://www.sgcarmart.com/used_cars/info.php?ID=862869&DL=2976\"\n",
    "response2 = requests.get(listing_url)\n",
    "page2 = response2.text\n",
    "main_page2 = BeautifulSoup(page2, 'lxml')\n",
    "\n",
    "type_of_vehicle_retrieval(main_page2)"
   ]
  },
  {
   "cell_type": "code",
   "execution_count": null,
   "metadata": {},
   "outputs": [],
   "source": []
  },
  {
   "cell_type": "code",
   "execution_count": null,
   "metadata": {},
   "outputs": [],
   "source": []
  },
  {
   "cell_type": "code",
   "execution_count": null,
   "metadata": {},
   "outputs": [],
   "source": []
  }
 ],
 "metadata": {
  "kernelspec": {
   "display_name": "Python [conda env:metis] *",
   "language": "python",
   "name": "conda-env-metis-py"
  },
  "language_info": {
   "codemirror_mode": {
    "name": "ipython",
    "version": 3
   },
   "file_extension": ".py",
   "mimetype": "text/x-python",
   "name": "python",
   "nbconvert_exporter": "python",
   "pygments_lexer": "ipython3",
   "version": "3.7.3"
  }
 },
 "nbformat": 4,
 "nbformat_minor": 2
}
